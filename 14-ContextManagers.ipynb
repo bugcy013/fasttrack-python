{
 "metadata": {
  "name": "",
  "signature": "sha256:a78244408c3d77c0bbfa8f7cb4992c45ab72620283aedb28ee99f9a07c7ff011"
 },
 "nbformat": 3,
 "nbformat_minor": 0,
 "worksheets": [
  {
   "cells": [
    {
     "cell_type": "markdown",
     "metadata": {},
     "source": [
      "# Context Managers"
     ]
    },
    {
     "cell_type": "code",
     "collapsed": false,
     "input": [
      "with open('/etc/hosts') as fp:\n",
      "    print fp.read()\n",
      "print fp"
     ],
     "language": "python",
     "metadata": {},
     "outputs": [
      {
       "output_type": "stream",
       "stream": "stdout",
       "text": [
        "127.0.0.1\tlocalhost\n",
        "127.0.1.1\tprecise64\n",
        "\n",
        "# The following lines are desirable for IPv6 capable hosts\n",
        "::1     ip6-localhost ip6-loopback\n",
        "fe00::0 ip6-localnet\n",
        "ff00::0 ip6-mcastprefix\n",
        "ff02::1 ip6-allnodes\n",
        "ff02::2 ip6-allrouters\n",
        "\n",
        "<closed file '/etc/hosts', mode 'r' at 0x1dd61e0>\n"
       ]
      }
     ],
     "prompt_number": 1
    },
    {
     "cell_type": "code",
     "collapsed": false,
     "input": [
      "try:\n",
      "    with open('/etc/hosts') as fp:\n",
      "        raise KeyError\n",
      "        print fp.read()\n",
      "except KeyError:\n",
      "    print 'handle keyerror'\n",
      "\n",
      "print fp"
     ],
     "language": "python",
     "metadata": {},
     "outputs": [
      {
       "output_type": "stream",
       "stream": "stdout",
       "text": [
        "handle keyerror\n",
        "<closed file '/etc/hosts', mode 'r' at 0x1dd6300>\n"
       ]
      }
     ],
     "prompt_number": 2
    },
    {
     "cell_type": "code",
     "collapsed": false,
     "input": [
      "with open('/etc/hosts') as fp_i, open('/tmp/hosts', 'w') as fp_o:\n",
      "    fp_o.write(fp_i.read())"
     ],
     "language": "python",
     "metadata": {},
     "outputs": [],
     "prompt_number": 3
    },
    {
     "cell_type": "code",
     "collapsed": false,
     "input": [
      "with open('/tmp/hosts') as fp:\n",
      "    print fp.read()"
     ],
     "language": "python",
     "metadata": {},
     "outputs": [
      {
       "output_type": "stream",
       "stream": "stdout",
       "text": [
        "127.0.0.1\tlocalhost\n",
        "127.0.1.1\tprecise64\n",
        "\n",
        "# The following lines are desirable for IPv6 capable hosts\n",
        "::1     ip6-localhost ip6-loopback\n",
        "fe00::0 ip6-localnet\n",
        "ff00::0 ip6-mcastprefix\n",
        "ff02::1 ip6-allnodes\n",
        "ff02::2 ip6-allrouters\n",
        "\n"
       ]
      }
     ],
     "prompt_number": 4
    },
    {
     "cell_type": "markdown",
     "metadata": {},
     "source": [
      "## Context manager protocol"
     ]
    },
    {
     "cell_type": "code",
     "collapsed": true,
     "input": [
      "class CM(object):\n",
      "    def __enter__(self):\n",
      "        print 'Entering CM'\n",
      "        return self\n",
      "    def __exit__(self, ex_type, ex_val, ex_tb):\n",
      "        print 'Exiting CM'\n",
      "        if ex_type == KeyError: \n",
      "            # Re-raise same exception\n",
      "            return False\n",
      "        # Don't re-raise\n",
      "        if ex_type is not None:\n",
      "            print 'Swallowing %s inside CM' % ex_type\n",
      "        return True"
     ],
     "language": "python",
     "metadata": {},
     "outputs": [],
     "prompt_number": 7
    },
    {
     "cell_type": "code",
     "collapsed": false,
     "input": [
      "with CM() as cm:\n",
      "    print 'Inside with statement', cm"
     ],
     "language": "python",
     "metadata": {},
     "outputs": [
      {
       "output_type": "stream",
       "stream": "stdout",
       "text": [
        "Entering CM\n",
        "Inside with statement <__main__.CM object at 0x1ed1110>\n",
        "Exiting CM\n"
       ]
      }
     ],
     "prompt_number": 8
    },
    {
     "cell_type": "code",
     "collapsed": false,
     "input": [
      "try:\n",
      "    with CM():\n",
      "        print 'About to raise KeyError'\n",
      "        raise KeyError\n",
      "except KeyError:\n",
      "    print 'Catching KeyError outside CM'"
     ],
     "language": "python",
     "metadata": {},
     "outputs": [
      {
       "output_type": "stream",
       "stream": "stdout",
       "text": [
        "Entering CM\n",
        "About to raise KeyError\n",
        "Exiting CM\n",
        "Catching KeyError outside CM\n"
       ]
      }
     ],
     "prompt_number": 11
    },
    {
     "cell_type": "code",
     "collapsed": false,
     "input": [
      "with CM():\n",
      "    print 'About to raise ValueError'\n",
      "    raise ValueError"
     ],
     "language": "python",
     "metadata": {},
     "outputs": [
      {
       "output_type": "stream",
       "stream": "stdout",
       "text": [
        "Entering CM\n",
        "About to raise ValueError\n",
        "Exiting CM\n",
        "Swallowing <type 'exceptions.ValueError'> inside CM\n"
       ]
      }
     ],
     "prompt_number": 12
    },
    {
     "cell_type": "markdown",
     "metadata": {},
     "source": [
      "### Exercises\n",
      "\n",
      "- Write a context manager that logs the entry and exit of a block of code (similar to the\n",
      "  decorator before)\n",
      "- Write a context manager that prints out balanced XML nodes. Use the test code below.\n",
      "\n",
      "Test code:\n",
      "\n",
      "    with node('html'):\n",
      "        with node('body'):\n",
      "            with node('h1'):\n",
      "                 print 'Page Title'\n",
      "\n",
      "You should see the following result:\n",
      "\n",
      "    <html>\n",
      "    <body>\n",
      "    <h1>\n",
      "    Page Title\n",
      "    </h1>\n",
      "    </body>\n",
      "    </html>"
     ]
    },
    {
     "cell_type": "markdown",
     "metadata": {},
     "source": [
      "## Contextlib"
     ]
    },
    {
     "cell_type": "code",
     "collapsed": true,
     "input": [
      "import contextlib"
     ],
     "language": "python",
     "metadata": {},
     "outputs": [],
     "prompt_number": 13
    },
    {
     "cell_type": "code",
     "collapsed": false,
     "input": [
      "@contextlib.contextmanager\n",
      "def so_much_easier():\n",
      "    print 'Entering block'\n",
      "    try:\n",
      "        yield \n",
      "        print 'Exiting block cleanly'\n",
      "    except:\n",
      "        print 'Exiting block with exception'"
     ],
     "language": "python",
     "metadata": {},
     "outputs": [],
     "prompt_number": 14
    },
    {
     "cell_type": "code",
     "collapsed": false,
     "input": [
      "with so_much_easier():\n",
      "    print 'Inside block'"
     ],
     "language": "python",
     "metadata": {},
     "outputs": [
      {
       "output_type": "stream",
       "stream": "stdout",
       "text": [
        "Entering block\n",
        "Inside block\n",
        "Exiting block cleanly\n"
       ]
      }
     ],
     "prompt_number": 15
    },
    {
     "cell_type": "code",
     "collapsed": false,
     "input": [
      "with so_much_easier():\n",
      "    print 'Raising ValueError'\n",
      "    raise ValueError"
     ],
     "language": "python",
     "metadata": {},
     "outputs": [
      {
       "output_type": "stream",
       "stream": "stdout",
       "text": [
        "Entering block\n",
        "Raising ValueError\n",
        "Exiting block with exception\n"
       ]
      }
     ],
     "prompt_number": 16
    },
    {
     "cell_type": "markdown",
     "metadata": {},
     "source": [
      "`contextlib` also provides a facility to support the `with` statement with context manager-like\n",
      "objects that don't actually support the protocol, but *do* have a `close()` method:"
     ]
    },
    {
     "cell_type": "code",
     "collapsed": true,
     "input": [
      "class MyClass(object):\n",
      "    def __init__(self):\n",
      "        print 'Perform some resource acquisition'\n",
      "    def close(self):\n",
      "        print 'Close the resource'"
     ],
     "language": "python",
     "metadata": {},
     "outputs": [],
     "prompt_number": 17
    },
    {
     "cell_type": "code",
     "collapsed": false,
     "input": [
      "with contextlib.closing(MyClass()) as myobj:\n",
      "    print 'myobj is', myobj"
     ],
     "language": "python",
     "metadata": {},
     "outputs": [
      {
       "output_type": "stream",
       "stream": "stdout",
       "text": [
        "Perform some resource acquisition\n",
        "myobj is <__main__.MyClass object at 0x1f39090>\n",
        "Close the resource\n"
       ]
      }
     ],
     "prompt_number": 18
    },
    {
     "cell_type": "code",
     "collapsed": false,
     "input": [
      "try:\n",
      "    with contextlib.closing(MyClass()) as myobj:\n",
      "        print 'raising ValueError'\n",
      "        raise ValueError\n",
      "except:\n",
      "    print 'handling exception'\n",
      "        "
     ],
     "language": "python",
     "metadata": {},
     "outputs": [
      {
       "output_type": "stream",
       "stream": "stdout",
       "text": [
        "Perform some resource acquisition\n",
        "raising ValueError\n",
        "Close the resource\n",
        "handling exception\n"
       ]
      }
     ],
     "prompt_number": 19
    },
    {
     "cell_type": "markdown",
     "metadata": {},
     "source": [
      "### Exercises \n",
      "\n",
      "- Update your context managers from the previous exercise to use the `@contextmanager` decorator"
     ]
    }
   ],
   "metadata": {}
  }
 ]
}