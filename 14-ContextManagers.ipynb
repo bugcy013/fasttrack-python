{
 "metadata": {
  "name": "14-ContextManagers"
 }, 
 "nbformat": 2, 
 "worksheets": [
  {
   "cells": [
    {
     "cell_type": "markdown", 
     "source": [
      "# Context Managers"
     ]
    }, 
    {
     "cell_type": "code", 
     "collapsed": false, 
     "input": [
      "with open('/etc/hosts') as fp:", 
      "    print fp.read()", 
      "print fp"
     ], 
     "language": "python", 
     "outputs": [
      {
       "output_type": "stream", 
       "stream": "stdout", 
       "text": [
        "127.0.0.1\tlocalhost", 
        "127.0.1.1\tprecise64", 
        "", 
        "# The following lines are desirable for IPv6 capable hosts", 
        "::1     ip6-localhost ip6-loopback", 
        "fe00::0 ip6-localnet", 
        "ff00::0 ip6-mcastprefix", 
        "ff02::1 ip6-allnodes", 
        "ff02::2 ip6-allrouters", 
        "", 
        "<closed file '/etc/hosts', mode 'r' at 0x1882930>"
       ]
      }
     ], 
     "prompt_number": 2
    }, 
    {
     "cell_type": "code", 
     "collapsed": false, 
     "input": [
      "try:", 
      "    with open('/etc/hosts') as fp:", 
      "        raise KeyError", 
      "        print fp.read()", 
      "except KeyError:", 
      "    print 'handle keyerror'", 
      "", 
      "print fp"
     ], 
     "language": "python", 
     "outputs": [
      {
       "output_type": "stream", 
       "stream": "stdout", 
       "text": [
        "handle keyerror", 
        "<closed file '/etc/hosts', mode 'r' at 0x1882930>"
       ]
      }
     ], 
     "prompt_number": 5
    }, 
    {
     "cell_type": "code", 
     "collapsed": false, 
     "input": [
      "with open('/etc/hosts') as fp_i, open('/tmp/hosts', 'w') as fp_o:", 
      "    fp_o.write(fp_i.read())"
     ], 
     "language": "python", 
     "outputs": [], 
     "prompt_number": 7
    }, 
    {
     "cell_type": "code", 
     "collapsed": false, 
     "input": [
      "with open('/tmp/hosts') as fp:", 
      "    print fp.read()"
     ], 
     "language": "python", 
     "outputs": [
      {
       "output_type": "stream", 
       "stream": "stdout", 
       "text": [
        "127.0.0.1\tlocalhost", 
        "127.0.1.1\tprecise64", 
        "", 
        "# The following lines are desirable for IPv6 capable hosts", 
        "::1     ip6-localhost ip6-loopback", 
        "fe00::0 ip6-localnet", 
        "ff00::0 ip6-mcastprefix", 
        "ff02::1 ip6-allnodes", 
        "ff02::2 ip6-allrouters", 
        ""
       ]
      }
     ], 
     "prompt_number": 8
    }, 
    {
     "cell_type": "markdown", 
     "source": [
      "## Context manager protocol"
     ]
    }, 
    {
     "cell_type": "code", 
     "collapsed": true, 
     "input": [
      "class CM(object):", 
      "    def __enter__(self):", 
      "        print 'Entering CM'", 
      "        return self", 
      "    def __exit__(self, ex_type, ex_val, ex_tb):", 
      "        print 'Exiting CM'", 
      "        if ex_type == KeyError: ", 
      "            # Re-raise same exception", 
      "            return False", 
      "        # Don't re-raise", 
      "        print 'Swallowing %s inside CM' % ex_type", 
      "        return True"
     ], 
     "language": "python", 
     "outputs": [], 
     "prompt_number": 16
    }, 
    {
     "cell_type": "code", 
     "collapsed": false, 
     "input": [
      "with CM() as cm:", 
      "    print 'Inside with statement', cm"
     ], 
     "language": "python", 
     "outputs": [
      {
       "output_type": "stream", 
       "stream": "stdout", 
       "text": [
        "Entering CM", 
        "Inside with statement <__main__.CM object at 0x192f8d0>", 
        "Exiting CM", 
        "Swallowing None inside CM"
       ]
      }
     ], 
     "prompt_number": 20
    }, 
    {
     "cell_type": "code", 
     "collapsed": false, 
     "input": [
      "try:", 
      "    with CM():", 
      "        print 'About to raise KeyError'", 
      "        raise KeyError", 
      "except KeyError:", 
      "    print 'Catching KeyError outside CM'"
     ], 
     "language": "python", 
     "outputs": [
      {
       "output_type": "stream", 
       "stream": "stdout", 
       "text": [
        "Entering CM", 
        "About to raise KeyError", 
        "Exiting CM", 
        "Catching KeyError outside CM"
       ]
      }
     ], 
     "prompt_number": 21
    }, 
    {
     "cell_type": "code", 
     "collapsed": false, 
     "input": [
      "with CM():", 
      "    print 'About to raise ValueError'", 
      "    raise ValueError"
     ], 
     "language": "python", 
     "outputs": [
      {
       "output_type": "stream", 
       "stream": "stdout", 
       "text": [
        "Entering CM", 
        "About to raise ValueError", 
        "Exiting CM", 
        "Swallowing <type 'exceptions.ValueError'> inside CM"
       ]
      }
     ], 
     "prompt_number": 22
    }, 
    {
     "cell_type": "markdown", 
     "source": [
      "### Exercises", 
      "", 
      "- Write a context manager that logs the entry and exit of a block of code (similar to the", 
      "  decorator before)", 
      "- Write a context manager that prints out balanced XML nodes. Use the test code below.", 
      "", 
      "Test code:", 
      "", 
      "    with node('html'):", 
      "        with node('body'):", 
      "            with node('h1'):", 
      "                 print 'Page Title'", 
      "", 
      "You should see the following result:", 
      "", 
      "    <html>", 
      "    <body>", 
      "    <h1>", 
      "    Page Title", 
      "    </h1>", 
      "    </body>", 
      "    </html>"
     ]
    }, 
    {
     "cell_type": "markdown", 
     "source": [
      "## Contextlib"
     ]
    }, 
    {
     "cell_type": "code", 
     "collapsed": true, 
     "input": [
      "import contextlib"
     ], 
     "language": "python", 
     "outputs": [], 
     "prompt_number": 23
    }, 
    {
     "cell_type": "code", 
     "collapsed": false, 
     "input": [
      "@contextlib.contextmanager", 
      "def so_much_easier():", 
      "    print 'Entering block'", 
      "    try:", 
      "        yield ", 
      "        print 'Exiting block cleanly'", 
      "    except:", 
      "        print 'Exiting block with exception'"
     ], 
     "language": "python", 
     "outputs": [], 
     "prompt_number": 25
    }, 
    {
     "cell_type": "code", 
     "collapsed": false, 
     "input": [
      "with so_much_easier():", 
      "    print 'Inside block'"
     ], 
     "language": "python", 
     "outputs": [
      {
       "output_type": "stream", 
       "stream": "stdout", 
       "text": [
        "Entering block", 
        "Inside block", 
        "Exiting block cleanly"
       ]
      }
     ], 
     "prompt_number": 26
    }, 
    {
     "cell_type": "code", 
     "collapsed": false, 
     "input": [
      "with so_much_easier():", 
      "    print 'Raising ValueError'", 
      "    raise ValueError"
     ], 
     "language": "python", 
     "outputs": [
      {
       "output_type": "stream", 
       "stream": "stdout", 
       "text": [
        "Entering block", 
        "Raising ValueError", 
        "Exiting block with exception"
       ]
      }
     ], 
     "prompt_number": 28
    }, 
    {
     "cell_type": "markdown", 
     "source": [
      "`contextlib` also provides a facility to support the `with` statement with context manager-like", 
      "objects that don't actually support the protocol, but *do* have a `close()` method:"
     ]
    }, 
    {
     "cell_type": "code", 
     "collapsed": true, 
     "input": [
      "class MyClass(object):", 
      "    def __init__(self):", 
      "        print 'Perform some resource acquisition'", 
      "    def close(self):", 
      "        print 'Close the resource'"
     ], 
     "language": "python", 
     "outputs": [], 
     "prompt_number": 29
    }, 
    {
     "cell_type": "code", 
     "collapsed": false, 
     "input": [
      "with contextlib.closing(MyClass()) as myobj:", 
      "    print 'myobj is', myobj"
     ], 
     "language": "python", 
     "outputs": [
      {
       "output_type": "stream", 
       "stream": "stdout", 
       "text": [
        "Perform some resource acquisition", 
        "myobj is <__main__.MyClass object at 0x19c4450>", 
        "Close the resource"
       ]
      }
     ], 
     "prompt_number": 30
    }, 
    {
     "cell_type": "code", 
     "collapsed": false, 
     "input": [
      "try:", 
      "    with contextlib.closing(MyClass()) as myobj:", 
      "        print 'raising ValueError'", 
      "        raise ValueError", 
      "except:", 
      "    print 'handling exception'", 
      "        "
     ], 
     "language": "python", 
     "outputs": [
      {
       "output_type": "stream", 
       "stream": "stdout", 
       "text": [
        "Perform some resource acquisition", 
        "raising ValueError", 
        "Close the resource", 
        "handling exception"
       ]
      }
     ], 
     "prompt_number": 31
    }, 
    {
     "cell_type": "markdown", 
     "source": [
      "### Exercises ", 
      "", 
      "- Update your context managers from the previous exercise to use the `@contextmanager` decorator"
     ]
    }
   ]
  }
 ]
}