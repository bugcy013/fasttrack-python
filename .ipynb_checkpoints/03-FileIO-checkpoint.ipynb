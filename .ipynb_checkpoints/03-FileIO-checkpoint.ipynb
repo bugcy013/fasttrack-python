{
 "metadata": {
  "name": "",
  "signature": "sha256:377dd94f3825f29058d505f34dee96c96a88ee9b373bf737dc789fee360a8914"
 },
 "nbformat": 3,
 "nbformat_minor": 0,
 "worksheets": [
  {
   "cells": [
    {
     "cell_type": "markdown",
     "metadata": {},
     "source": [
      "# File I/O"
     ]
    },
    {
     "cell_type": "code",
     "collapsed": false,
     "input": [
      "fp = open('/etc/hosts')\n",
      "print fp.read()\n",
      "fp.close()"
     ],
     "language": "python",
     "metadata": {},
     "outputs": [
      {
       "output_type": "stream",
       "stream": "stdout",
       "text": [
        "127.0.0.1\tlocalhost\n",
        "127.0.1.1\tprecise64\n",
        "\n",
        "# The following lines are desirable for IPv6 capable hosts\n",
        "::1     ip6-localhost ip6-loopback\n",
        "fe00::0 ip6-localnet\n",
        "ff00::0 ip6-mcastprefix\n",
        "ff02::1 ip6-allnodes\n",
        "ff02::2 ip6-allrouters\n",
        "\n"
       ]
      }
     ],
     "prompt_number": 1
    },
    {
     "cell_type": "code",
     "collapsed": false,
     "input": [
      "fp = open('/etc/hosts')\n",
      "print repr(fp.read(40))\n",
      "print repr(fp.read(40))\n",
      "print repr(fp.read(40))\n",
      "fp.close()"
     ],
     "language": "python",
     "metadata": {},
     "outputs": [
      {
       "output_type": "stream",
       "stream": "stdout",
       "text": [
        "'127.0.0.1\\tlocalhost\\n127.0.1.1\\tprecise64\\n'\n",
        "'\\n# The following lines are desirable for'\n",
        "' IPv6 capable hosts\\n::1     ip6-localhos'\n"
       ]
      }
     ],
     "prompt_number": 2
    },
    {
     "cell_type": "code",
     "collapsed": false,
     "input": [
      "fp = open('/etc/hosts')\n",
      "for line in fp:\n",
      "    print repr(line)\n",
      "fp.close()"
     ],
     "language": "python",
     "metadata": {},
     "outputs": [
      {
       "output_type": "stream",
       "stream": "stdout",
       "text": [
        "'127.0.0.1\\tlocalhost\\n'\n",
        "'127.0.1.1\\tprecise64\\n'\n",
        "'\\n'\n",
        "'# The following lines are desirable for IPv6 capable hosts\\n'\n",
        "'::1     ip6-localhost ip6-loopback\\n'\n",
        "'fe00::0 ip6-localnet\\n'\n",
        "'ff00::0 ip6-mcastprefix\\n'\n",
        "'ff02::1 ip6-allnodes\\n'\n",
        "'ff02::2 ip6-allrouters\\n'\n"
       ]
      }
     ],
     "prompt_number": 3
    },
    {
     "cell_type": "code",
     "collapsed": false,
     "input": [
      "fp = open('/etc/hosts')\n",
      "fp.readlines()"
     ],
     "language": "python",
     "metadata": {},
     "outputs": [
      {
       "metadata": {},
       "output_type": "pyout",
       "prompt_number": 4,
       "text": [
        "['127.0.0.1\\tlocalhost\\n',\n",
        " '127.0.1.1\\tprecise64\\n',\n",
        " '\\n',\n",
        " '# The following lines are desirable for IPv6 capable hosts\\n',\n",
        " '::1     ip6-localhost ip6-loopback\\n',\n",
        " 'fe00::0 ip6-localnet\\n',\n",
        " 'ff00::0 ip6-mcastprefix\\n',\n",
        " 'ff02::1 ip6-allnodes\\n',\n",
        " 'ff02::2 ip6-allrouters\\n']"
       ]
      }
     ],
     "prompt_number": 4
    },
    {
     "cell_type": "code",
     "collapsed": false,
     "input": [
      "print fp.read()"
     ],
     "language": "python",
     "metadata": {},
     "outputs": [
      {
       "output_type": "stream",
       "stream": "stdout",
       "text": [
        "\n"
       ]
      }
     ],
     "prompt_number": 5
    },
    {
     "cell_type": "code",
     "collapsed": false,
     "input": [
      "fp.seek(10)\n",
      "print fp.read()"
     ],
     "language": "python",
     "metadata": {},
     "outputs": [
      {
       "output_type": "stream",
       "stream": "stdout",
       "text": [
        "localhost\n",
        "127.0.1.1\tprecise64\n",
        "\n",
        "# The following lines are desirable for IPv6 capable hosts\n",
        "::1     ip6-localhost ip6-loopback\n",
        "fe00::0 ip6-localnet\n",
        "ff00::0 ip6-mcastprefix\n",
        "ff02::1 ip6-allnodes\n",
        "ff02::2 ip6-allrouters\n",
        "\n"
       ]
      }
     ],
     "prompt_number": 6
    },
    {
     "cell_type": "code",
     "collapsed": false,
     "input": [
      "fp.tell()"
     ],
     "language": "python",
     "metadata": {},
     "outputs": [
      {
       "metadata": {},
       "output_type": "pyout",
       "prompt_number": 7,
       "text": [
        "224"
       ]
      }
     ],
     "prompt_number": 7
    },
    {
     "cell_type": "code",
     "collapsed": true,
     "input": [
      "fp = open('/tmp/testfile.txt', 'w')\n",
      "fp.write('abcd\\n')\n",
      "fp.close()"
     ],
     "language": "python",
     "metadata": {},
     "outputs": [],
     "prompt_number": 8
    },
    {
     "cell_type": "code",
     "collapsed": false,
     "input": [
      "fp = open('/tmp/testfile.txt', 'r')\n",
      "fp.read()"
     ],
     "language": "python",
     "metadata": {},
     "outputs": [
      {
       "metadata": {},
       "output_type": "pyout",
       "prompt_number": 9,
       "text": [
        "'abcd\\n'"
       ]
      }
     ],
     "prompt_number": 9
    },
    {
     "cell_type": "code",
     "collapsed": false,
     "input": [
      "fp.write('hi')"
     ],
     "language": "python",
     "metadata": {},
     "outputs": [
      {
       "ename": "IOError",
       "evalue": "File not open for writing",
       "output_type": "pyerr",
       "traceback": [
        "\u001b[1;31m---------------------------------------------------------------------------\u001b[0m\n\u001b[1;31mIOError\u001b[0m                                   Traceback (most recent call last)",
        "\u001b[1;32m<ipython-input-10-40576b043654>\u001b[0m in \u001b[0;36m<module>\u001b[1;34m()\u001b[0m\n\u001b[1;32m----> 1\u001b[1;33m \u001b[0mfp\u001b[0m\u001b[1;33m.\u001b[0m\u001b[0mwrite\u001b[0m\u001b[1;33m(\u001b[0m\u001b[1;34m'hi'\u001b[0m\u001b[1;33m)\u001b[0m\u001b[1;33m\u001b[0m\u001b[0m\n\u001b[0m",
        "\u001b[1;31mIOError\u001b[0m: File not open for writing"
       ]
      }
     ],
     "prompt_number": 10
    },
    {
     "cell_type": "code",
     "collapsed": false,
     "input": [
      "fp = open('/tmp/testfile.txt', 'a')\n",
      "fp.write('hi\\n')\n",
      "fp.close()\n",
      "open('/tmp/testfile.txt').read()"
     ],
     "language": "python",
     "metadata": {},
     "outputs": [
      {
       "metadata": {},
       "output_type": "pyout",
       "prompt_number": 11,
       "text": [
        "'abcd\\nhi\\n'"
       ]
      }
     ],
     "prompt_number": 11
    },
    {
     "cell_type": "code",
     "collapsed": false,
     "input": [
      "fp = open('/tmp/testfile.txt', 'w')\n",
      "fp.write('hi\\n')\n",
      "fp.close()\n",
      "open('/tmp/testfile.txt').read()"
     ],
     "language": "python",
     "metadata": {},
     "outputs": [
      {
       "metadata": {},
       "output_type": "pyout",
       "prompt_number": 12,
       "text": [
        "'hi\\n'"
       ]
      }
     ],
     "prompt_number": 12
    },
    {
     "cell_type": "code",
     "collapsed": false,
     "input": [
      "fp = open('/tmp/testfile.txt', 'w')\n",
      "fp.write('hi\\n')\n",
      "fp.seek(0)\n",
      "fp.read()"
     ],
     "language": "python",
     "metadata": {},
     "outputs": [
      {
       "ename": "IOError",
       "evalue": "File not open for reading",
       "output_type": "pyerr",
       "traceback": [
        "\u001b[1;31m---------------------------------------------------------------------------\u001b[0m\n\u001b[1;31mIOError\u001b[0m                                   Traceback (most recent call last)",
        "\u001b[1;32m<ipython-input-13-6bf0db77664c>\u001b[0m in \u001b[0;36m<module>\u001b[1;34m()\u001b[0m\n\u001b[0;32m      2\u001b[0m \u001b[0mfp\u001b[0m\u001b[1;33m.\u001b[0m\u001b[0mwrite\u001b[0m\u001b[1;33m(\u001b[0m\u001b[1;34m'hi\\n'\u001b[0m\u001b[1;33m)\u001b[0m\u001b[1;33m\u001b[0m\u001b[0m\n\u001b[0;32m      3\u001b[0m \u001b[0mfp\u001b[0m\u001b[1;33m.\u001b[0m\u001b[0mseek\u001b[0m\u001b[1;33m(\u001b[0m\u001b[1;36m0\u001b[0m\u001b[1;33m)\u001b[0m\u001b[1;33m\u001b[0m\u001b[0m\n\u001b[1;32m----> 4\u001b[1;33m \u001b[0mfp\u001b[0m\u001b[1;33m.\u001b[0m\u001b[0mread\u001b[0m\u001b[1;33m(\u001b[0m\u001b[1;33m)\u001b[0m\u001b[1;33m\u001b[0m\u001b[0m\n\u001b[0m",
        "\u001b[1;31mIOError\u001b[0m: File not open for reading"
       ]
      }
     ],
     "prompt_number": 13
    },
    {
     "cell_type": "code",
     "collapsed": false,
     "input": [
      "fp = open('/tmp/testfile.txt', 'w+')\n",
      "fp.write('hi\\n')\n",
      "fp.seek(0)\n",
      "fp.read()"
     ],
     "language": "python",
     "metadata": {},
     "outputs": [
      {
       "metadata": {},
       "output_type": "pyout",
       "prompt_number": 14,
       "text": [
        "'hi\\n'"
       ]
      }
     ],
     "prompt_number": 14
    },
    {
     "cell_type": "code",
     "collapsed": false,
     "input": [
      "fp = open('/tmp/testfile.txt', 'r+')\n",
      "fp.seek(2)\n",
      "fp.write('there\\n')\n",
      "fp.seek(0)\n",
      "fp.read()"
     ],
     "language": "python",
     "metadata": {},
     "outputs": [
      {
       "metadata": {},
       "output_type": "pyout",
       "prompt_number": 15,
       "text": [
        "'hithere\\n'"
       ]
      }
     ],
     "prompt_number": 15
    },
    {
     "cell_type": "code",
     "collapsed": false,
     "input": [
      "fp = open('/tmp/testfile.txt', 'a+')\n",
      "fp.write('again\\n')\n",
      "fp.seek(0)\n",
      "fp.read()"
     ],
     "language": "python",
     "metadata": {},
     "outputs": [
      {
       "metadata": {},
       "output_type": "pyout",
       "prompt_number": 16,
       "text": [
        "'hithere\\nagain\\n'"
       ]
      }
     ],
     "prompt_number": 16
    },
    {
     "cell_type": "markdown",
     "metadata": {},
     "source": [
      "### Exercises\n",
      "\n",
      "- Write a function `print_file(fp)` that will print out a text file, line by line\n",
      "- Enhance the function `print_file(fp)` to print a line number before each line"
     ]
    }
   ],
   "metadata": {}
  }
 ]
}