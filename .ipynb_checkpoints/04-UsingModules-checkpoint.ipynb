{
 "metadata": {
  "name": "",
  "signature": "sha256:f64337f2673eef02e7c0277d8cac426e10fcabae227f91ea8ccdee6770ad6b66"
 },
 "nbformat": 3,
 "nbformat_minor": 0,
 "worksheets": [
  {
   "cells": [
    {
     "cell_type": "markdown",
     "metadata": {},
     "source": [
      "# Using Modules\n",
      "\n",
      "Python's basic unit of reusable code is the *module*. You can access the functions and classes \n",
      "inside a module using the `import` statement. One of the most important modules is the `sys` module:"
     ]
    },
    {
     "cell_type": "code",
     "collapsed": false,
     "input": [
      "import sys\n",
      "print sys"
     ],
     "language": "python",
     "metadata": {},
     "outputs": [
      {
       "output_type": "stream",
       "stream": "stdout",
       "text": [
        "<module 'sys' (built-in)>\n"
       ]
      }
     ],
     "prompt_number": 1
    },
    {
     "cell_type": "markdown",
     "metadata": {},
     "source": [
      "The `import` statement can also be used to *alias* a module:"
     ]
    },
    {
     "cell_type": "code",
     "collapsed": false,
     "input": [
      "import sys as mysys\n",
      "print mysys"
     ],
     "language": "python",
     "metadata": {},
     "outputs": [
      {
       "output_type": "stream",
       "stream": "stdout",
       "text": [
        "<module 'sys' (built-in)>\n"
       ]
      }
     ],
     "prompt_number": 2
    },
    {
     "cell_type": "markdown",
     "metadata": {},
     "source": [
      "We can also `import` one or more names from a module:"
     ]
    },
    {
     "cell_type": "code",
     "collapsed": false,
     "input": [
      "sys.path"
     ],
     "language": "python",
     "metadata": {},
     "outputs": [
      {
       "metadata": {},
       "output_type": "pyout",
       "prompt_number": 3,
       "text": [
        "['',\n",
        " '/home/vagrant/env/local/lib/python2.7/site-packages/distribute-0.6.24-py2.7.egg',\n",
        " '/home/vagrant/env/local/lib/python2.7/site-packages/pip-1.1-py2.7.egg',\n",
        " '/home/vagrant/env/lib/python2.7/site-packages/distribute-0.6.24-py2.7.egg',\n",
        " '/home/vagrant/env/lib/python2.7/site-packages/pip-1.1-py2.7.egg',\n",
        " '/home/vagrant/env/lib/python2.7',\n",
        " '/home/vagrant/env/lib/python2.7/plat-linux2',\n",
        " '/home/vagrant/env/lib/python2.7/lib-tk',\n",
        " '/home/vagrant/env/lib/python2.7/lib-old',\n",
        " '/home/vagrant/env/lib/python2.7/lib-dynload',\n",
        " '/usr/lib/python2.7',\n",
        " '/usr/lib/python2.7/plat-linux2',\n",
        " '/usr/lib/python2.7/lib-tk',\n",
        " '/home/vagrant/env/local/lib/python2.7/site-packages',\n",
        " '/home/vagrant/env/lib/python2.7/site-packages',\n",
        " '/home/vagrant/env/local/lib/python2.7/site-packages/IPython/extensions']"
       ]
      }
     ],
     "prompt_number": 3
    },
    {
     "cell_type": "code",
     "collapsed": false,
     "input": [
      "from sys import path\n",
      "print path"
     ],
     "language": "python",
     "metadata": {},
     "outputs": [
      {
       "output_type": "stream",
       "stream": "stdout",
       "text": [
        "['', '/home/vagrant/env/local/lib/python2.7/site-packages/distribute-0.6.24-py2.7.egg', '/home/vagrant/env/local/lib/python2.7/site-packages/pip-1.1-py2.7.egg', '/home/vagrant/env/lib/python2.7/site-packages/distribute-0.6.24-py2.7.egg', '/home/vagrant/env/lib/python2.7/site-packages/pip-1.1-py2.7.egg', '/home/vagrant/env/lib/python2.7', '/home/vagrant/env/lib/python2.7/plat-linux2', '/home/vagrant/env/lib/python2.7/lib-tk', '/home/vagrant/env/lib/python2.7/lib-old', '/home/vagrant/env/lib/python2.7/lib-dynload', '/usr/lib/python2.7', '/usr/lib/python2.7/plat-linux2', '/usr/lib/python2.7/lib-tk', '/home/vagrant/env/local/lib/python2.7/site-packages', '/home/vagrant/env/lib/python2.7/site-packages', '/home/vagrant/env/local/lib/python2.7/site-packages/IPython/extensions']\n"
       ]
      }
     ],
     "prompt_number": 4
    },
    {
     "cell_type": "code",
     "collapsed": false,
     "input": [
      "from sys import path as mypath\n",
      "print mypath"
     ],
     "language": "python",
     "metadata": {},
     "outputs": [
      {
       "output_type": "stream",
       "stream": "stdout",
       "text": [
        "['', '/home/vagrant/env/local/lib/python2.7/site-packages/distribute-0.6.24-py2.7.egg', '/home/vagrant/env/local/lib/python2.7/site-packages/pip-1.1-py2.7.egg', '/home/vagrant/env/lib/python2.7/site-packages/distribute-0.6.24-py2.7.egg', '/home/vagrant/env/lib/python2.7/site-packages/pip-1.1-py2.7.egg', '/home/vagrant/env/lib/python2.7', '/home/vagrant/env/lib/python2.7/plat-linux2', '/home/vagrant/env/lib/python2.7/lib-tk', '/home/vagrant/env/lib/python2.7/lib-old', '/home/vagrant/env/lib/python2.7/lib-dynload', '/usr/lib/python2.7', '/usr/lib/python2.7/plat-linux2', '/usr/lib/python2.7/lib-tk', '/home/vagrant/env/local/lib/python2.7/site-packages', '/home/vagrant/env/lib/python2.7/site-packages', '/home/vagrant/env/local/lib/python2.7/site-packages/IPython/extensions']\n"
       ]
      }
     ],
     "prompt_number": 5
    },
    {
     "cell_type": "markdown",
     "metadata": {},
     "source": [
      "One of Python's nicest features is its *introspection* capabilities. For instance, to get a list of \n",
      "the properties available on an object, we can use the builtin function `dir()`:"
     ]
    },
    {
     "cell_type": "code",
     "collapsed": false,
     "input": [
      "dir(sys)"
     ],
     "language": "python",
     "metadata": {},
     "outputs": [
      {
       "metadata": {},
       "output_type": "pyout",
       "prompt_number": 6,
       "text": [
        "['__displayhook__',\n",
        " '__doc__',\n",
        " '__egginsert',\n",
        " '__excepthook__',\n",
        " '__name__',\n",
        " '__package__',\n",
        " '__plen',\n",
        " '__stderr__',\n",
        " '__stdin__',\n",
        " '__stdout__',\n",
        " '_clear_type_cache',\n",
        " '_current_frames',\n",
        " '_getframe',\n",
        " '_mercurial',\n",
        " 'api_version',\n",
        " 'argv',\n",
        " 'builtin_module_names',\n",
        " 'byteorder',\n",
        " 'call_tracing',\n",
        " 'callstats',\n",
        " 'copyright',\n",
        " 'displayhook',\n",
        " 'dont_write_bytecode',\n",
        " 'exc_clear',\n",
        " 'exc_info',\n",
        " 'exc_type',\n",
        " 'excepthook',\n",
        " 'exec_prefix',\n",
        " 'executable',\n",
        " 'exit',\n",
        " 'exitfunc',\n",
        " 'flags',\n",
        " 'float_info',\n",
        " 'float_repr_style',\n",
        " 'getcheckinterval',\n",
        " 'getdefaultencoding',\n",
        " 'getdlopenflags',\n",
        " 'getfilesystemencoding',\n",
        " 'getprofile',\n",
        " 'getrecursionlimit',\n",
        " 'getrefcount',\n",
        " 'getsizeof',\n",
        " 'gettrace',\n",
        " 'hexversion',\n",
        " 'long_info',\n",
        " 'maxint',\n",
        " 'maxsize',\n",
        " 'maxunicode',\n",
        " 'meta_path',\n",
        " 'modules',\n",
        " 'path',\n",
        " 'path_hooks',\n",
        " 'path_importer_cache',\n",
        " 'platform',\n",
        " 'prefix',\n",
        " 'ps1',\n",
        " 'ps2',\n",
        " 'ps3',\n",
        " 'py3kwarning',\n",
        " 'pydebug',\n",
        " 'real_prefix',\n",
        " 'setcheckinterval',\n",
        " 'setdlopenflags',\n",
        " 'setprofile',\n",
        " 'setrecursionlimit',\n",
        " 'settrace',\n",
        " 'stderr',\n",
        " 'stdin',\n",
        " 'stdout',\n",
        " 'subversion',\n",
        " 'version',\n",
        " 'version_info',\n",
        " 'warnoptions']"
       ]
      }
     ],
     "prompt_number": 6
    },
    {
     "cell_type": "markdown",
     "metadata": {},
     "source": [
      "If we want more information about something, we can also use the `help()` builtin function:"
     ]
    },
    {
     "cell_type": "code",
     "collapsed": false,
     "input": [
      "help(sys.setprofile)"
     ],
     "language": "python",
     "metadata": {},
     "outputs": [
      {
       "output_type": "stream",
       "stream": "stdout",
       "text": [
        "Help on built-in function setprofile in module sys:\n",
        "\n",
        "setprofile(...)\n",
        "    setprofile(function)\n",
        "    \n",
        "    Set the profiling function.  It will be called on each function call\n",
        "    and return.  See the profiler chapter in the library manual.\n",
        "\n"
       ]
      }
     ],
     "prompt_number": 7
    },
    {
     "cell_type": "markdown",
     "metadata": {},
     "source": [
      "## The `sys` module\n",
      "\n",
      "`sys` contains functions and variables related to the running Python program. In particular, if you \n",
      "wish to use command-line arguments, these are accessed via `sys.argv`."
     ]
    },
    {
     "cell_type": "code",
     "collapsed": false,
     "input": [
      "print sys.argv"
     ],
     "language": "python",
     "metadata": {},
     "outputs": [
      {
       "output_type": "stream",
       "stream": "stdout",
       "text": [
        "['-c', '-f', '/home/vagrant/.ipython/profile_default/security/kernel-1980bd42-df1b-47bf-8985-38c14d7999d4.json', \"--IPKernelApp.parent_appname='ipython-notebook'\", '--profile-dir', '/home/vagrant/.ipython/profile_default', '--parent=1']\n"
       ]
      }
     ],
     "prompt_number": 8
    },
    {
     "cell_type": "markdown",
     "metadata": {},
     "source": [
      "You can also see the exact executable file containing your Python interpreter:"
     ]
    },
    {
     "cell_type": "code",
     "collapsed": false,
     "input": [
      "print sys.executable"
     ],
     "language": "python",
     "metadata": {},
     "outputs": [
      {
       "output_type": "stream",
       "stream": "stdout",
       "text": [
        "/home/vagrant/env/bin/python\n"
       ]
      }
     ],
     "prompt_number": 9
    },
    {
     "cell_type": "markdown",
     "metadata": {},
     "source": [
      "Access to the standard input, output, and error streams is also through the `sys` module:"
     ]
    },
    {
     "cell_type": "code",
     "collapsed": false,
     "input": [
      "print sys.stdin, sys.stdout, sys.stderr"
     ],
     "language": "python",
     "metadata": {},
     "outputs": [
      {
       "output_type": "stream",
       "stream": "stdout",
       "text": [
        "<open file '<stdin>', mode 'r' at 0x7f4ea37d2150> <IPython.kernel.zmq.iostream.OutStream object at 0x2a016d0> <IPython.kernel.zmq.iostream.OutStream object at 0x2a079d0>\n"
       ]
      }
     ],
     "prompt_number": 10
    },
    {
     "cell_type": "code",
     "collapsed": false,
     "input": [
      "sys.stderr.write('This is written to the stderr stream\\n')"
     ],
     "language": "python",
     "metadata": {},
     "outputs": [
      {
       "output_type": "stream",
       "stream": "stderr",
       "text": [
        "This is written to the stderr stream\n"
       ]
      }
     ],
     "prompt_number": 11
    },
    {
     "cell_type": "code",
     "collapsed": false,
     "input": [
      "sys.stdout.write('This is written to the stdout stream\\n')"
     ],
     "language": "python",
     "metadata": {},
     "outputs": [
      {
       "output_type": "stream",
       "stream": "stdout",
       "text": [
        "This is written to the stdout stream\n"
       ]
      }
     ],
     "prompt_number": 12
    },
    {
     "cell_type": "markdown",
     "metadata": {},
     "source": [
      "The `sys.path` variable gives you access to the search path the Python interpreter uses to find\n",
      "modules to `import`:"
     ]
    },
    {
     "cell_type": "code",
     "collapsed": false,
     "input": [
      "sys.path"
     ],
     "language": "python",
     "metadata": {},
     "outputs": [
      {
       "metadata": {},
       "output_type": "pyout",
       "prompt_number": 13,
       "text": [
        "['',\n",
        " '/home/vagrant/env/local/lib/python2.7/site-packages/distribute-0.6.24-py2.7.egg',\n",
        " '/home/vagrant/env/local/lib/python2.7/site-packages/pip-1.1-py2.7.egg',\n",
        " '/home/vagrant/env/lib/python2.7/site-packages/distribute-0.6.24-py2.7.egg',\n",
        " '/home/vagrant/env/lib/python2.7/site-packages/pip-1.1-py2.7.egg',\n",
        " '/home/vagrant/env/lib/python2.7',\n",
        " '/home/vagrant/env/lib/python2.7/plat-linux2',\n",
        " '/home/vagrant/env/lib/python2.7/lib-tk',\n",
        " '/home/vagrant/env/lib/python2.7/lib-old',\n",
        " '/home/vagrant/env/lib/python2.7/lib-dynload',\n",
        " '/usr/lib/python2.7',\n",
        " '/usr/lib/python2.7/plat-linux2',\n",
        " '/usr/lib/python2.7/lib-tk',\n",
        " '/home/vagrant/env/local/lib/python2.7/site-packages',\n",
        " '/home/vagrant/env/lib/python2.7/site-packages',\n",
        " '/home/vagrant/env/local/lib/python2.7/site-packages/IPython/extensions']"
       ]
      }
     ],
     "prompt_number": 13
    },
    {
     "cell_type": "markdown",
     "metadata": {},
     "source": [
      "You can also access various constants describing your system such as the largest integer:"
     ]
    },
    {
     "cell_type": "code",
     "collapsed": false,
     "input": [
      "sys.maxint"
     ],
     "language": "python",
     "metadata": {},
     "outputs": [
      {
       "metadata": {},
       "output_type": "pyout",
       "prompt_number": 14,
       "text": [
        "9223372036854775807"
       ]
      }
     ],
     "prompt_number": 14
    },
    {
     "cell_type": "code",
     "collapsed": false,
     "input": [
      "2**63-1"
     ],
     "language": "python",
     "metadata": {},
     "outputs": [
      {
       "metadata": {},
       "output_type": "pyout",
       "prompt_number": 15,
       "text": [
        "9223372036854775807L"
       ]
      }
     ],
     "prompt_number": 15
    },
    {
     "cell_type": "markdown",
     "metadata": {},
     "source": [
      "## The `os` module\n",
      "\n",
      "Where the `sys` module gives access to information about the current Python process, the `os` \n",
      "module provides several functions for accessing low-level operating system information:"
     ]
    },
    {
     "cell_type": "code",
     "collapsed": false,
     "input": [
      "import os\n",
      "dir(os)"
     ],
     "language": "python",
     "metadata": {},
     "outputs": [
      {
       "metadata": {},
       "output_type": "pyout",
       "prompt_number": 16,
       "text": [
        "['EX_CANTCREAT',\n",
        " 'EX_CONFIG',\n",
        " 'EX_DATAERR',\n",
        " 'EX_IOERR',\n",
        " 'EX_NOHOST',\n",
        " 'EX_NOINPUT',\n",
        " 'EX_NOPERM',\n",
        " 'EX_NOUSER',\n",
        " 'EX_OK',\n",
        " 'EX_OSERR',\n",
        " 'EX_OSFILE',\n",
        " 'EX_PROTOCOL',\n",
        " 'EX_SOFTWARE',\n",
        " 'EX_TEMPFAIL',\n",
        " 'EX_UNAVAILABLE',\n",
        " 'EX_USAGE',\n",
        " 'F_OK',\n",
        " 'NGROUPS_MAX',\n",
        " 'O_APPEND',\n",
        " 'O_ASYNC',\n",
        " 'O_CREAT',\n",
        " 'O_DIRECT',\n",
        " 'O_DIRECTORY',\n",
        " 'O_DSYNC',\n",
        " 'O_EXCL',\n",
        " 'O_LARGEFILE',\n",
        " 'O_NDELAY',\n",
        " 'O_NOATIME',\n",
        " 'O_NOCTTY',\n",
        " 'O_NOFOLLOW',\n",
        " 'O_NONBLOCK',\n",
        " 'O_RDONLY',\n",
        " 'O_RDWR',\n",
        " 'O_RSYNC',\n",
        " 'O_SYNC',\n",
        " 'O_TRUNC',\n",
        " 'O_WRONLY',\n",
        " 'P_NOWAIT',\n",
        " 'P_NOWAITO',\n",
        " 'P_WAIT',\n",
        " 'R_OK',\n",
        " 'SEEK_CUR',\n",
        " 'SEEK_END',\n",
        " 'SEEK_SET',\n",
        " 'ST_APPEND',\n",
        " 'ST_MANDLOCK',\n",
        " 'ST_NOATIME',\n",
        " 'ST_NODEV',\n",
        " 'ST_NODIRATIME',\n",
        " 'ST_NOEXEC',\n",
        " 'ST_NOSUID',\n",
        " 'ST_RDONLY',\n",
        " 'ST_RELATIME',\n",
        " 'ST_SYNCHRONOUS',\n",
        " 'ST_WRITE',\n",
        " 'TMP_MAX',\n",
        " 'UserDict',\n",
        " 'WCONTINUED',\n",
        " 'WCOREDUMP',\n",
        " 'WEXITSTATUS',\n",
        " 'WIFCONTINUED',\n",
        " 'WIFEXITED',\n",
        " 'WIFSIGNALED',\n",
        " 'WIFSTOPPED',\n",
        " 'WNOHANG',\n",
        " 'WSTOPSIG',\n",
        " 'WTERMSIG',\n",
        " 'WUNTRACED',\n",
        " 'W_OK',\n",
        " 'X_OK',\n",
        " '_Environ',\n",
        " '__all__',\n",
        " '__builtins__',\n",
        " '__doc__',\n",
        " '__file__',\n",
        " '__name__',\n",
        " '__package__',\n",
        " '_copy_reg',\n",
        " '_execvpe',\n",
        " '_exists',\n",
        " '_exit',\n",
        " '_get_exports_list',\n",
        " '_make_stat_result',\n",
        " '_make_statvfs_result',\n",
        " '_pickle_stat_result',\n",
        " '_pickle_statvfs_result',\n",
        " '_spawnvef',\n",
        " 'abort',\n",
        " 'access',\n",
        " 'altsep',\n",
        " 'chdir',\n",
        " 'chmod',\n",
        " 'chown',\n",
        " 'chroot',\n",
        " 'close',\n",
        " 'closerange',\n",
        " 'confstr',\n",
        " 'confstr_names',\n",
        " 'ctermid',\n",
        " 'curdir',\n",
        " 'defpath',\n",
        " 'devnull',\n",
        " 'dup',\n",
        " 'dup2',\n",
        " 'environ',\n",
        " 'errno',\n",
        " 'error',\n",
        " 'execl',\n",
        " 'execle',\n",
        " 'execlp',\n",
        " 'execlpe',\n",
        " 'execv',\n",
        " 'execve',\n",
        " 'execvp',\n",
        " 'execvpe',\n",
        " 'extsep',\n",
        " 'fchdir',\n",
        " 'fchmod',\n",
        " 'fchown',\n",
        " 'fdatasync',\n",
        " 'fdopen',\n",
        " 'fork',\n",
        " 'forkpty',\n",
        " 'fpathconf',\n",
        " 'fstat',\n",
        " 'fstatvfs',\n",
        " 'fsync',\n",
        " 'ftruncate',\n",
        " 'getcwd',\n",
        " 'getcwdu',\n",
        " 'getegid',\n",
        " 'getenv',\n",
        " 'geteuid',\n",
        " 'getgid',\n",
        " 'getgroups',\n",
        " 'getloadavg',\n",
        " 'getlogin',\n",
        " 'getpgid',\n",
        " 'getpgrp',\n",
        " 'getpid',\n",
        " 'getppid',\n",
        " 'getresgid',\n",
        " 'getresuid',\n",
        " 'getsid',\n",
        " 'getuid',\n",
        " 'initgroups',\n",
        " 'isatty',\n",
        " 'kill',\n",
        " 'killpg',\n",
        " 'lchown',\n",
        " 'linesep',\n",
        " 'link',\n",
        " 'listdir',\n",
        " 'lseek',\n",
        " 'lstat',\n",
        " 'major',\n",
        " 'makedev',\n",
        " 'makedirs',\n",
        " 'minor',\n",
        " 'mkdir',\n",
        " 'mkfifo',\n",
        " 'mknod',\n",
        " 'name',\n",
        " 'nice',\n",
        " 'open',\n",
        " 'openpty',\n",
        " 'pardir',\n",
        " 'path',\n",
        " 'pathconf',\n",
        " 'pathconf_names',\n",
        " 'pathsep',\n",
        " 'pipe',\n",
        " 'popen',\n",
        " 'popen2',\n",
        " 'popen3',\n",
        " 'popen4',\n",
        " 'putenv',\n",
        " 'read',\n",
        " 'readlink',\n",
        " 'remove',\n",
        " 'removedirs',\n",
        " 'rename',\n",
        " 'renames',\n",
        " 'rmdir',\n",
        " 'sep',\n",
        " 'setegid',\n",
        " 'seteuid',\n",
        " 'setgid',\n",
        " 'setgroups',\n",
        " 'setpgid',\n",
        " 'setpgrp',\n",
        " 'setregid',\n",
        " 'setresgid',\n",
        " 'setresuid',\n",
        " 'setreuid',\n",
        " 'setsid',\n",
        " 'setuid',\n",
        " 'spawnl',\n",
        " 'spawnle',\n",
        " 'spawnlp',\n",
        " 'spawnlpe',\n",
        " 'spawnv',\n",
        " 'spawnve',\n",
        " 'spawnvp',\n",
        " 'spawnvpe',\n",
        " 'stat',\n",
        " 'stat_float_times',\n",
        " 'stat_result',\n",
        " 'statvfs',\n",
        " 'statvfs_result',\n",
        " 'strerror',\n",
        " 'symlink',\n",
        " 'sys',\n",
        " 'sysconf',\n",
        " 'sysconf_names',\n",
        " 'system',\n",
        " 'tcgetpgrp',\n",
        " 'tcsetpgrp',\n",
        " 'tempnam',\n",
        " 'times',\n",
        " 'tmpfile',\n",
        " 'tmpnam',\n",
        " 'ttyname',\n",
        " 'umask',\n",
        " 'uname',\n",
        " 'unlink',\n",
        " 'unsetenv',\n",
        " 'urandom',\n",
        " 'utime',\n",
        " 'wait',\n",
        " 'wait3',\n",
        " 'wait4',\n",
        " 'waitpid',\n",
        " 'walk',\n",
        " 'write']"
       ]
      }
     ],
     "prompt_number": 16
    },
    {
     "cell_type": "code",
     "collapsed": false,
     "input": [
      "os.listdir('/usr')"
     ],
     "language": "python",
     "metadata": {},
     "outputs": [
      {
       "metadata": {},
       "output_type": "pyout",
       "prompt_number": 17,
       "text": [
        "['include', 'src', 'local', 'lib', 'sbin', 'share', 'bin', 'games']"
       ]
      }
     ],
     "prompt_number": 17
    },
    {
     "cell_type": "code",
     "collapsed": true,
     "input": [
      "fd = os.popen('ls -l')"
     ],
     "language": "python",
     "metadata": {},
     "outputs": [],
     "prompt_number": 18
    },
    {
     "cell_type": "code",
     "collapsed": false,
     "input": [
      "print fd.read()"
     ],
     "language": "python",
     "metadata": {},
     "outputs": [
      {
       "output_type": "stream",
       "stream": "stdout",
       "text": [
        "total 7448\n",
        "drwxr-xr-x 1 vagrant vagrant     238 May 19 18:46 01-BasicPythonSyntax\n",
        "drwxr-xr-x 1 vagrant vagrant     510 May 19 18:46 01-BasicPythonSyntax_files\n",
        "-rw-r--r-- 1 vagrant vagrant  167970 May 19 18:46 01-BasicPythonSyntax.html\n",
        "-rw-r--r-- 1 vagrant vagrant   43607 May 20 21:09 01-BasicPythonSyntax.ipynb\n",
        "-rw-r--r-- 1 vagrant vagrant  149815 May 19 18:46 01-BasicPythonSyntax.pdf\n",
        "drwxr-xr-x 1 vagrant vagrant     136 May 19 18:46 02-Builtins\n",
        "drwxr-xr-x 1 vagrant vagrant     510 May 19 18:46 02-Builtins_files\n",
        "-rw-r--r-- 1 vagrant vagrant   73444 May 19 18:46 02-Builtins.html\n",
        "-rw-r--r-- 1 vagrant vagrant   23502 May 20 21:13 02-Builtins.ipynb\n",
        "-rw-r--r-- 1 vagrant vagrant   82112 May 19 18:46 02-Builtins.pdf\n",
        "drwxr-xr-x 1 vagrant vagrant     102 May 19 18:46 03-FileIO\n",
        "drwxr-xr-x 1 vagrant vagrant     510 May 19 18:46 03-FileIO_files\n",
        "-rw-r--r-- 1 vagrant vagrant   41620 May 19 18:46 03-FileIO.html\n",
        "-rw-r--r-- 1 vagrant vagrant   10254 May 20 21:13 03-FileIO.ipynb\n",
        "-rw-r--r-- 1 vagrant vagrant   55308 May 19 18:46 03-FileIO.pdf\n",
        "drwxr-xr-x 1 vagrant vagrant     374 May 19 18:46 04-UsingModules\n",
        "drwxr-xr-x 1 vagrant vagrant     510 May 19 18:46 04-UsingModules_files\n",
        "-rw-r--r-- 1 vagrant vagrant  137356 May 19 18:46 04-UsingModules.html\n",
        "-rw-r--r-- 1 vagrant vagrant   62368 May 20 21:16 04-UsingModules.ipynb\n",
        "-rw-r--r-- 1 vagrant vagrant  120986 May 19 18:46 04-UsingModules.pdf\n",
        "drwxr-xr-x 1 vagrant vagrant     170 May 19 18:46 05-Strings\n",
        "drwxr-xr-x 1 vagrant vagrant     510 May 19 18:46 05-Strings_files\n",
        "-rw-r--r-- 1 vagrant vagrant   79928 May 19 18:46 05-Strings.html\n",
        "-rw-r--r-- 1 vagrant vagrant   17961 May 19 18:46 05-Strings.ipynb\n",
        "-rw-r--r-- 1 vagrant vagrant   86539 May 19 18:46 05-Strings.pdf\n",
        "drwxr-xr-x 1 vagrant vagrant     204 May 19 18:46 06a-Packages\n",
        "drwxr-xr-x 1 vagrant vagrant     102 May 19 18:46 06-Regex\n",
        "drwxr-xr-x 1 vagrant vagrant     510 May 19 18:46 06-Regex_files\n",
        "-rw-r--r-- 1 vagrant vagrant   64794 May 19 18:46 06-Regex.html\n",
        "-rw-r--r-- 1 vagrant vagrant   13056 May 19 18:46 06-Regex.ipynb\n",
        "-rw-r--r-- 1 vagrant vagrant   71054 May 19 18:46 06-Regex.pdf\n",
        "drwxr-xr-x 1 vagrant vagrant     102 May 19 18:46 07-Functions\n",
        "drwxr-xr-x 1 vagrant vagrant     510 May 19 18:46 07-Functions_files\n",
        "-rw-r--r-- 1 vagrant vagrant   45536 May 19 18:46 07-Functions.html\n",
        "-rw-r--r-- 1 vagrant vagrant    8062 May 19 18:46 07-Functions.ipynb\n",
        "-rw-r--r-- 1 vagrant vagrant   65615 May 19 18:46 07-Functions.pdf\n",
        "drwxr-xr-x 1 vagrant vagrant     136 May 19 18:46 08-AdvancedFunctions\n",
        "drwxr-xr-x 1 vagrant vagrant     510 May 19 18:46 08-AdvancedFunctions_files\n",
        "-rw-r--r-- 1 vagrant vagrant   34295 May 19 18:46 08-AdvancedFunctions.html\n",
        "-rw-r--r-- 1 vagrant vagrant    5848 May 19 18:46 08-AdvancedFunctions.ipynb\n",
        "-rw-r--r-- 1 vagrant vagrant   66361 May 19 18:46 08-AdvancedFunctions.pdf\n",
        "drwxr-xr-x 1 vagrant vagrant     170 May 19 18:46 09-Logging\n",
        "drwxr-xr-x 1 vagrant vagrant     510 May 19 18:46 09-Logging_files\n",
        "-rw-r--r-- 1 vagrant vagrant   47018 May 19 18:46 09-Logging.html\n",
        "-rw-r--r-- 1 vagrant vagrant   10741 May 19 18:46 09-Logging.ipynb\n",
        "-rw-r--r-- 1 vagrant vagrant   65388 May 19 18:46 09-Logging.pdf\n",
        "drwxr-xr-x 1 vagrant vagrant     102 May 19 18:46 10-OOP1\n",
        "drwxr-xr-x 1 vagrant vagrant     510 May 19 18:46 10-OOP1_files\n",
        "-rw-r--r-- 1 vagrant vagrant   35789 May 19 18:46 10-OOP1.html\n",
        "-rw-r--r-- 1 vagrant vagrant    6375 May 19 18:46 10-OOP1.ipynb\n",
        "-rw-r--r-- 1 vagrant vagrant   63234 May 19 18:46 10-OOP1.pdf\n",
        "drwxr-xr-x 1 vagrant vagrant     136 May 19 18:46 11-OOP2\n",
        "drwxr-xr-x 1 vagrant vagrant     510 May 19 18:46 11-OOP2_files\n",
        "-rw-r--r-- 1 vagrant vagrant   72396 May 19 18:46 11-OOP2.html\n",
        "-rw-r--r-- 1 vagrant vagrant   14740 May 19 18:46 11-OOP2.ipynb\n",
        "-rw-r--r-- 1 vagrant vagrant   76117 May 19 18:46 11-OOP2.pdf\n",
        "drwxr-xr-x 1 vagrant vagrant     170 May 19 18:46 12-Decorators\n",
        "drwxr-xr-x 1 vagrant vagrant     510 May 19 18:46 12-Decorators_files\n",
        "-rw-r--r-- 1 vagrant vagrant   64594 May 19 18:46 12-Decorators.html\n",
        "-rw-r--r-- 1 vagrant vagrant   12311 May 19 18:46 12-Decorators.ipynb\n",
        "-rw-r--r-- 1 vagrant vagrant   73707 May 19 18:46 12-Decorators.pdf\n",
        "drwxr-xr-x 1 vagrant vagrant     102 May 19 18:46 13-Generators\n",
        "drwxr-xr-x 1 vagrant vagrant     510 May 19 18:46 13-GeneratorsAndIterators_files\n",
        "-rw-r--r-- 1 vagrant vagrant   71092 May 19 18:46 13-GeneratorsAndIterators.html\n",
        "-rw-r--r-- 1 vagrant vagrant   12557 May 19 18:46 13-GeneratorsAndIterators.ipynb\n",
        "-rw-r--r-- 1 vagrant vagrant   74557 May 19 18:46 13-GeneratorsAndIterators.pdf\n",
        "drwxr-xr-x 1 vagrant vagrant     204 May 19 18:46 14-ContextManagers\n",
        "drwxr-xr-x 1 vagrant vagrant     510 May 19 18:46 14-ContextManagers_files\n",
        "-rw-r--r-- 1 vagrant vagrant   47276 May 19 18:46 14-ContextManagers.html\n",
        "-rw-r--r-- 1 vagrant vagrant    9241 May 19 18:46 14-ContextManagers.ipynb\n",
        "-rw-r--r-- 1 vagrant vagrant   74509 May 19 18:46 14-ContextManagers.pdf\n",
        "drwxr-xr-x 1 vagrant vagrant     544 May 19 18:46 15-Threading\n",
        "drwxr-xr-x 1 vagrant vagrant     306 May 19 18:46 16-Multiprocessing\n",
        "drwxr-xr-x 1 vagrant vagrant     136 May 19 18:46 17-Subprocess\n",
        "drwxr-xr-x 1 vagrant vagrant     510 May 19 18:46 17-Subprocess_files\n",
        "-rw-r--r-- 1 vagrant vagrant   57879 May 19 18:46 17-Subprocess.html\n",
        "-rw-r--r-- 1 vagrant vagrant   19827 May 19 18:46 17-Subprocess.ipynb\n",
        "-rw-r--r-- 1 vagrant vagrant  144874 May 19 18:46 17-Subprocess.pdf\n",
        "drwxr-xr-x 1 vagrant vagrant     170 May 19 18:46 18-Virtualenv\n",
        "drwxr-xr-x 1 vagrant vagrant     510 May 19 18:46 19-Testing\n",
        "drwxr-xr-x 1 vagrant vagrant     510 May 19 18:46 20-MoreModules_files\n",
        "-rw-r--r-- 1 vagrant vagrant   78731 May 19 18:46 20-MoreModules.html\n",
        "-rw-r--r-- 1 vagrant vagrant   25666 May 19 18:46 20-MoreModules.ipynb\n",
        "-rw-r--r-- 1 vagrant vagrant  160428 May 19 18:46 20-MoreModules.pdf\n",
        "-rw-r--r-- 1 vagrant vagrant 1120739 May 19 18:46 ClassNotes.pdf\n",
        "-rw-r--r-- 1 vagrant vagrant  243767 May 19 18:46 CodeExamples.pdf\n",
        "-rw-r--r-- 1 vagrant vagrant   44257 May 19 18:46 code.md\n",
        "-rw-r--r-- 1 vagrant vagrant    1256 May 19 18:46 fabfile.py\n",
        "drwxr-xr-x 1 vagrant vagrant     272 May 19 21:34 FastTrackToPython 20140522.key\n",
        "-rw-r--r-- 1 vagrant vagrant 2092514 May 19 18:46 FastTrackToPython.pdf\n",
        "-rw-r--r-- 1 vagrant vagrant    3957 May 19 18:46 friendly.css\n",
        "drwxr-xr-x 1 vagrant vagrant     102 May 19 18:46 index_files\n",
        "-rw-r--r-- 1 vagrant vagrant    2459 May 19 18:46 index.html\n",
        "-rw-r--r-- 1 vagrant vagrant    1438 May 19 18:46 index.md\n",
        "-rw-r--r-- 1 vagrant vagrant       0 May 19 18:46 mypdf.pdf\n",
        "-rw-r--r-- 1 vagrant vagrant    4354 May 19 18:46 native.css\n",
        "-rw-r--r-- 1 vagrant vagrant 1120739 May 19 18:46 output.pdf\n",
        "-rw-r--r-- 1 vagrant vagrant    1168 May 19 18:46 pdfmarks.ps\n",
        "-rwxr-xr-x 1 vagrant vagrant     219 May 19 19:01 setup-environ.bash\n",
        "-rw-r--r-- 1 vagrant vagrant       0 May 19 18:46 test.pdf\n",
        "-rw-r--r-- 1 vagrant vagrant    4882 May 19 18:56 Vagrantfile\n",
        "\n"
       ]
      }
     ],
     "prompt_number": 19
    },
    {
     "cell_type": "markdown",
     "metadata": {},
     "source": [
      "Besides normal modules in Python, there are also modules containing other modules. These are called\n",
      "*packages*. The `os` module is such a package; inside it is the `os.path` module, used for \n",
      "manipulating filesystem pathnames:"
     ]
    },
    {
     "cell_type": "code",
     "collapsed": false,
     "input": [
      "os.path"
     ],
     "language": "python",
     "metadata": {},
     "outputs": [
      {
       "metadata": {},
       "output_type": "pyout",
       "prompt_number": 20,
       "text": [
        "<module 'posixpath' from '/home/vagrant/env/lib/python2.7/posixpath.pyc'>"
       ]
      }
     ],
     "prompt_number": 20
    },
    {
     "cell_type": "code",
     "collapsed": false,
     "input": [
      "os.path.abspath('.')"
     ],
     "language": "python",
     "metadata": {},
     "outputs": [
      {
       "metadata": {},
       "output_type": "pyout",
       "prompt_number": 21,
       "text": [
        "'/home/vagrant/src/fasttrack-python'"
       ]
      }
     ],
     "prompt_number": 21
    },
    {
     "cell_type": "code",
     "collapsed": false,
     "input": [
      "os.path.dirname(sys.executable)"
     ],
     "language": "python",
     "metadata": {},
     "outputs": [
      {
       "metadata": {},
       "output_type": "pyout",
       "prompt_number": 22,
       "text": [
        "'/home/vagrant/env/bin'"
       ]
      }
     ],
     "prompt_number": 22
    },
    {
     "cell_type": "code",
     "collapsed": false,
     "input": [
      "os.path.basename(sys.executable)"
     ],
     "language": "python",
     "metadata": {},
     "outputs": [
      {
       "metadata": {},
       "output_type": "pyout",
       "prompt_number": 23,
       "text": [
        "'python'"
       ]
      }
     ],
     "prompt_number": 23
    },
    {
     "cell_type": "code",
     "collapsed": false,
     "input": [
      "os.path.join('/usr/local', 'bin', 'foo')"
     ],
     "language": "python",
     "metadata": {},
     "outputs": [
      {
       "metadata": {},
       "output_type": "pyout",
       "prompt_number": 24,
       "text": [
        "'/usr/local/bin/foo'"
       ]
      }
     ],
     "prompt_number": 24
    },
    {
     "cell_type": "code",
     "collapsed": false,
     "input": [
      "os.path.normpath('/usr/local/bin/../../bin')"
     ],
     "language": "python",
     "metadata": {},
     "outputs": [
      {
       "metadata": {},
       "output_type": "pyout",
       "prompt_number": 25,
       "text": [
        "'/usr/bin'"
       ]
      }
     ],
     "prompt_number": 25
    },
    {
     "cell_type": "code",
     "collapsed": false,
     "input": [
      "os.path.expanduser('~')"
     ],
     "language": "python",
     "metadata": {},
     "outputs": [
      {
       "metadata": {},
       "output_type": "pyout",
       "prompt_number": 26,
       "text": [
        "'/home/vagrant'"
       ]
      }
     ],
     "prompt_number": 26
    },
    {
     "cell_type": "code",
     "collapsed": false,
     "input": [
      "os.path.expandvars('$HOME')"
     ],
     "language": "python",
     "metadata": {},
     "outputs": [
      {
       "metadata": {},
       "output_type": "pyout",
       "prompt_number": 27,
       "text": [
        "'/home/vagrant'"
       ]
      }
     ],
     "prompt_number": 27
    },
    {
     "cell_type": "markdown",
     "metadata": {},
     "source": [
      "In the `os` module, `os.path` is always available. This is not always the case. In some cases, you must\n",
      "import a submodule directly using a dotted import notation. (In the case of `os.path`, this is not \n",
      "necessary, but it will serve for illustration:"
     ]
    },
    {
     "cell_type": "code",
     "collapsed": true,
     "input": [
      "import os.path"
     ],
     "language": "python",
     "metadata": {},
     "outputs": [],
     "prompt_number": 28
    },
    {
     "cell_type": "markdown",
     "metadata": {},
     "source": [
      "## The `math` module\n",
      "\n",
      "Although simple arithmetic operations are supported by Python's syntax, whenever you need to perform\n",
      "more complicated math, you'll need to `import` the `math` module:"
     ]
    },
    {
     "cell_type": "code",
     "collapsed": false,
     "input": [
      "import math\n",
      "help(math)"
     ],
     "language": "python",
     "metadata": {},
     "outputs": [
      {
       "output_type": "stream",
       "stream": "stdout",
       "text": [
        "Help on built-in module math:\n",
        "\n",
        "NAME\n",
        "    math\n",
        "\n",
        "FILE\n",
        "    (built-in)\n",
        "\n",
        "DESCRIPTION\n",
        "    This module is always available.  It provides access to the\n",
        "    mathematical functions defined by the C standard.\n",
        "\n",
        "FUNCTIONS\n",
        "    acos(...)\n",
        "        acos(x)\n",
        "        \n",
        "        Return the arc cosine (measured in radians) of x.\n",
        "    \n",
        "    acosh(...)\n",
        "        acosh(x)\n",
        "        \n",
        "        Return the hyperbolic arc cosine (measured in radians) of x.\n",
        "    \n",
        "    asin(...)\n",
        "        asin(x)\n",
        "        \n",
        "        Return the arc sine (measured in radians) of x.\n",
        "    \n",
        "    asinh(...)\n",
        "        asinh(x)\n",
        "        \n",
        "        Return the hyperbolic arc sine (measured in radians) of x.\n",
        "    \n",
        "    atan(...)\n",
        "        atan(x)\n",
        "        \n",
        "        Return the arc tangent (measured in radians) of x.\n",
        "    \n",
        "    atan2(...)\n",
        "        atan2(y, x)\n",
        "        \n",
        "        Return the arc tangent (measured in radians) of y/x.\n",
        "        Unlike atan(y/x), the signs of both x and y are considered.\n",
        "    \n",
        "    atanh(...)\n",
        "        atanh(x)\n",
        "        \n",
        "        Return the hyperbolic arc tangent (measured in radians) of x.\n",
        "    \n",
        "    ceil(...)\n",
        "        ceil(x)\n",
        "        \n",
        "        Return the ceiling of x as a float.\n",
        "        This is the smallest integral value >= x.\n",
        "    \n",
        "    copysign(...)\n",
        "        copysign(x, y)\n",
        "        \n",
        "        Return x with the sign of y.\n",
        "    \n",
        "    cos(...)\n",
        "        cos(x)\n",
        "        \n",
        "        Return the cosine of x (measured in radians).\n",
        "    \n",
        "    cosh(...)\n",
        "        cosh(x)\n",
        "        \n",
        "        Return the hyperbolic cosine of x.\n",
        "    \n",
        "    degrees(...)\n",
        "        degrees(x)\n",
        "        \n",
        "        Convert angle x from radians to degrees.\n",
        "    \n",
        "    erf(...)\n",
        "        erf(x)\n",
        "        \n",
        "        Error function at x.\n",
        "    \n",
        "    erfc(...)\n",
        "        erfc(x)\n",
        "        \n",
        "        Complementary error function at x.\n",
        "    \n",
        "    exp(...)\n",
        "        exp(x)\n",
        "        \n",
        "        Return e raised to the power of x.\n",
        "    \n",
        "    expm1(...)\n",
        "        expm1(x)\n",
        "        \n",
        "        Return exp(x)-1.\n",
        "        This function avoids the loss of precision involved in the direct evaluation of exp(x)-1 for small x.\n",
        "    \n",
        "    fabs(...)\n",
        "        fabs(x)\n",
        "        \n",
        "        Return the absolute value of the float x.\n",
        "    \n",
        "    factorial(...)\n",
        "        factorial(x) -> Integral\n",
        "        \n",
        "        Find x!. Raise a ValueError if x is negative or non-integral.\n",
        "    \n",
        "    floor(...)\n",
        "        floor(x)\n",
        "        \n",
        "        Return the floor of x as a float.\n",
        "        This is the largest integral value <= x.\n",
        "    \n",
        "    fmod(...)\n",
        "        fmod(x, y)\n",
        "        \n",
        "        Return fmod(x, y), according to platform C.  x % y may differ.\n",
        "    \n",
        "    frexp(...)\n",
        "        frexp(x)\n",
        "        \n",
        "        Return the mantissa and exponent of x, as pair (m, e).\n",
        "        m is a float and e is an int, such that x = m * 2.**e.\n",
        "        If x is 0, m and e are both 0.  Else 0.5 <= abs(m) < 1.0.\n",
        "    \n",
        "    fsum(...)\n",
        "        fsum(iterable)\n",
        "        \n",
        "        Return an accurate floating point sum of values in the iterable.\n",
        "        Assumes IEEE-754 floating point arithmetic.\n",
        "    \n",
        "    gamma(...)\n",
        "        gamma(x)\n",
        "        \n",
        "        Gamma function at x.\n",
        "    \n",
        "    hypot(...)\n",
        "        hypot(x, y)\n",
        "        \n",
        "        Return the Euclidean distance, sqrt(x*x + y*y).\n",
        "    \n",
        "    isinf(...)\n",
        "        isinf(x) -> bool\n",
        "        \n",
        "        Check if float x is infinite (positive or negative).\n",
        "    \n",
        "    isnan(...)\n",
        "        isnan(x) -> bool\n",
        "        \n",
        "        Check if float x is not a number (NaN).\n",
        "    \n",
        "    ldexp(...)\n",
        "        ldexp(x, i)\n",
        "        \n",
        "        Return x * (2**i).\n",
        "    \n",
        "    lgamma(...)\n",
        "        lgamma(x)\n",
        "        \n",
        "        Natural logarithm of absolute value of Gamma function at x.\n",
        "    \n",
        "    log(...)\n",
        "        log(x[, base])\n",
        "        \n",
        "        Return the logarithm of x to the given base.\n",
        "        If the base not specified, returns the natural logarithm (base e) of x.\n",
        "    \n",
        "    log10(...)\n",
        "        log10(x)\n",
        "        \n",
        "        Return the base 10 logarithm of x.\n",
        "    \n",
        "    log1p(...)\n",
        "        log1p(x)\n",
        "        \n",
        "        Return the natural logarithm of 1+x (base e).\n",
        "        The result is computed in a way which is accurate for x near zero.\n",
        "    \n",
        "    modf(...)\n",
        "        modf(x)\n",
        "        \n",
        "        Return the fractional and integer parts of x.  Both results carry the sign\n",
        "        of x and are floats.\n",
        "    \n",
        "    pow(...)\n",
        "        pow(x, y)\n",
        "        \n",
        "        Return x**y (x to the power of y).\n",
        "    \n",
        "    radians(...)\n",
        "        radians(x)\n",
        "        \n",
        "        Convert angle x from degrees to radians.\n",
        "    \n",
        "    sin(...)\n",
        "        sin(x)\n",
        "        \n",
        "        Return the sine of x (measured in radians).\n",
        "    \n",
        "    sinh(...)\n",
        "        sinh(x)\n",
        "        \n",
        "        Return the hyperbolic sine of x.\n",
        "    \n",
        "    sqrt(...)\n",
        "        sqrt(x)\n",
        "        \n",
        "        Return the square root of x.\n",
        "    \n",
        "    tan(...)\n",
        "        tan(x)\n",
        "        \n",
        "        Return the tangent of x (measured in radians).\n",
        "    \n",
        "    tanh(...)\n",
        "        tanh(x)\n",
        "        \n",
        "        Return the hyperbolic tangent of x.\n",
        "    \n",
        "    trunc(...)\n",
        "        trunc(x:Real) -> Integral\n",
        "        \n",
        "        Truncates x to the nearest Integral toward 0. Uses the __trunc__ magic method.\n",
        "\n",
        "DATA\n",
        "    e = 2.718281828459045\n",
        "    pi = 3.141592653589793\n",
        "\n",
        "\n"
       ]
      }
     ],
     "prompt_number": 29
    },
    {
     "cell_type": "code",
     "collapsed": false,
     "input": [
      "math.sqrt(2)"
     ],
     "language": "python",
     "metadata": {},
     "outputs": [
      {
       "metadata": {},
       "output_type": "pyout",
       "prompt_number": 30,
       "text": [
        "1.4142135623730951"
       ]
      }
     ],
     "prompt_number": 30
    },
    {
     "cell_type": "code",
     "collapsed": false,
     "input": [
      "math.pi"
     ],
     "language": "python",
     "metadata": {},
     "outputs": [
      {
       "metadata": {},
       "output_type": "pyout",
       "prompt_number": 31,
       "text": [
        "3.141592653589793"
       ]
      }
     ],
     "prompt_number": 31
    },
    {
     "cell_type": "code",
     "collapsed": false,
     "input": [
      "math.sin(math.pi / 4)"
     ],
     "language": "python",
     "metadata": {},
     "outputs": [
      {
       "metadata": {},
       "output_type": "pyout",
       "prompt_number": 32,
       "text": [
        "0.7071067811865475"
       ]
      }
     ],
     "prompt_number": 32
    },
    {
     "cell_type": "markdown",
     "metadata": {},
     "source": [
      "### Exercises\n",
      "\n",
      "- Create a python script that prints out its command-line arguments\n",
      "- Update `sys.path` in a Python script to be the empty list. What \n",
      "   happens when you try to `import Queue`?\n",
      "- Create a Python script that prints out its own absolute path when run using `sys.argv` and \n",
      "  `os.path.abspath`\n",
      "- Calculate the value of e raised to the (j * pi) power using either `cmath` or \n",
      "  the exponentiation operator (`**`)"
     ]
    },
    {
     "cell_type": "markdown",
     "metadata": {},
     "source": [
      "## The `time` and `datetime` modules\n",
      "\n",
      "Working with dates and times in Python is performed using these two modules. The `time` module contains\n",
      "lower-level C-like timestamp manipulation functions (similar to what you would find in `<time.h>`).\n",
      "`datetime` contains higher-level objects for dealing with datetime components:"
     ]
    },
    {
     "cell_type": "code",
     "collapsed": false,
     "input": [
      "import time\n",
      "time.time()"
     ],
     "language": "python",
     "metadata": {},
     "outputs": [
      {
       "metadata": {},
       "output_type": "pyout",
       "prompt_number": 33,
       "text": [
        "1400620639.646674"
       ]
      }
     ],
     "prompt_number": 33
    },
    {
     "cell_type": "code",
     "collapsed": false,
     "input": [
      "time.asctime()"
     ],
     "language": "python",
     "metadata": {},
     "outputs": [
      {
       "metadata": {},
       "output_type": "pyout",
       "prompt_number": 34,
       "text": [
        "'Tue May 20 21:17:20 2014'"
       ]
      }
     ],
     "prompt_number": 34
    },
    {
     "cell_type": "code",
     "collapsed": false,
     "input": [
      "time.ctime()"
     ],
     "language": "python",
     "metadata": {},
     "outputs": [
      {
       "metadata": {},
       "output_type": "pyout",
       "prompt_number": 35,
       "text": [
        "'Tue May 20 21:17:20 2014'"
       ]
      }
     ],
     "prompt_number": 35
    },
    {
     "cell_type": "code",
     "collapsed": false,
     "input": [
      "time.gmtime()"
     ],
     "language": "python",
     "metadata": {},
     "outputs": [
      {
       "metadata": {},
       "output_type": "pyout",
       "prompt_number": 36,
       "text": [
        "time.struct_time(tm_year=2014, tm_mon=5, tm_mday=20, tm_hour=21, tm_min=17, tm_sec=20, tm_wday=1, tm_yday=140, tm_isdst=0)"
       ]
      }
     ],
     "prompt_number": 36
    },
    {
     "cell_type": "code",
     "collapsed": false,
     "input": [
      "time.mktime(time.gmtime())"
     ],
     "language": "python",
     "metadata": {},
     "outputs": [
      {
       "metadata": {},
       "output_type": "pyout",
       "prompt_number": 37,
       "text": [
        "1400620640.0"
       ]
      }
     ],
     "prompt_number": 37
    },
    {
     "cell_type": "code",
     "collapsed": false,
     "input": [
      "time.localtime()"
     ],
     "language": "python",
     "metadata": {},
     "outputs": [
      {
       "metadata": {},
       "output_type": "pyout",
       "prompt_number": 38,
       "text": [
        "time.struct_time(tm_year=2014, tm_mon=5, tm_mday=20, tm_hour=21, tm_min=17, tm_sec=21, tm_wday=1, tm_yday=140, tm_isdst=0)"
       ]
      }
     ],
     "prompt_number": 38
    },
    {
     "cell_type": "code",
     "collapsed": false,
     "input": [
      "time.mktime(time.localtime())"
     ],
     "language": "python",
     "metadata": {},
     "outputs": [
      {
       "metadata": {},
       "output_type": "pyout",
       "prompt_number": 39,
       "text": [
        "1400620641.0"
       ]
      }
     ],
     "prompt_number": 39
    },
    {
     "cell_type": "code",
     "collapsed": false,
     "input": [
      "time.strftime('%Y-%m-%d', time.gmtime() )"
     ],
     "language": "python",
     "metadata": {},
     "outputs": [
      {
       "metadata": {},
       "output_type": "pyout",
       "prompt_number": 40,
       "text": [
        "'2014-05-20'"
       ]
      }
     ],
     "prompt_number": 40
    },
    {
     "cell_type": "code",
     "collapsed": false,
     "input": [
      "time.strptime('2012-11-05', '%Y-%m-%d' )"
     ],
     "language": "python",
     "metadata": {},
     "outputs": [
      {
       "metadata": {},
       "output_type": "pyout",
       "prompt_number": 41,
       "text": [
        "time.struct_time(tm_year=2012, tm_mon=11, tm_mday=5, tm_hour=0, tm_min=0, tm_sec=0, tm_wday=0, tm_yday=310, tm_isdst=-1)"
       ]
      }
     ],
     "prompt_number": 41
    },
    {
     "cell_type": "code",
     "collapsed": true,
     "input": [
      "time.sleep(0.1)"
     ],
     "language": "python",
     "metadata": {},
     "outputs": [],
     "prompt_number": 42
    },
    {
     "cell_type": "code",
     "collapsed": false,
     "input": [
      "import datetime\n",
      "datetime.datetime.now()"
     ],
     "language": "python",
     "metadata": {},
     "outputs": [
      {
       "metadata": {},
       "output_type": "pyout",
       "prompt_number": 43,
       "text": [
        "datetime.datetime(2014, 5, 20, 21, 17, 22, 173281)"
       ]
      }
     ],
     "prompt_number": 43
    },
    {
     "cell_type": "code",
     "collapsed": false,
     "input": [
      "datetime.datetime.utcnow()"
     ],
     "language": "python",
     "metadata": {},
     "outputs": [
      {
       "metadata": {},
       "output_type": "pyout",
       "prompt_number": 44,
       "text": [
        "datetime.datetime(2014, 5, 20, 21, 17, 22, 372888)"
       ]
      }
     ],
     "prompt_number": 44
    },
    {
     "cell_type": "code",
     "collapsed": false,
     "input": [
      "now = datetime.datetime.utcnow()\n",
      "print repr(now.date())\n",
      "print repr(now.time())"
     ],
     "language": "python",
     "metadata": {},
     "outputs": [
      {
       "output_type": "stream",
       "stream": "stdout",
       "text": [
        "datetime.date(2014, 5, 20)\n",
        "datetime.time(21, 17, 22, 565733)\n"
       ]
      }
     ],
     "prompt_number": 45
    },
    {
     "cell_type": "code",
     "collapsed": false,
     "input": [
      "now.month"
     ],
     "language": "python",
     "metadata": {},
     "outputs": [
      {
       "metadata": {},
       "output_type": "pyout",
       "prompt_number": 46,
       "text": [
        "5"
       ]
      }
     ],
     "prompt_number": 46
    },
    {
     "cell_type": "code",
     "collapsed": false,
     "input": [
      "now.ctime()"
     ],
     "language": "python",
     "metadata": {},
     "outputs": [
      {
       "metadata": {},
       "output_type": "pyout",
       "prompt_number": 47,
       "text": [
        "'Tue May 20 21:17:22 2014'"
       ]
      }
     ],
     "prompt_number": 47
    },
    {
     "cell_type": "code",
     "collapsed": false,
     "input": [
      "now.strftime('%Y-%m-%d')"
     ],
     "language": "python",
     "metadata": {},
     "outputs": [
      {
       "metadata": {},
       "output_type": "pyout",
       "prompt_number": 48,
       "text": [
        "'2014-05-20'"
       ]
      }
     ],
     "prompt_number": 48
    },
    {
     "cell_type": "code",
     "collapsed": false,
     "input": [
      "datetime.datetime.strptime('2012-10-05', '%Y-%m-%d')"
     ],
     "language": "python",
     "metadata": {},
     "outputs": [
      {
       "metadata": {},
       "output_type": "pyout",
       "prompt_number": 49,
       "text": [
        "datetime.datetime(2012, 10, 5, 0, 0)"
       ]
      }
     ],
     "prompt_number": 49
    },
    {
     "cell_type": "code",
     "collapsed": false,
     "input": [
      "now.timetuple()"
     ],
     "language": "python",
     "metadata": {},
     "outputs": [
      {
       "metadata": {},
       "output_type": "pyout",
       "prompt_number": 50,
       "text": [
        "time.struct_time(tm_year=2014, tm_mon=5, tm_mday=20, tm_hour=21, tm_min=17, tm_sec=22, tm_wday=1, tm_yday=140, tm_isdst=-1)"
       ]
      }
     ],
     "prompt_number": 50
    },
    {
     "cell_type": "code",
     "collapsed": false,
     "input": [
      "time.mktime(now.timetuple())"
     ],
     "language": "python",
     "metadata": {},
     "outputs": [
      {
       "metadata": {},
       "output_type": "pyout",
       "prompt_number": 51,
       "text": [
        "1400620642.0"
       ]
      }
     ],
     "prompt_number": 51
    },
    {
     "cell_type": "code",
     "collapsed": false,
     "input": [
      "datetime.datetime.fromtimestamp(1352070076)"
     ],
     "language": "python",
     "metadata": {},
     "outputs": [
      {
       "metadata": {},
       "output_type": "pyout",
       "prompt_number": 52,
       "text": [
        "datetime.datetime(2012, 11, 4, 23, 1, 16)"
       ]
      }
     ],
     "prompt_number": 52
    },
    {
     "cell_type": "code",
     "collapsed": false,
     "input": [
      "datetime.date.today()"
     ],
     "language": "python",
     "metadata": {},
     "outputs": [
      {
       "metadata": {},
       "output_type": "pyout",
       "prompt_number": 53,
       "text": [
        "datetime.date(2014, 5, 20)"
       ]
      }
     ],
     "prompt_number": 53
    },
    {
     "cell_type": "code",
     "collapsed": false,
     "input": [
      "datetime.date.min"
     ],
     "language": "python",
     "metadata": {},
     "outputs": [
      {
       "metadata": {},
       "output_type": "pyout",
       "prompt_number": 54,
       "text": [
        "datetime.date(1, 1, 1)"
       ]
      }
     ],
     "prompt_number": 54
    },
    {
     "cell_type": "code",
     "collapsed": false,
     "input": [
      "datetime.date.max"
     ],
     "language": "python",
     "metadata": {},
     "outputs": [
      {
       "metadata": {},
       "output_type": "pyout",
       "prompt_number": 55,
       "text": [
        "datetime.date(9999, 12, 31)"
       ]
      }
     ],
     "prompt_number": 55
    },
    {
     "cell_type": "code",
     "collapsed": false,
     "input": [
      "datetime.time.min"
     ],
     "language": "python",
     "metadata": {},
     "outputs": [
      {
       "metadata": {},
       "output_type": "pyout",
       "prompt_number": 56,
       "text": [
        "datetime.time(0, 0)"
       ]
      }
     ],
     "prompt_number": 56
    },
    {
     "cell_type": "code",
     "collapsed": false,
     "input": [
      "datetime.time.max"
     ],
     "language": "python",
     "metadata": {},
     "outputs": [
      {
       "metadata": {},
       "output_type": "pyout",
       "prompt_number": 57,
       "text": [
        "datetime.time(23, 59, 59, 999999)"
       ]
      }
     ],
     "prompt_number": 57
    },
    {
     "cell_type": "code",
     "collapsed": false,
     "input": [
      "datetime.datetime.combine(datetime.date.today(), datetime.time.min)"
     ],
     "language": "python",
     "metadata": {},
     "outputs": [
      {
       "metadata": {},
       "output_type": "pyout",
       "prompt_number": 58,
       "text": [
        "datetime.datetime(2014, 5, 20, 0, 0)"
       ]
      }
     ],
     "prompt_number": 58
    },
    {
     "cell_type": "code",
     "collapsed": false,
     "input": [
      "datetime.datetime.combine(datetime.date.today(), datetime.time.max)"
     ],
     "language": "python",
     "metadata": {},
     "outputs": [
      {
       "metadata": {},
       "output_type": "pyout",
       "prompt_number": 59,
       "text": [
        "datetime.datetime(2014, 5, 20, 23, 59, 59, 999999)"
       ]
      }
     ],
     "prompt_number": 59
    },
    {
     "cell_type": "code",
     "collapsed": false,
     "input": [
      "local_now = datetime.datetime.now()\n",
      "utc_now = datetime.datetime.utcnow()\n",
      "difference = utc_now - local_now\n",
      "difference"
     ],
     "language": "python",
     "metadata": {},
     "outputs": [
      {
       "metadata": {},
       "output_type": "pyout",
       "prompt_number": 60,
       "text": [
        "datetime.timedelta(0, 0, 132)"
       ]
      }
     ],
     "prompt_number": 60
    },
    {
     "cell_type": "markdown",
     "metadata": {},
     "source": [
      "## Files and `StringIO`\n",
      "\n",
      "We've touched a bit on files (`sys.stdin`, etc.) but not much. Files are opened using the `open` \n",
      "builtin:"
     ]
    },
    {
     "cell_type": "code",
     "collapsed": true,
     "input": [
      "fp = open('04-UsingModules.ipynb')"
     ],
     "language": "python",
     "metadata": {},
     "outputs": [],
     "prompt_number": 66
    },
    {
     "cell_type": "code",
     "collapsed": false,
     "input": [
      "fp.read(100)"
     ],
     "language": "python",
     "metadata": {},
     "outputs": [
      {
       "metadata": {},
       "output_type": "pyout",
       "prompt_number": 67,
       "text": [
        "'{\\n \"metadata\": {\\n  \"name\": \"\",\\n  \"signature\": \"sha256:75092e3e872b91334c5176dd540c34bd9608568b64e784'"
       ]
      }
     ],
     "prompt_number": 67
    },
    {
     "cell_type": "code",
     "collapsed": false,
     "input": [
      "fp.seek(10)\n",
      "fp.read(100)"
     ],
     "language": "python",
     "metadata": {},
     "outputs": [
      {
       "metadata": {},
       "output_type": "pyout",
       "prompt_number": 68,
       "text": [
        "'ta\": {\\n  \"name\": \"\",\\n  \"signature\": \"sha256:75092e3e872b91334c5176dd540c34bd9608568b64e784121c08a0c8'"
       ]
      }
     ],
     "prompt_number": 68
    },
    {
     "cell_type": "markdown",
     "metadata": {},
     "source": [
      "We can also treat a file as a sequence of lines:"
     ]
    },
    {
     "cell_type": "code",
     "collapsed": false,
     "input": [
      "fp.seek(0)\n",
      "num_lines = 0\n",
      "for line in fp:\n",
      "    num_lines += 1\n",
      "num_lines"
     ],
     "language": "python",
     "metadata": {},
     "outputs": [
      {
       "metadata": {},
       "output_type": "pyout",
       "prompt_number": 69,
       "text": [
        "2287"
       ]
      }
     ],
     "prompt_number": 69
    },
    {
     "cell_type": "markdown",
     "metadata": {},
     "source": [
      "Many places where we might want to use a file, it's actually more convenient to use a string. In those\n",
      "cases, we can create a *file-like object* using the `StringIO` module:"
     ]
    },
    {
     "cell_type": "code",
     "collapsed": true,
     "input": [
      "import StringIO\n",
      "fp = StringIO.StringIO('This is a file-like object')"
     ],
     "language": "python",
     "metadata": {},
     "outputs": [],
     "prompt_number": 70
    },
    {
     "cell_type": "code",
     "collapsed": false,
     "input": [
      "fp.read()"
     ],
     "language": "python",
     "metadata": {},
     "outputs": [
      {
       "metadata": {},
       "output_type": "pyout",
       "prompt_number": 71,
       "text": [
        "'This is a file-like object'"
       ]
      }
     ],
     "prompt_number": 71
    },
    {
     "cell_type": "code",
     "collapsed": false,
     "input": [
      "fp.seek(4)\n",
      "fp.read(10)"
     ],
     "language": "python",
     "metadata": {},
     "outputs": [
      {
       "metadata": {},
       "output_type": "pyout",
       "prompt_number": 72,
       "text": [
        "' is a file'"
       ]
      }
     ],
     "prompt_number": 72
    },
    {
     "cell_type": "code",
     "collapsed": false,
     "input": [
      "fp.tell()"
     ],
     "language": "python",
     "metadata": {},
     "outputs": [
      {
       "metadata": {},
       "output_type": "pyout",
       "prompt_number": 73,
       "text": [
        "14"
       ]
      }
     ],
     "prompt_number": 73
    },
    {
     "cell_type": "markdown",
     "metadata": {},
     "source": [
      "We can also write to file-like objects:"
     ]
    },
    {
     "cell_type": "code",
     "collapsed": true,
     "input": [
      "fp = StringIO.StringIO()\n",
      "fp.write('Hello, there')"
     ],
     "language": "python",
     "metadata": {},
     "outputs": [],
     "prompt_number": 74
    },
    {
     "cell_type": "code",
     "collapsed": false,
     "input": [
      "fp.seek(0)\n",
      "fp.read()"
     ],
     "language": "python",
     "metadata": {},
     "outputs": [
      {
       "metadata": {},
       "output_type": "pyout",
       "prompt_number": 75,
       "text": [
        "'Hello, there'"
       ]
      }
     ],
     "prompt_number": 75
    },
    {
     "cell_type": "code",
     "collapsed": true,
     "input": [
      "fp.seek(10)\n",
      "fp.write('this is more text')"
     ],
     "language": "python",
     "metadata": {},
     "outputs": [],
     "prompt_number": 76
    },
    {
     "cell_type": "markdown",
     "metadata": {},
     "source": [
      "We can also get the underlying buffer of the object using `getvalue()`:"
     ]
    },
    {
     "cell_type": "code",
     "collapsed": false,
     "input": [
      "fp.getvalue()"
     ],
     "language": "python",
     "metadata": {},
     "outputs": [
      {
       "metadata": {},
       "output_type": "pyout",
       "prompt_number": 77,
       "text": [
        "'Hello, thethis is more text'"
       ]
      }
     ],
     "prompt_number": 77
    },
    {
     "cell_type": "markdown",
     "metadata": {},
     "source": [
      "# Debugging using `pdb`\n",
      "\n",
      "We can enter an interactive debugger from a Python file by importing the `pdb` module and setting\n",
      "a breakpoint:\n",
      "\n",
      "    import pdb\n",
      "    pdb.set_trace()"
     ]
    },
    {
     "cell_type": "markdown",
     "metadata": {},
     "source": [
      "### Exercises\n",
      "\n",
      "- Write a script that prints the current value of `time.time()` every second\n",
      "- Update the script to print the value of `datetime.datetime.now()`\n",
      "- Update to print the value of `datetime.datetime.utcnow()`\n",
      "- Write a function to convert from a datetime object (as in `datetime.datetime.utcnow()` into a\n",
      "  \"seconds since the epoch\" timestamp (as in `time.time()`)\n",
      "- Create a `StringIO` object that contains several lines, separated by '\\n' characters. Pass that object to your \n",
      "  function that prints a file with line numbers.\n",
      "- Add the following line to your file printing function at the beginning: \n",
      "  `import pdb; pdb.set_trace()`. Step through the execution of the function using 'n'. (You can also \n",
      "  (c)ontinue running the program to exit the debugger.)\n",
      "- `import hashlib`. Use `dir()` to determine the contents of the hashlib module. Which hashing modules\n",
      "  are available?"
     ]
    }
   ],
   "metadata": {}
  }
 ]
}