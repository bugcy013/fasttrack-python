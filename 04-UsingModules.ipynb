{
 "metadata": {
  "name": "04-UsingModules"
 }, 
 "nbformat": 2, 
 "worksheets": [
  {
   "cells": [
    {
     "cell_type": "markdown", 
     "source": [
      "# Using Modules", 
      "", 
      "Python's basic unit of reusable code is the *module*. You can access the functions and classes ", 
      "inside a module using the `import` statement. One of the most important modules is the `sys` module:"
     ]
    }, 
    {
     "cell_type": "code", 
     "collapsed": false, 
     "input": [
      "import sys", 
      "print sys"
     ], 
     "language": "python", 
     "outputs": [
      {
       "output_type": "stream", 
       "stream": "stdout", 
       "text": [
        "<module 'sys' (built-in)>"
       ]
      }
     ], 
     "prompt_number": 1
    }, 
    {
     "cell_type": "markdown", 
     "source": [
      "The `import` statement can also be used to *alias* a module:"
     ]
    }, 
    {
     "cell_type": "code", 
     "collapsed": false, 
     "input": [
      "import sys as mysys", 
      "print mysys"
     ], 
     "language": "python", 
     "outputs": [
      {
       "output_type": "stream", 
       "stream": "stdout", 
       "text": [
        "<module 'sys' (built-in)>"
       ]
      }
     ], 
     "prompt_number": 2
    }, 
    {
     "cell_type": "markdown", 
     "source": [
      "We can also `import` one or more names from a module:"
     ]
    }, 
    {
     "cell_type": "code", 
     "collapsed": false, 
     "input": [
      "sys.path"
     ], 
     "language": "python", 
     "outputs": [
      {
       "output_type": "pyout", 
       "prompt_number": 4, 
       "text": [
        "['',", 
        " '/usr/lib/python2.7',", 
        " '/usr/lib/python2.7/plat-linux2',", 
        " '/usr/lib/python2.7/lib-tk',", 
        " '/usr/lib/python2.7/lib-old',", 
        " '/usr/lib/python2.7/lib-dynload',", 
        " '/usr/local/lib/python2.7/dist-packages',", 
        " '/usr/lib/python2.7/dist-packages',", 
        " '/usr/lib/python2.7/dist-packages/PIL',", 
        " '/usr/lib/pymodules/python2.7',", 
        " '/usr/lib/python2.7/dist-packages/IPython/extensions']"
       ]
      }
     ], 
     "prompt_number": 4
    }, 
    {
     "cell_type": "code", 
     "collapsed": false, 
     "input": [
      "from sys import path", 
      "print path"
     ], 
     "language": "python", 
     "outputs": [
      {
       "output_type": "stream", 
       "stream": "stdout", 
       "text": [
        "['', '/usr/lib/python2.7', '/usr/lib/python2.7/plat-linux2', '/usr/lib/python2.7/lib-tk', '/usr/lib/python2.7/lib-old', '/usr/lib/python2.7/lib-dynload', '/usr/local/lib/python2.7/dist-packages', '/usr/lib/python2.7/dist-packages', '/usr/lib/python2.7/dist-packages/PIL', '/usr/lib/pymodules/python2.7', '/usr/lib/python2.7/dist-packages/IPython/extensions']"
       ]
      }
     ], 
     "prompt_number": 3
    }, 
    {
     "cell_type": "code", 
     "collapsed": false, 
     "input": [
      "from sys import path as mypath", 
      "print mypath"
     ], 
     "language": "python", 
     "outputs": [
      {
       "output_type": "stream", 
       "stream": "stdout", 
       "text": [
        "['', '/usr/lib/python2.7', '/usr/lib/python2.7/plat-linux2', '/usr/lib/python2.7/lib-tk', '/usr/lib/python2.7/lib-old', '/usr/lib/python2.7/lib-dynload', '/usr/local/lib/python2.7/dist-packages', '/usr/lib/python2.7/dist-packages', '/usr/lib/pymodules/python2.7', '/usr/lib/python2.7/dist-packages/IPython/extensions']"
       ]
      }
     ], 
     "prompt_number": 92
    }, 
    {
     "cell_type": "markdown", 
     "source": [
      "One of Python's nicest features is its *introspection* capabilities. For instance, to get a list of ", 
      "the properties available on an object, we can use the builtin function `dir()`:"
     ]
    }, 
    {
     "cell_type": "code", 
     "collapsed": false, 
     "input": [
      "dir(sys)"
     ], 
     "language": "python", 
     "outputs": [
      {
       "output_type": "pyout", 
       "prompt_number": 5, 
       "text": [
        "['__displayhook__',", 
        " '__doc__',", 
        " '__excepthook__',", 
        " '__name__',", 
        " '__package__',", 
        " '__stderr__',", 
        " '__stdin__',", 
        " '__stdout__',", 
        " '_clear_type_cache',", 
        " '_current_frames',", 
        " '_getframe',", 
        " '_mercurial',", 
        " 'api_version',", 
        " 'argv',", 
        " 'builtin_module_names',", 
        " 'byteorder',", 
        " 'call_tracing',", 
        " 'callstats',", 
        " 'copyright',", 
        " 'displayhook',", 
        " 'dont_write_bytecode',", 
        " 'exc_clear',", 
        " 'exc_info',", 
        " 'exc_type',", 
        " 'excepthook',", 
        " 'exec_prefix',", 
        " 'executable',", 
        " 'exit',", 
        " 'exitfunc',", 
        " 'flags',", 
        " 'float_info',", 
        " 'float_repr_style',", 
        " 'getcheckinterval',", 
        " 'getdefaultencoding',", 
        " 'getdlopenflags',", 
        " 'getfilesystemencoding',", 
        " 'getprofile',", 
        " 'getrecursionlimit',", 
        " 'getrefcount',", 
        " 'getsizeof',", 
        " 'gettrace',", 
        " 'hexversion',", 
        " 'long_info',", 
        " 'maxint',", 
        " 'maxsize',", 
        " 'maxunicode',", 
        " 'meta_path',", 
        " 'modules',", 
        " 'path',", 
        " 'path_hooks',", 
        " 'path_importer_cache',", 
        " 'platform',", 
        " 'prefix',", 
        " 'py3kwarning',", 
        " 'pydebug',", 
        " 'setcheckinterval',", 
        " 'setdlopenflags',", 
        " 'setprofile',", 
        " 'setrecursionlimit',", 
        " 'settrace',", 
        " 'stderr',", 
        " 'stdin',", 
        " 'stdout',", 
        " 'subversion',", 
        " 'version',", 
        " 'version_info',", 
        " 'warnoptions']"
       ]
      }
     ], 
     "prompt_number": 5
    }, 
    {
     "cell_type": "markdown", 
     "source": [
      "If we want more information about something, we can also use the `help()` builtin function:"
     ]
    }, 
    {
     "cell_type": "code", 
     "collapsed": false, 
     "input": [
      "help(sys.setprofile)"
     ], 
     "language": "python", 
     "outputs": [
      {
       "output_type": "stream", 
       "stream": "stdout", 
       "text": [
        "Help on built-in function setprofile in module sys:", 
        "", 
        "setprofile(...)", 
        "    setprofile(function)", 
        "    ", 
        "    Set the profiling function.  It will be called on each function call", 
        "    and return.  See the profiler chapter in the library manual.", 
        ""
       ]
      }
     ], 
     "prompt_number": 6
    }, 
    {
     "cell_type": "markdown", 
     "source": [
      "## The `sys` module", 
      "", 
      "`sys` contains functions and variables related to the running Python program. In particular, if you ", 
      "wish to use command-line arguments, these are accessed via `sys.argv`."
     ]
    }, 
    {
     "cell_type": "code", 
     "collapsed": false, 
     "input": [
      "print sys.argv"
     ], 
     "language": "python", 
     "outputs": [
      {
       "output_type": "stream", 
       "stream": "stdout", 
       "text": [
        "['-c', '-f', '/home/vagrant/.ipython/profile_default/security/kernel-78134454-93d3-40a3-ae54-10d023f89f3a.json', \"--KernelApp.parent_appname='ipython-notebook'\", '--parent=1']"
       ]
      }
     ], 
     "prompt_number": 7
    }, 
    {
     "cell_type": "markdown", 
     "source": [
      "You can also see the exact executable file containing your Python interpreter:"
     ]
    }, 
    {
     "cell_type": "code", 
     "collapsed": false, 
     "input": [
      "print sys.executable"
     ], 
     "language": "python", 
     "outputs": [
      {
       "output_type": "stream", 
       "stream": "stdout", 
       "text": [
        "/usr/bin/python"
       ]
      }
     ], 
     "prompt_number": 8
    }, 
    {
     "cell_type": "markdown", 
     "source": [
      "Access to the standard input, output, and error streams is also through the `sys` module:"
     ]
    }, 
    {
     "cell_type": "code", 
     "collapsed": false, 
     "input": [
      "print sys.stdin, sys.stdout, sys.stderr"
     ], 
     "language": "python", 
     "outputs": [
      {
       "output_type": "stream", 
       "stream": "stdout", 
       "text": [
        "<open file '<stdin>', mode 'r' at 0x7f0ee164f150> <IPython.zmq.iostream.OutStream object at 0x2515250> <IPython.zmq.iostream.OutStream object at 0x2515e10>"
       ]
      }
     ], 
     "prompt_number": 9
    }, 
    {
     "cell_type": "code", 
     "collapsed": false, 
     "input": [
      "sys.stderr.write('This is written to the stderr stream\\n')"
     ], 
     "language": "python", 
     "outputs": [
      {
       "output_type": "stream", 
       "stream": "stderr", 
       "text": [
        "This is written to the stderr stream"
       ]
      }
     ], 
     "prompt_number": 10
    }, 
    {
     "cell_type": "code", 
     "collapsed": false, 
     "input": [
      "sys.stdout.write('This is written to the stdout stream\\n')"
     ], 
     "language": "python", 
     "outputs": [
      {
       "output_type": "stream", 
       "stream": "stdout", 
       "text": [
        "This is written to the stdout stream"
       ]
      }
     ], 
     "prompt_number": 11
    }, 
    {
     "cell_type": "markdown", 
     "source": [
      "The `sys.path` variable gives you access to the search path the Python interpreter uses to find", 
      "modules to `import`:"
     ]
    }, 
    {
     "cell_type": "code", 
     "collapsed": false, 
     "input": [
      "sys.path"
     ], 
     "language": "python", 
     "outputs": [
      {
       "output_type": "pyout", 
       "prompt_number": 100, 
       "text": [
        "['',", 
        " '/usr/lib/python2.7',", 
        " '/usr/lib/python2.7/plat-linux2',", 
        " '/usr/lib/python2.7/lib-tk',", 
        " '/usr/lib/python2.7/lib-old',", 
        " '/usr/lib/python2.7/lib-dynload',", 
        " '/usr/local/lib/python2.7/dist-packages',", 
        " '/usr/lib/python2.7/dist-packages',", 
        " '/usr/lib/pymodules/python2.7',", 
        " '/usr/lib/python2.7/dist-packages/IPython/extensions']"
       ]
      }
     ], 
     "prompt_number": 100
    }, 
    {
     "cell_type": "markdown", 
     "source": [
      "You can also access various constants describing your system such as the largest integer:"
     ]
    }, 
    {
     "cell_type": "code", 
     "collapsed": false, 
     "input": [
      "sys.maxint"
     ], 
     "language": "python", 
     "outputs": [
      {
       "output_type": "pyout", 
       "prompt_number": 101, 
       "text": [
        "9223372036854775807"
       ]
      }
     ], 
     "prompt_number": 101
    }, 
    {
     "cell_type": "code", 
     "collapsed": false, 
     "input": [
      "2**63-1"
     ], 
     "language": "python", 
     "outputs": [
      {
       "output_type": "pyout", 
       "prompt_number": 13, 
       "text": [
        "9223372036854775807L"
       ]
      }
     ], 
     "prompt_number": 13
    }, 
    {
     "cell_type": "markdown", 
     "source": [
      "## The `os` module", 
      "", 
      "Where the `sys` module gives access to information about the current Python process, the `os` ", 
      "module provides several functions for accessing low-level operating system information:"
     ]
    }, 
    {
     "cell_type": "code", 
     "collapsed": false, 
     "input": [
      "import os", 
      "dir(os)"
     ], 
     "language": "python", 
     "outputs": [
      {
       "output_type": "pyout", 
       "prompt_number": 16, 
       "text": [
        "['EX_CANTCREAT',", 
        " 'EX_CONFIG',", 
        " 'EX_DATAERR',", 
        " 'EX_IOERR',", 
        " 'EX_NOHOST',", 
        " 'EX_NOINPUT',", 
        " 'EX_NOPERM',", 
        " 'EX_NOUSER',", 
        " 'EX_OK',", 
        " 'EX_OSERR',", 
        " 'EX_OSFILE',", 
        " 'EX_PROTOCOL',", 
        " 'EX_SOFTWARE',", 
        " 'EX_TEMPFAIL',", 
        " 'EX_UNAVAILABLE',", 
        " 'EX_USAGE',", 
        " 'F_OK',", 
        " 'NGROUPS_MAX',", 
        " 'O_APPEND',", 
        " 'O_ASYNC',", 
        " 'O_CREAT',", 
        " 'O_DIRECT',", 
        " 'O_DIRECTORY',", 
        " 'O_DSYNC',", 
        " 'O_EXCL',", 
        " 'O_LARGEFILE',", 
        " 'O_NDELAY',", 
        " 'O_NOATIME',", 
        " 'O_NOCTTY',", 
        " 'O_NOFOLLOW',", 
        " 'O_NONBLOCK',", 
        " 'O_RDONLY',", 
        " 'O_RDWR',", 
        " 'O_RSYNC',", 
        " 'O_SYNC',", 
        " 'O_TRUNC',", 
        " 'O_WRONLY',", 
        " 'P_NOWAIT',", 
        " 'P_NOWAITO',", 
        " 'P_WAIT',", 
        " 'R_OK',", 
        " 'SEEK_CUR',", 
        " 'SEEK_END',", 
        " 'SEEK_SET',", 
        " 'ST_APPEND',", 
        " 'ST_MANDLOCK',", 
        " 'ST_NOATIME',", 
        " 'ST_NODEV',", 
        " 'ST_NODIRATIME',", 
        " 'ST_NOEXEC',", 
        " 'ST_NOSUID',", 
        " 'ST_RDONLY',", 
        " 'ST_RELATIME',", 
        " 'ST_SYNCHRONOUS',", 
        " 'ST_WRITE',", 
        " 'TMP_MAX',", 
        " 'UserDict',", 
        " 'WCONTINUED',", 
        " 'WCOREDUMP',", 
        " 'WEXITSTATUS',", 
        " 'WIFCONTINUED',", 
        " 'WIFEXITED',", 
        " 'WIFSIGNALED',", 
        " 'WIFSTOPPED',", 
        " 'WNOHANG',", 
        " 'WSTOPSIG',", 
        " 'WTERMSIG',", 
        " 'WUNTRACED',", 
        " 'W_OK',", 
        " 'X_OK',", 
        " '_Environ',", 
        " '__all__',", 
        " '__builtins__',", 
        " '__doc__',", 
        " '__file__',", 
        " '__name__',", 
        " '__package__',", 
        " '_copy_reg',", 
        " '_execvpe',", 
        " '_exists',", 
        " '_exit',", 
        " '_get_exports_list',", 
        " '_make_stat_result',", 
        " '_make_statvfs_result',", 
        " '_pickle_stat_result',", 
        " '_pickle_statvfs_result',", 
        " '_spawnvef',", 
        " 'abort',", 
        " 'access',", 
        " 'altsep',", 
        " 'chdir',", 
        " 'chmod',", 
        " 'chown',", 
        " 'chroot',", 
        " 'close',", 
        " 'closerange',", 
        " 'confstr',", 
        " 'confstr_names',", 
        " 'ctermid',", 
        " 'curdir',", 
        " 'defpath',", 
        " 'devnull',", 
        " 'dup',", 
        " 'dup2',", 
        " 'environ',", 
        " 'errno',", 
        " 'error',", 
        " 'execl',", 
        " 'execle',", 
        " 'execlp',", 
        " 'execlpe',", 
        " 'execv',", 
        " 'execve',", 
        " 'execvp',", 
        " 'execvpe',", 
        " 'extsep',", 
        " 'fchdir',", 
        " 'fchmod',", 
        " 'fchown',", 
        " 'fdatasync',", 
        " 'fdopen',", 
        " 'fork',", 
        " 'forkpty',", 
        " 'fpathconf',", 
        " 'fstat',", 
        " 'fstatvfs',", 
        " 'fsync',", 
        " 'ftruncate',", 
        " 'getcwd',", 
        " 'getcwdu',", 
        " 'getegid',", 
        " 'getenv',", 
        " 'geteuid',", 
        " 'getgid',", 
        " 'getgroups',", 
        " 'getloadavg',", 
        " 'getlogin',", 
        " 'getpgid',", 
        " 'getpgrp',", 
        " 'getpid',", 
        " 'getppid',", 
        " 'getresgid',", 
        " 'getresuid',", 
        " 'getsid',", 
        " 'getuid',", 
        " 'initgroups',", 
        " 'isatty',", 
        " 'kill',", 
        " 'killpg',", 
        " 'lchown',", 
        " 'linesep',", 
        " 'link',", 
        " 'listdir',", 
        " 'lseek',", 
        " 'lstat',", 
        " 'major',", 
        " 'makedev',", 
        " 'makedirs',", 
        " 'minor',", 
        " 'mkdir',", 
        " 'mkfifo',", 
        " 'mknod',", 
        " 'name',", 
        " 'nice',", 
        " 'open',", 
        " 'openpty',", 
        " 'pardir',", 
        " 'path',", 
        " 'pathconf',", 
        " 'pathconf_names',", 
        " 'pathsep',", 
        " 'pipe',", 
        " 'popen',", 
        " 'popen2',", 
        " 'popen3',", 
        " 'popen4',", 
        " 'putenv',", 
        " 'read',", 
        " 'readlink',", 
        " 'remove',", 
        " 'removedirs',", 
        " 'rename',", 
        " 'renames',", 
        " 'rmdir',", 
        " 'sep',", 
        " 'setegid',", 
        " 'seteuid',", 
        " 'setgid',", 
        " 'setgroups',", 
        " 'setpgid',", 
        " 'setpgrp',", 
        " 'setregid',", 
        " 'setresgid',", 
        " 'setresuid',", 
        " 'setreuid',", 
        " 'setsid',", 
        " 'setuid',", 
        " 'spawnl',", 
        " 'spawnle',", 
        " 'spawnlp',", 
        " 'spawnlpe',", 
        " 'spawnv',", 
        " 'spawnve',", 
        " 'spawnvp',", 
        " 'spawnvpe',", 
        " 'stat',", 
        " 'stat_float_times',", 
        " 'stat_result',", 
        " 'statvfs',", 
        " 'statvfs_result',", 
        " 'strerror',", 
        " 'symlink',", 
        " 'sys',", 
        " 'sysconf',", 
        " 'sysconf_names',", 
        " 'system',", 
        " 'tcgetpgrp',", 
        " 'tcsetpgrp',", 
        " 'tempnam',", 
        " 'times',", 
        " 'tmpfile',", 
        " 'tmpnam',", 
        " 'ttyname',", 
        " 'umask',", 
        " 'uname',", 
        " 'unlink',", 
        " 'unsetenv',", 
        " 'urandom',", 
        " 'utime',", 
        " 'wait',", 
        " 'wait3',", 
        " 'wait4',", 
        " 'waitpid',", 
        " 'walk',", 
        " 'write']"
       ]
      }
     ], 
     "prompt_number": 16
    }, 
    {
     "cell_type": "code", 
     "collapsed": false, 
     "input": [
      "os.listdir('/usr')"
     ], 
     "language": "python", 
     "outputs": [
      {
       "output_type": "pyout", 
       "prompt_number": 17, 
       "text": [
        "['include', 'src', 'local', 'lib', 'sbin', 'share', 'bin', 'games']"
       ]
      }
     ], 
     "prompt_number": 17
    }, 
    {
     "cell_type": "code", 
     "collapsed": true, 
     "input": [
      "fd = os.popen('ls -l')"
     ], 
     "language": "python", 
     "outputs": [], 
     "prompt_number": 18
    }, 
    {
     "cell_type": "code", 
     "collapsed": false, 
     "input": [
      "print fd.read()"
     ], 
     "language": "python", 
     "outputs": [
      {
       "output_type": "stream", 
       "stream": "stdout", 
       "text": [
        "total 7472", 
        "drwxr-xr-x 1 vagrant vagrant     238 Nov  5 11:33 01-BasicPythonSyntax", 
        "drwxr-xr-x 1 vagrant vagrant     510 Oct  8 08:14 01-BasicPythonSyntax_files", 
        "-rw-r--r-- 1 vagrant vagrant  167970 Oct  8 08:14 01-BasicPythonSyntax.html", 
        "-rw-r--r-- 1 vagrant vagrant   37640 Oct  7 10:58 01-BasicPythonSyntax.ipynb", 
        "-rw-r--r-- 1 vagrant vagrant  149815 Oct 25 04:04 01-BasicPythonSyntax.pdf", 
        "drwxr-xr-x 1 vagrant vagrant     136 Nov  5 13:34 02-Builtins", 
        "drwxr-xr-x 1 vagrant vagrant     510 Oct  8 08:15 02-Builtins_files", 
        "-rw-r--r-- 1 vagrant vagrant   73444 Oct  8 08:15 02-Builtins.html", 
        "-rw-r--r-- 1 vagrant vagrant   16244 Oct  7 10:58 02-Builtins.ipynb", 
        "-rw-r--r-- 1 vagrant vagrant   82112 Oct 25 04:04 02-Builtins.pdf", 
        "drwxr-xr-x 1 vagrant vagrant     102 Nov  5 13:52 03-FileIO", 
        "drwxr-xr-x 1 vagrant vagrant     510 Oct  8 08:15 03-FileIO_files", 
        "-rw-r--r-- 1 vagrant vagrant   41620 Oct  8 08:15 03-FileIO.html", 
        "-rw-r--r-- 1 vagrant vagrant    9576 Oct  7 10:58 03-FileIO.ipynb", 
        "-rw-r--r-- 1 vagrant vagrant   55308 Oct 25 04:04 03-FileIO.pdf", 
        "drwxr-xr-x 1 vagrant vagrant     374 Oct 30 08:04 04-UsingModules", 
        "drwxr-xr-x 1 vagrant vagrant     510 Oct  8 08:15 04-UsingModules_files", 
        "-rw-r--r-- 1 vagrant vagrant  137356 Oct  8 08:15 04-UsingModules.html", 
        "-rw-r--r-- 1 vagrant vagrant   46717 Nov  5 14:01 04-UsingModules.ipynb", 
        "-rw-r--r-- 1 vagrant vagrant  120986 Oct 25 04:05 04-UsingModules.pdf", 
        "drwxr-xr-x 1 vagrant vagrant     170 Oct 31 01:17 05-Strings", 
        "drwxr-xr-x 1 vagrant vagrant     510 Oct  8 08:15 05-Strings_files", 
        "-rw-r--r-- 1 vagrant vagrant   79928 Oct  8 08:15 05-Strings.html", 
        "-rw-r--r-- 1 vagrant vagrant   17750 Oct  7 10:59 05-Strings.ipynb", 
        "-rw-r--r-- 1 vagrant vagrant   86539 Oct 25 04:05 05-Strings.pdf", 
        "drwxr-xr-x 1 vagrant vagrant     238 Oct 31 02:36 06a-Packages", 
        "drwxr-xr-x 1 vagrant vagrant     102 Oct 31 02:17 06-Regex", 
        "drwxr-xr-x 1 vagrant vagrant     510 Oct  8 08:15 06-Regex_files", 
        "-rw-r--r-- 1 vagrant vagrant   64794 Oct  8 08:15 06-Regex.html", 
        "-rw-r--r-- 1 vagrant vagrant   12896 Oct  7 10:59 06-Regex.ipynb", 
        "-rw-r--r-- 1 vagrant vagrant   71054 Oct 25 04:05 06-Regex.pdf", 
        "drwxr-xr-x 1 vagrant vagrant     102 Oct 31 03:17 07-Functions", 
        "drwxr-xr-x 1 vagrant vagrant     510 Oct  8 08:16 07-Functions_files", 
        "-rw-r--r-- 1 vagrant vagrant   45536 Oct  8 08:16 07-Functions.html", 
        "-rw-r--r-- 1 vagrant vagrant    8062 Oct  9 08:01 07-Functions.ipynb", 
        "-rw-r--r-- 1 vagrant vagrant   65615 Oct 25 04:05 07-Functions.pdf", 
        "drwxr-xr-x 1 vagrant vagrant     136 Oct 31 04:39 08-AdvancedFunctions", 
        "drwxr-xr-x 1 vagrant vagrant     510 Oct  8 08:16 08-AdvancedFunctions_files", 
        "-rw-r--r-- 1 vagrant vagrant   34295 Oct  8 08:16 08-AdvancedFunctions.html", 
        "-rw-r--r-- 1 vagrant vagrant    5848 Oct  7 17:05 08-AdvancedFunctions.ipynb", 
        "-rw-r--r-- 1 vagrant vagrant   66361 Oct 25 04:06 08-AdvancedFunctions.pdf", 
        "drwxr-xr-x 1 vagrant vagrant     170 Oct 31 05:24 09-Logging", 
        "drwxr-xr-x 1 vagrant vagrant     510 Oct  8 08:16 09-Logging_files", 
        "-rw-r--r-- 1 vagrant vagrant   47018 Oct  8 08:16 09-Logging.html", 
        "-rw-r--r-- 1 vagrant vagrant   10741 Oct  7 16:48 09-Logging.ipynb", 
        "-rw-r--r-- 1 vagrant vagrant   65388 Oct 25 04:06 09-Logging.pdf", 
        "drwxr-xr-x 1 vagrant vagrant     102 Oct 31 06:16 10-OOP1", 
        "drwxr-xr-x 1 vagrant vagrant     510 Oct  8 08:16 10-OOP1_files", 
        "-rw-r--r-- 1 vagrant vagrant   35789 Oct  8 08:16 10-OOP1.html", 
        "-rw-r--r-- 1 vagrant vagrant    6375 Oct  7 17:05 10-OOP1.ipynb", 
        "-rw-r--r-- 1 vagrant vagrant   63234 Oct 25 04:06 10-OOP1.pdf", 
        "drwxr-xr-x 1 vagrant vagrant     136 Oct 31 06:46 11-OOP2", 
        "drwxr-xr-x 1 vagrant vagrant     510 Oct  8 08:17 11-OOP2_files", 
        "-rw-r--r-- 1 vagrant vagrant   72396 Oct  8 08:17 11-OOP2.html", 
        "-rw-r--r-- 1 vagrant vagrant   14740 Oct  7 17:50 11-OOP2.ipynb", 
        "-rw-r--r-- 1 vagrant vagrant   76117 Oct 25 04:06 11-OOP2.pdf", 
        "drwxr-xr-x 1 vagrant vagrant     170 Oct 31 07:56 12-Decorators", 
        "drwxr-xr-x 1 vagrant vagrant     510 Oct  8 08:17 12-Decorators_files", 
        "-rw-r--r-- 1 vagrant vagrant   64594 Oct  8 08:17 12-Decorators.html", 
        "-rw-r--r-- 1 vagrant vagrant   12311 Oct  7 18:36 12-Decorators.ipynb", 
        "-rw-r--r-- 1 vagrant vagrant   73707 Oct 25 04:07 12-Decorators.pdf", 
        "drwxr-xr-x 1 vagrant vagrant     102 Nov  1 01:18 13-Generators", 
        "drwxr-xr-x 1 vagrant vagrant     510 Oct  8 08:17 13-GeneratorsAndIterators_files", 
        "-rw-r--r-- 1 vagrant vagrant   71092 Oct  8 08:17 13-GeneratorsAndIterators.html", 
        "-rw-r--r-- 1 vagrant vagrant   12557 Oct  7 19:06 13-GeneratorsAndIterators.ipynb", 
        "-rw-r--r-- 1 vagrant vagrant   74557 Oct 25 04:07 13-GeneratorsAndIterators.pdf", 
        "drwxr-xr-x 1 vagrant vagrant     204 Nov  1 02:00 14-ContextManagers", 
        "drwxr-xr-x 1 vagrant vagrant     510 Oct  8 08:18 14-ContextManagers_files", 
        "-rw-r--r-- 1 vagrant vagrant   47276 Oct  8 08:18 14-ContextManagers.html", 
        "-rw-r--r-- 1 vagrant vagrant    9241 Oct  7 19:42 14-ContextManagers.ipynb", 
        "-rw-r--r-- 1 vagrant vagrant   74509 Oct 25 04:08 14-ContextManagers.pdf", 
        "drwxr-xr-x 1 vagrant vagrant     544 Nov  1 07:52 15-Threading", 
        "drwxr-xr-x 1 vagrant vagrant     306 Nov  1 08:02 16-Multiprocessing", 
        "drwxr-xr-x 1 vagrant vagrant     136 Nov  1 06:17 17-Subprocess", 
        "drwxr-xr-x 1 vagrant vagrant     510 Oct  9 20:47 17-Subprocess_files", 
        "-rw-r--r-- 1 vagrant vagrant   57879 Oct  9 20:47 17-Subprocess.html", 
        "-rw-r--r-- 1 vagrant vagrant   19827 Oct  9 20:47 17-Subprocess.ipynb", 
        "-rw-r--r-- 1 vagrant vagrant  144874 Oct 25 04:35 17-Subprocess.pdf", 
        "drwxr-xr-x 1 vagrant vagrant     204 Nov  3 05:01 18-Virtualenv", 
        "drwxr-xr-x 1 vagrant vagrant     986 Nov  3 05:02 19-Testing", 
        "drwxr-xr-x 1 vagrant vagrant     510 Oct  9 20:48 20-MoreModules_files", 
        "-rw-r--r-- 1 vagrant vagrant   78731 Oct  9 20:48 20-MoreModules.html", 
        "-rw-r--r-- 1 vagrant vagrant   25666 Oct  9 20:48 20-MoreModules.ipynb", 
        "-rw-r--r-- 1 vagrant vagrant  160428 Oct 25 04:35 20-MoreModules.pdf", 
        "-rw-r--r-- 1 vagrant vagrant 1120739 Oct 25 05:53 ClassNotes.pdf", 
        "-rw-r--r-- 1 vagrant vagrant  243767 Oct 25 05:52 CodeExamples.pdf", 
        "-rw-r--r-- 1 vagrant vagrant   56535 Nov  3 05:03 CodeExamples.tar.gz", 
        "-rw-r--r-- 1 vagrant vagrant   44257 Oct 25 05:50 code.md", 
        "-rw-r--r-- 1 vagrant vagrant    1256 Oct 25 05:47 fabfile.py", 
        "-rw-r--r-- 1 vagrant vagrant    1868 Oct 25 05:47 fabfile.pyc", 
        "-rw-r--r-- 1 vagrant vagrant 2092514 Oct  9 20:59 FastTrackToPython.pdf", 
        "-rw-r--r-- 1 vagrant vagrant    3957 Oct 25 05:47 friendly.css", 
        "drwxr-xr-x 1 vagrant vagrant     102 Oct 25 04:26 index_files", 
        "-rw-r--r-- 1 vagrant vagrant    2459 Oct 25 04:26 index.html", 
        "-rw-r--r-- 1 vagrant vagrant    1438 Nov  3 05:10 index.md", 
        "-rw-r--r-- 1 vagrant vagrant       0 Oct 25 03:37 mypdf.pdf", 
        "-rw-r--r-- 1 vagrant vagrant    4354 Oct 25 05:44 native.css", 
        "-rw-r--r-- 1 vagrant vagrant 1120739 Oct 25 04:48 output.pdf", 
        "-rw-r--r-- 1 vagrant vagrant    1168 Oct 25 04:46 pdfmarks.ps", 
        "-rw-r--r-- 1 vagrant vagrant       0 Oct 25 03:34 test.pdf", 
        "-rw-r--r-- 1 vagrant vagrant    4008 Oct 15 17:55 Vagrantfile", 
        ""
       ]
      }
     ], 
     "prompt_number": 19
    }, 
    {
     "cell_type": "markdown", 
     "source": [
      "Besides normal modules in Python, there are also modules containing other modules. These are called", 
      "*packages*. The `os` module is such a package; inside it is the `os.path` module, used for ", 
      "manipulating filesystem pathnames:"
     ]
    }, 
    {
     "cell_type": "code", 
     "collapsed": false, 
     "input": [
      "os.path"
     ], 
     "language": "python", 
     "outputs": [
      {
       "output_type": "pyout", 
       "prompt_number": 21, 
       "text": [
        "<module 'posixpath' from '/usr/lib/python2.7/posixpath.pyc'>"
       ]
      }
     ], 
     "prompt_number": 21
    }, 
    {
     "cell_type": "code", 
     "collapsed": false, 
     "input": [
      "os.path.abspath('.')"
     ], 
     "language": "python", 
     "outputs": [
      {
       "output_type": "pyout", 
       "prompt_number": 22, 
       "text": [
        "'/vagrant'"
       ]
      }
     ], 
     "prompt_number": 22
    }, 
    {
     "cell_type": "code", 
     "collapsed": false, 
     "input": [
      "os.path.dirname(sys.executable)"
     ], 
     "language": "python", 
     "outputs": [
      {
       "output_type": "pyout", 
       "prompt_number": 23, 
       "text": [
        "'/usr/bin'"
       ]
      }
     ], 
     "prompt_number": 23
    }, 
    {
     "cell_type": "code", 
     "collapsed": false, 
     "input": [
      "os.path.basename(sys.executable)"
     ], 
     "language": "python", 
     "outputs": [
      {
       "output_type": "pyout", 
       "prompt_number": 24, 
       "text": [
        "'python'"
       ]
      }
     ], 
     "prompt_number": 24
    }, 
    {
     "cell_type": "code", 
     "collapsed": false, 
     "input": [
      "os.path.join('/usr/local', 'bin', 'foo')"
     ], 
     "language": "python", 
     "outputs": [
      {
       "output_type": "pyout", 
       "prompt_number": 25, 
       "text": [
        "'/usr/local/bin/foo'"
       ]
      }
     ], 
     "prompt_number": 25
    }, 
    {
     "cell_type": "code", 
     "collapsed": false, 
     "input": [
      "os.path.normpath('/usr/local/bin/../../bin')"
     ], 
     "language": "python", 
     "outputs": [
      {
       "output_type": "pyout", 
       "prompt_number": 26, 
       "text": [
        "'/usr/bin'"
       ]
      }
     ], 
     "prompt_number": 26
    }, 
    {
     "cell_type": "code", 
     "collapsed": false, 
     "input": [
      "os.path.expanduser('~')"
     ], 
     "language": "python", 
     "outputs": [
      {
       "output_type": "pyout", 
       "prompt_number": 112, 
       "text": [
        "'/home/vagrant'"
       ]
      }
     ], 
     "prompt_number": 112
    }, 
    {
     "cell_type": "code", 
     "collapsed": false, 
     "input": [
      "os.path.expandvars('$HOME')"
     ], 
     "language": "python", 
     "outputs": [
      {
       "output_type": "pyout", 
       "prompt_number": 113, 
       "text": [
        "'/home/vagrant'"
       ]
      }
     ], 
     "prompt_number": 113
    }, 
    {
     "cell_type": "markdown", 
     "source": [
      "In the `os` module, `os.path` is always available. This is not always the case. In some cases, you must", 
      "import a submodule directly using a dotted import notation. (In the case of `os.path`, this is not ", 
      "necessary, but it will serve for illustration:"
     ]
    }, 
    {
     "cell_type": "code", 
     "collapsed": true, 
     "input": [
      "import os.path"
     ], 
     "language": "python", 
     "outputs": [], 
     "prompt_number": 114
    }, 
    {
     "cell_type": "markdown", 
     "source": [
      "## The `math` module", 
      "", 
      "Although simple arithmetic operations are supported by Python's syntax, whenever you need to perform", 
      "more complicated math, you'll need to `import` the `math` module:"
     ]
    }, 
    {
     "cell_type": "code", 
     "collapsed": false, 
     "input": [
      "import math", 
      "help(math)"
     ], 
     "language": "python", 
     "outputs": [
      {
       "output_type": "stream", 
       "stream": "stdout", 
       "text": [
        "Help on built-in module math:", 
        "", 
        "NAME", 
        "    math", 
        "", 
        "FILE", 
        "    (built-in)", 
        "", 
        "DESCRIPTION", 
        "    This module is always available.  It provides access to the", 
        "    mathematical functions defined by the C standard.", 
        "", 
        "FUNCTIONS", 
        "    acos(...)", 
        "        acos(x)", 
        "        ", 
        "        Return the arc cosine (measured in radians) of x.", 
        "    ", 
        "    acosh(...)", 
        "        acosh(x)", 
        "        ", 
        "        Return the hyperbolic arc cosine (measured in radians) of x.", 
        "    ", 
        "    asin(...)", 
        "        asin(x)", 
        "        ", 
        "        Return the arc sine (measured in radians) of x.", 
        "    ", 
        "    asinh(...)", 
        "        asinh(x)", 
        "        ", 
        "        Return the hyperbolic arc sine (measured in radians) of x.", 
        "    ", 
        "    atan(...)", 
        "        atan(x)", 
        "        ", 
        "        Return the arc tangent (measured in radians) of x.", 
        "    ", 
        "    atan2(...)", 
        "        atan2(y, x)", 
        "        ", 
        "        Return the arc tangent (measured in radians) of y/x.", 
        "        Unlike atan(y/x), the signs of both x and y are considered.", 
        "    ", 
        "    atanh(...)", 
        "        atanh(x)", 
        "        ", 
        "        Return the hyperbolic arc tangent (measured in radians) of x.", 
        "    ", 
        "    ceil(...)", 
        "        ceil(x)", 
        "        ", 
        "        Return the ceiling of x as a float.", 
        "        This is the smallest integral value >= x.", 
        "    ", 
        "    copysign(...)", 
        "        copysign(x, y)", 
        "        ", 
        "        Return x with the sign of y.", 
        "    ", 
        "    cos(...)", 
        "        cos(x)", 
        "        ", 
        "        Return the cosine of x (measured in radians).", 
        "    ", 
        "    cosh(...)", 
        "        cosh(x)", 
        "        ", 
        "        Return the hyperbolic cosine of x.", 
        "    ", 
        "    degrees(...)", 
        "        degrees(x)", 
        "        ", 
        "        Convert angle x from radians to degrees.", 
        "    ", 
        "    erf(...)", 
        "        erf(x)", 
        "        ", 
        "        Error function at x.", 
        "    ", 
        "    erfc(...)", 
        "        erfc(x)", 
        "        ", 
        "        Complementary error function at x.", 
        "    ", 
        "    exp(...)", 
        "        exp(x)", 
        "        ", 
        "        Return e raised to the power of x.", 
        "    ", 
        "    expm1(...)", 
        "        expm1(x)", 
        "        ", 
        "        Return exp(x)-1.", 
        "        This function avoids the loss of precision involved in the direct evaluation of exp(x)-1 for small x.", 
        "    ", 
        "    fabs(...)", 
        "        fabs(x)", 
        "        ", 
        "        Return the absolute value of the float x.", 
        "    ", 
        "    factorial(...)", 
        "        factorial(x) -> Integral", 
        "        ", 
        "        Find x!. Raise a ValueError if x is negative or non-integral.", 
        "    ", 
        "    floor(...)", 
        "        floor(x)", 
        "        ", 
        "        Return the floor of x as a float.", 
        "        This is the largest integral value <= x.", 
        "    ", 
        "    fmod(...)", 
        "        fmod(x, y)", 
        "        ", 
        "        Return fmod(x, y), according to platform C.  x % y may differ.", 
        "    ", 
        "    frexp(...)", 
        "        frexp(x)", 
        "        ", 
        "        Return the mantissa and exponent of x, as pair (m, e).", 
        "        m is a float and e is an int, such that x = m * 2.**e.", 
        "        If x is 0, m and e are both 0.  Else 0.5 <= abs(m) < 1.0.", 
        "    ", 
        "    fsum(...)", 
        "        fsum(iterable)", 
        "        ", 
        "        Return an accurate floating point sum of values in the iterable.", 
        "        Assumes IEEE-754 floating point arithmetic.", 
        "    ", 
        "    gamma(...)", 
        "        gamma(x)", 
        "        ", 
        "        Gamma function at x.", 
        "    ", 
        "    hypot(...)", 
        "        hypot(x, y)", 
        "        ", 
        "        Return the Euclidean distance, sqrt(x*x + y*y).", 
        "    ", 
        "    isinf(...)", 
        "        isinf(x) -> bool", 
        "        ", 
        "        Check if float x is infinite (positive or negative).", 
        "    ", 
        "    isnan(...)", 
        "        isnan(x) -> bool", 
        "        ", 
        "        Check if float x is not a number (NaN).", 
        "    ", 
        "    ldexp(...)", 
        "        ldexp(x, i)", 
        "        ", 
        "        Return x * (2**i).", 
        "    ", 
        "    lgamma(...)", 
        "        lgamma(x)", 
        "        ", 
        "        Natural logarithm of absolute value of Gamma function at x.", 
        "    ", 
        "    log(...)", 
        "        log(x[, base])", 
        "        ", 
        "        Return the logarithm of x to the given base.", 
        "        If the base not specified, returns the natural logarithm (base e) of x.", 
        "    ", 
        "    log10(...)", 
        "        log10(x)", 
        "        ", 
        "        Return the base 10 logarithm of x.", 
        "    ", 
        "    log1p(...)", 
        "        log1p(x)", 
        "        ", 
        "        Return the natural logarithm of 1+x (base e).", 
        "        The result is computed in a way which is accurate for x near zero.", 
        "    ", 
        "    modf(...)", 
        "        modf(x)", 
        "        ", 
        "        Return the fractional and integer parts of x.  Both results carry the sign", 
        "        of x and are floats.", 
        "    ", 
        "    pow(...)", 
        "        pow(x, y)", 
        "        ", 
        "        Return x**y (x to the power of y).", 
        "    ", 
        "    radians(...)", 
        "        radians(x)", 
        "        ", 
        "        Convert angle x from degrees to radians.", 
        "    ", 
        "    sin(...)", 
        "        sin(x)", 
        "        ", 
        "        Return the sine of x (measured in radians).", 
        "    ", 
        "    sinh(...)", 
        "        sinh(x)", 
        "        ", 
        "        Return the hyperbolic sine of x.", 
        "    ", 
        "    sqrt(...)", 
        "        sqrt(x)", 
        "        ", 
        "        Return the square root of x.", 
        "    ", 
        "    tan(...)", 
        "        tan(x)", 
        "        ", 
        "        Return the tangent of x (measured in radians).", 
        "    ", 
        "    tanh(...)", 
        "        tanh(x)", 
        "        ", 
        "        Return the hyperbolic tangent of x.", 
        "    ", 
        "    trunc(...)", 
        "        trunc(x:Real) -> Integral", 
        "        ", 
        "        Truncates x to the nearest Integral toward 0. Uses the __trunc__ magic method.", 
        "", 
        "DATA", 
        "    e = 2.718281828459045", 
        "    pi = 3.141592653589793", 
        "", 
        ""
       ]
      }
     ], 
     "prompt_number": 27
    }, 
    {
     "cell_type": "code", 
     "collapsed": false, 
     "input": [
      "math.sqrt(2)"
     ], 
     "language": "python", 
     "outputs": [
      {
       "output_type": "pyout", 
       "prompt_number": 28, 
       "text": [
        "1.4142135623730951"
       ]
      }
     ], 
     "prompt_number": 28
    }, 
    {
     "cell_type": "code", 
     "collapsed": false, 
     "input": [
      "math.pi"
     ], 
     "language": "python", 
     "outputs": [
      {
       "output_type": "pyout", 
       "prompt_number": 29, 
       "text": [
        "3.141592653589793"
       ]
      }
     ], 
     "prompt_number": 29
    }, 
    {
     "cell_type": "code", 
     "collapsed": false, 
     "input": [
      "math.sin(math.pi / 4)"
     ], 
     "language": "python", 
     "outputs": [
      {
       "output_type": "pyout", 
       "prompt_number": 30, 
       "text": [
        "0.7071067811865475"
       ]
      }
     ], 
     "prompt_number": 30
    }, 
    {
     "cell_type": "markdown", 
     "source": [
      "### Exercises", 
      "", 
      "- Create a python script that prints out its command-line arguments", 
      "- Update `sys.path` in a Python script to be the empty list. What ", 
      "   happens when you try to `import Queue`?", 
      "- Create a Python script that prints out its own absolute path when run using `sys.argv` and ", 
      "  `os.path.abspath`", 
      "- Calculate the value of e raised to the (j * pi) power using either `cmath` or ", 
      "  the exponentiation operator (`**`)"
     ]
    }, 
    {
     "cell_type": "markdown", 
     "source": [
      "## The `time` and `datetime` modules", 
      "", 
      "Working with dates and times in Python is performed using these two modules. The `time` module contains", 
      "lower-level C-like timestamp manipulation functions (similar to what you would find in `<time.h>`).", 
      "`datetime` contains higher-level objects for dealing with datetime components:"
     ]
    }, 
    {
     "cell_type": "code", 
     "collapsed": false, 
     "input": [
      "import time", 
      "time.time()"
     ], 
     "language": "python", 
     "outputs": [
      {
       "output_type": "pyout", 
       "prompt_number": 31, 
       "text": [
        "1352098515.635613"
       ]
      }
     ], 
     "prompt_number": 31
    }, 
    {
     "cell_type": "code", 
     "collapsed": false, 
     "input": [
      "time.asctime()"
     ], 
     "language": "python", 
     "outputs": [
      {
       "output_type": "pyout", 
       "prompt_number": 32, 
       "text": [
        "'Mon Nov  5 14:55:22 2012'"
       ]
      }
     ], 
     "prompt_number": 32
    }, 
    {
     "cell_type": "code", 
     "collapsed": false, 
     "input": [
      "time.ctime()"
     ], 
     "language": "python", 
     "outputs": [
      {
       "output_type": "pyout", 
       "prompt_number": 33, 
       "text": [
        "'Mon Nov  5 14:55:31 2012'"
       ]
      }
     ], 
     "prompt_number": 33
    }, 
    {
     "cell_type": "code", 
     "collapsed": false, 
     "input": [
      "time.gmtime()"
     ], 
     "language": "python", 
     "outputs": [
      {
       "output_type": "pyout", 
       "prompt_number": 34, 
       "text": [
        "time.struct_time(tm_year=2012, tm_mon=11, tm_mday=5, tm_hour=6, tm_min=56, tm_sec=2, tm_wday=0, tm_yday=310, tm_isdst=0)"
       ]
      }
     ], 
     "prompt_number": 34
    }, 
    {
     "cell_type": "code", 
     "collapsed": false, 
     "input": [
      "time.mktime(time.gmtime())"
     ], 
     "language": "python", 
     "outputs": [
      {
       "output_type": "pyout", 
       "prompt_number": 35, 
       "text": [
        "1352069797.0"
       ]
      }
     ], 
     "prompt_number": 35
    }, 
    {
     "cell_type": "code", 
     "collapsed": false, 
     "input": [
      "time.localtime()"
     ], 
     "language": "python", 
     "outputs": [
      {
       "output_type": "pyout", 
       "prompt_number": 36, 
       "text": [
        "time.struct_time(tm_year=2012, tm_mon=11, tm_mday=5, tm_hour=14, tm_min=56, tm_sec=46, tm_wday=0, tm_yday=310, tm_isdst=0)"
       ]
      }
     ], 
     "prompt_number": 36
    }, 
    {
     "cell_type": "code", 
     "collapsed": false, 
     "input": [
      "time.mktime(time.localtime())"
     ], 
     "language": "python", 
     "outputs": [
      {
       "output_type": "pyout", 
       "prompt_number": 37, 
       "text": [
        "1352098632.0"
       ]
      }
     ], 
     "prompt_number": 37
    }, 
    {
     "cell_type": "code", 
     "collapsed": false, 
     "input": [
      "time.strftime('%Y-%m-%d', time.gmtime() )"
     ], 
     "language": "python", 
     "outputs": [
      {
       "output_type": "pyout", 
       "prompt_number": 40, 
       "text": [
        "'2012-11-05'"
       ]
      }
     ], 
     "prompt_number": 40
    }, 
    {
     "cell_type": "code", 
     "collapsed": false, 
     "input": [
      "time.strptime('2012-11-05', '%Y-%m-%d' )"
     ], 
     "language": "python", 
     "outputs": [
      {
       "output_type": "pyout", 
       "prompt_number": 42, 
       "text": [
        "time.struct_time(tm_year=2012, tm_mon=11, tm_mday=5, tm_hour=0, tm_min=0, tm_sec=0, tm_wday=0, tm_yday=310, tm_isdst=-1)"
       ]
      }
     ], 
     "prompt_number": 42
    }, 
    {
     "cell_type": "code", 
     "collapsed": true, 
     "input": [
      "time.sleep(0.1)"
     ], 
     "language": "python", 
     "outputs": [], 
     "prompt_number": 43
    }, 
    {
     "cell_type": "code", 
     "collapsed": false, 
     "input": [
      "import datetime", 
      "datetime.datetime.now()"
     ], 
     "language": "python", 
     "outputs": [
      {
       "output_type": "pyout", 
       "prompt_number": 44, 
       "text": [
        "datetime.datetime(2012, 11, 5, 15, 0, 40, 853371)"
       ]
      }
     ], 
     "prompt_number": 44
    }, 
    {
     "cell_type": "code", 
     "collapsed": false, 
     "input": [
      "datetime.datetime.utcnow()"
     ], 
     "language": "python", 
     "outputs": [
      {
       "output_type": "pyout", 
       "prompt_number": 45, 
       "text": [
        "datetime.datetime(2012, 11, 5, 7, 0, 51, 246639)"
       ]
      }
     ], 
     "prompt_number": 45
    }, 
    {
     "cell_type": "code", 
     "collapsed": false, 
     "input": [
      "now = datetime.datetime.utcnow()", 
      "print repr(now.date())", 
      "print repr(now.time())"
     ], 
     "language": "python", 
     "outputs": [
      {
       "output_type": "stream", 
       "stream": "stdout", 
       "text": [
        "datetime.date(2012, 11, 5)", 
        "datetime.time(7, 1, 16, 196891)"
       ]
      }
     ], 
     "prompt_number": 46
    }, 
    {
     "cell_type": "code", 
     "collapsed": false, 
     "input": [
      "now.month"
     ], 
     "language": "python", 
     "outputs": [
      {
       "output_type": "pyout", 
       "prompt_number": 47, 
       "text": [
        "11"
       ]
      }
     ], 
     "prompt_number": 47
    }, 
    {
     "cell_type": "code", 
     "collapsed": false, 
     "input": [
      "now.ctime()"
     ], 
     "language": "python", 
     "outputs": [
      {
       "output_type": "pyout", 
       "prompt_number": 48, 
       "text": [
        "'Mon Nov  5 07:01:16 2012'"
       ]
      }
     ], 
     "prompt_number": 48
    }, 
    {
     "cell_type": "code", 
     "collapsed": false, 
     "input": [
      "now.strftime('%Y-%m-%d')"
     ], 
     "language": "python", 
     "outputs": [
      {
       "output_type": "pyout", 
       "prompt_number": 51, 
       "text": [
        "'2012-11-05'"
       ]
      }
     ], 
     "prompt_number": 51
    }, 
    {
     "cell_type": "code", 
     "collapsed": false, 
     "input": [
      "datetime.datetime.strptime('2012-10-05', '%Y-%m-%d')"
     ], 
     "language": "python", 
     "outputs": [
      {
       "output_type": "pyout", 
       "prompt_number": 52, 
       "text": [
        "datetime.datetime(2012, 10, 5, 0, 0)"
       ]
      }
     ], 
     "prompt_number": 52
    }, 
    {
     "cell_type": "code", 
     "collapsed": false, 
     "input": [
      "now.timetuple()"
     ], 
     "language": "python", 
     "outputs": [
      {
       "output_type": "pyout", 
       "prompt_number": 53, 
       "text": [
        "time.struct_time(tm_year=2012, tm_mon=11, tm_mday=5, tm_hour=7, tm_min=1, tm_sec=16, tm_wday=0, tm_yday=310, tm_isdst=-1)"
       ]
      }
     ], 
     "prompt_number": 53
    }, 
    {
     "cell_type": "code", 
     "collapsed": false, 
     "input": [
      "time.mktime(now.timetuple())"
     ], 
     "language": "python", 
     "outputs": [
      {
       "output_type": "pyout", 
       "prompt_number": 54, 
       "text": [
        "1352070076.0"
       ]
      }
     ], 
     "prompt_number": 54
    }, 
    {
     "cell_type": "code", 
     "collapsed": false, 
     "input": [
      "datetime.datetime.fromtimestamp(1352070076)"
     ], 
     "language": "python", 
     "outputs": [
      {
       "output_type": "pyout", 
       "prompt_number": 56, 
       "text": [
        "datetime.datetime(2012, 11, 5, 7, 1, 16)"
       ]
      }
     ], 
     "prompt_number": 56
    }, 
    {
     "cell_type": "code", 
     "collapsed": false, 
     "input": [
      "datetime.date.today()"
     ], 
     "language": "python", 
     "outputs": [
      {
       "output_type": "pyout", 
       "prompt_number": 57, 
       "text": [
        "datetime.date(2012, 11, 5)"
       ]
      }
     ], 
     "prompt_number": 57
    }, 
    {
     "cell_type": "code", 
     "collapsed": false, 
     "input": [
      "datetime.date.min"
     ], 
     "language": "python", 
     "outputs": [
      {
       "output_type": "pyout", 
       "prompt_number": 58, 
       "text": [
        "datetime.date(1, 1, 1)"
       ]
      }
     ], 
     "prompt_number": 58
    }, 
    {
     "cell_type": "code", 
     "collapsed": false, 
     "input": [
      "datetime.date.max"
     ], 
     "language": "python", 
     "outputs": [
      {
       "output_type": "pyout", 
       "prompt_number": 59, 
       "text": [
        "datetime.date(9999, 12, 31)"
       ]
      }
     ], 
     "prompt_number": 59
    }, 
    {
     "cell_type": "code", 
     "collapsed": false, 
     "input": [
      "datetime.time.min"
     ], 
     "language": "python", 
     "outputs": [
      {
       "output_type": "pyout", 
       "prompt_number": 60, 
       "text": [
        "datetime.time(0, 0)"
       ]
      }
     ], 
     "prompt_number": 60
    }, 
    {
     "cell_type": "code", 
     "collapsed": false, 
     "input": [
      "datetime.time.max"
     ], 
     "language": "python", 
     "outputs": [
      {
       "output_type": "pyout", 
       "prompt_number": 61, 
       "text": [
        "datetime.time(23, 59, 59, 999999)"
       ]
      }
     ], 
     "prompt_number": 61
    }, 
    {
     "cell_type": "code", 
     "collapsed": false, 
     "input": [
      "datetime.datetime.combine(datetime.date.today(), datetime.time.min)"
     ], 
     "language": "python", 
     "outputs": [
      {
       "output_type": "pyout", 
       "prompt_number": 62, 
       "text": [
        "datetime.datetime(2012, 11, 5, 0, 0)"
       ]
      }
     ], 
     "prompt_number": 62
    }, 
    {
     "cell_type": "code", 
     "collapsed": false, 
     "input": [
      "datetime.datetime.combine(datetime.date.today(), datetime.time.max)"
     ], 
     "language": "python", 
     "outputs": [
      {
       "output_type": "pyout", 
       "prompt_number": 63, 
       "text": [
        "datetime.datetime(2012, 11, 5, 23, 59, 59, 999999)"
       ]
      }
     ], 
     "prompt_number": 63
    }, 
    {
     "cell_type": "code", 
     "collapsed": false, 
     "input": [
      "local_now = datetime.datetime.now()", 
      "utc_now = datetime.datetime.utcnow()", 
      "difference = utc_now - local_now", 
      "difference"
     ], 
     "language": "python", 
     "outputs": [
      {
       "output_type": "pyout", 
       "prompt_number": 64, 
       "text": [
        "datetime.timedelta(-1, 57600, 153)"
       ]
      }
     ], 
     "prompt_number": 64
    }, 
    {
     "cell_type": "markdown", 
     "source": [
      "## Files and `StringIO`", 
      "", 
      "We've touched a bit on files (`sys.stdin`, etc.) but not much. Files are opened using the `open` ", 
      "builtin:"
     ]
    }, 
    {
     "cell_type": "code", 
     "collapsed": true, 
     "input": [
      "fp = open('Using Modules.ipynb')"
     ], 
     "language": "python", 
     "outputs": [], 
     "prompt_number": 142
    }, 
    {
     "cell_type": "code", 
     "collapsed": false, 
     "input": [
      "fp.read(100)"
     ], 
     "language": "python", 
     "outputs": [
      {
       "output_type": "pyout", 
       "prompt_number": 143, 
       "text": [
        "'{\\n \"metadata\": {\\n  \"name\": \"Using Modules\"\\n }, \\n \"nbformat\": 2, \\n \"worksheets\": [\\n  {\\n   \"cells\": [\\n'"
       ]
      }
     ], 
     "prompt_number": 143
    }, 
    {
     "cell_type": "code", 
     "collapsed": false, 
     "input": [
      "fp.seek(10)", 
      "fp.read(100)"
     ], 
     "language": "python", 
     "outputs": [
      {
       "output_type": "pyout", 
       "prompt_number": 144, 
       "text": [
        "'ta\": {\\n  \"name\": \"Using Modules\"\\n }, \\n \"nbformat\": 2, \\n \"worksheets\": [\\n  {\\n   \"cells\": [\\n    {\\n    '"
       ]
      }
     ], 
     "prompt_number": 144
    }, 
    {
     "cell_type": "markdown", 
     "source": [
      "We can also treat a file as a sequence of lines:"
     ]
    }, 
    {
     "cell_type": "code", 
     "collapsed": false, 
     "input": [
      "fp.seek(0)", 
      "num_lines = 0", 
      "for line in fp:", 
      "    num_lines += 1", 
      "num_lines"
     ], 
     "language": "python", 
     "outputs": [
      {
       "output_type": "pyout", 
       "prompt_number": 145, 
       "text": [
        "1856"
       ]
      }
     ], 
     "prompt_number": 145
    }, 
    {
     "cell_type": "markdown", 
     "source": [
      "Many places where we might want to use a file, it's actually more convenient to use a string. In those", 
      "cases, we can create a *file-like object* using the `StringIO` module:"
     ]
    }, 
    {
     "cell_type": "code", 
     "collapsed": true, 
     "input": [
      "import StringIO", 
      "fp = StringIO.StringIO('This is a file-like object')"
     ], 
     "language": "python", 
     "outputs": [], 
     "prompt_number": 65
    }, 
    {
     "cell_type": "code", 
     "collapsed": false, 
     "input": [
      "fp.read()"
     ], 
     "language": "python", 
     "outputs": [
      {
       "output_type": "pyout", 
       "prompt_number": 66, 
       "text": [
        "'This is a file-like object'"
       ]
      }
     ], 
     "prompt_number": 66
    }, 
    {
     "cell_type": "code", 
     "collapsed": false, 
     "input": [
      "fp.seek(4)", 
      "fp.read(10)"
     ], 
     "language": "python", 
     "outputs": [
      {
       "output_type": "pyout", 
       "prompt_number": 67, 
       "text": [
        "' is a file'"
       ]
      }
     ], 
     "prompt_number": 67
    }, 
    {
     "cell_type": "code", 
     "collapsed": false, 
     "input": [
      "fp.tell()"
     ], 
     "language": "python", 
     "outputs": [
      {
       "output_type": "pyout", 
       "prompt_number": 68, 
       "text": [
        "14"
       ]
      }
     ], 
     "prompt_number": 68
    }, 
    {
     "cell_type": "markdown", 
     "source": [
      "We can also write to file-like objects:"
     ]
    }, 
    {
     "cell_type": "code", 
     "collapsed": true, 
     "input": [
      "fp = StringIO.StringIO()", 
      "fp.write('Hello, there')"
     ], 
     "language": "python", 
     "outputs": [], 
     "prompt_number": 69
    }, 
    {
     "cell_type": "code", 
     "collapsed": false, 
     "input": [
      "fp.seek(0)", 
      "fp.read()"
     ], 
     "language": "python", 
     "outputs": [
      {
       "output_type": "pyout", 
       "prompt_number": 70, 
       "text": [
        "'Hello, there'"
       ]
      }
     ], 
     "prompt_number": 70
    }, 
    {
     "cell_type": "code", 
     "collapsed": true, 
     "input": [
      "fp.seek(10)", 
      "fp.write('this is more text')"
     ], 
     "language": "python", 
     "outputs": [], 
     "prompt_number": 71
    }, 
    {
     "cell_type": "markdown", 
     "source": [
      "We can also get the underlying buffer of the object using `getvalue()`:"
     ]
    }, 
    {
     "cell_type": "code", 
     "collapsed": false, 
     "input": [
      "fp.getvalue()"
     ], 
     "language": "python", 
     "outputs": [
      {
       "output_type": "pyout", 
       "prompt_number": 72, 
       "text": [
        "'Hello, thethis is more text'"
       ]
      }
     ], 
     "prompt_number": 72
    }, 
    {
     "cell_type": "markdown", 
     "source": [
      "# Debugging using `pdb`", 
      "", 
      "We can enter an interactive debugger from a Python file by importing the `pdb` module and setting", 
      "a breakpoint:", 
      "", 
      "    import pdb", 
      "    pdb.set_trace()"
     ]
    }, 
    {
     "cell_type": "markdown", 
     "source": [
      "### Exercises", 
      "", 
      "- Write a script that prints the current value of `time.time()` every second", 
      "- Update the script to print the value of `datetime.datetime.now()`", 
      "- Update to print the value of `datetime.datetime.utcnow()`", 
      "- Write a function to convert from a datetime object (as in `datetime.datetime.utcnow()` into a", 
      "  \"seconds since the epoch\" timestamp (as in `time.time()`)", 
      "- Create a `StringIO` object that contains several lines, separated by '\\n' characters. Pass that object to your ", 
      "  function that prints a file with line numbers.", 
      "- Add the following line to your file printing function at the beginning: ", 
      "  `import pdb; pdb.set_trace()`. Step through the execution of the function using 'n'. (You can also ", 
      "  (c)ontinue running the program to exit the debugger.)", 
      "- `import hashlib`. Use `dir()` to determine the contents of the hashlib module. Which hashing modules", 
      "  are available?"
     ]
    }
   ]
  }
 ]
}