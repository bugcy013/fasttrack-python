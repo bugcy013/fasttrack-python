{
 "metadata": {
  "name": "17-Subprocess"
 }, 
 "nbformat": 2, 
 "worksheets": [
  {
   "cells": [
    {
     "cell_type": "markdown", 
     "source": [
      "# Subprocess"
     ]
    }, 
    {
     "cell_type": "code", 
     "collapsed": true, 
     "input": [
      "import subprocess"
     ], 
     "language": "python", 
     "outputs": [], 
     "prompt_number": 32
    }, 
    {
     "cell_type": "markdown", 
     "source": [
      "## Calling subprocesses", 
      "", 
      "There are several convenience methods for calling subprocesses, either using or", 
      "discarding their output:", 
      "", 
      "- `call()`", 
      "- `check_call()`", 
      "- `check_output()`"
     ]
    }, 
    {
     "cell_type": "code", 
     "collapsed": false, 
     "input": [
      "subprocess.call('ls')"
     ], 
     "language": "python", 
     "outputs": [
      {
       "output_type": "pyout", 
       "prompt_number": 33, 
       "text": [
        "0"
       ]
      }
     ], 
     "prompt_number": 33
    }, 
    {
     "cell_type": "code", 
     "collapsed": false, 
     "input": [
      "subprocess.check_call('ls')"
     ], 
     "language": "python", 
     "outputs": [
      {
       "output_type": "pyout", 
       "prompt_number": 34, 
       "text": [
        "0"
       ]
      }
     ], 
     "prompt_number": 34
    }, 
    {
     "cell_type": "code", 
     "collapsed": false, 
     "input": [
      "subprocess.check_output('ls')"
     ], 
     "language": "python", 
     "outputs": [
      {
       "output_type": "pyout", 
       "prompt_number": 35, 
       "text": [
        "'01-BasicPythonSyntax\\n01-BasicPythonSyntax_files\\n01-BasicPythonSyntax.html\\n01-BasicPythonSyntax.ipynb\\n02-Builtins\\n02-Builtins_files\\n02-Builtins.html\\n02-Builtins.ipynb\\n03-FileIO\\n03-FileIO_files\\n03-FileIO.html\\n03-FileIO.ipynb\\n04-UsingModules\\n04-UsingModules_files\\n04-UsingModules.html\\n04-UsingModules.ipynb\\n05-Strings\\n05-Strings_files\\n05-Strings.html\\n05-Strings.ipynb\\n06a-Packages\\n06-Regex\\n06-Regex_files\\n06-Regex.html\\n06-Regex.ipynb\\n07-Functions\\n07-Functions_files\\n07-Functions.html\\n07-Functions.ipynb\\n08-AdvancedFunctions\\n08-AdvancedFunctions_files\\n08-AdvancedFunctions.html\\n08-AdvancedFunctions.ipynb\\n09-Logging\\n09-Logging_files\\n09-Logging.html\\n09-Logging.ipynb\\n10-OOP1\\n10-OOP1_files\\n10-OOP1.html\\n10-OOP1.ipynb\\n11-OOP2\\n11-OOP2_files\\n11-OOP2.html\\n11-OOP2.ipynb\\n12-Decorators\\n12-Decorators_files\\n12-Decorators.html\\n12-Decorators.ipynb\\n13-Generators\\n13-GeneratorsAndIterators_files\\n13-GeneratorsAndIterators.html\\n13-GeneratorsAndIterators.ipynb\\n14-ContextManagers\\n14-ContextManagers_files\\n14-ContextManagers.html\\n14-ContextManagers.ipynb\\n15-Threading\\n16-Multiprocessing\\n17-Subprocess.ipynb\\nfabfile.py\\nfabfile.pyc\\nFastTrackToPython.pdf\\nindex.md\\nVagrantfile\\n'"
       ]
      }
     ], 
     "prompt_number": 35
    }, 
    {
     "cell_type": "code", 
     "collapsed": false, 
     "input": [
      "subprocess.check_output(['ls', '-a'])"
     ], 
     "language": "python", 
     "outputs": [
      {
       "output_type": "pyout", 
       "prompt_number": 36, 
       "text": [
        "'.\\n..\\n01-BasicPythonSyntax\\n01-BasicPythonSyntax_files\\n01-BasicPythonSyntax.html\\n01-BasicPythonSyntax.ipynb\\n02-Builtins\\n02-Builtins_files\\n02-Builtins.html\\n02-Builtins.ipynb\\n03-FileIO\\n03-FileIO_files\\n03-FileIO.html\\n03-FileIO.ipynb\\n04-UsingModules\\n04-UsingModules_files\\n04-UsingModules.html\\n04-UsingModules.ipynb\\n05-Strings\\n05-Strings_files\\n05-Strings.html\\n05-Strings.ipynb\\n06a-Packages\\n06-Regex\\n06-Regex_files\\n06-Regex.html\\n06-Regex.ipynb\\n07-Functions\\n07-Functions_files\\n07-Functions.html\\n07-Functions.ipynb\\n08-AdvancedFunctions\\n08-AdvancedFunctions_files\\n08-AdvancedFunctions.html\\n08-AdvancedFunctions.ipynb\\n09-Logging\\n09-Logging_files\\n09-Logging.html\\n09-Logging.ipynb\\n10-OOP1\\n10-OOP1_files\\n10-OOP1.html\\n10-OOP1.ipynb\\n11-OOP2\\n11-OOP2_files\\n11-OOP2.html\\n11-OOP2.ipynb\\n12-Decorators\\n12-Decorators_files\\n12-Decorators.html\\n12-Decorators.ipynb\\n13-Generators\\n13-GeneratorsAndIterators_files\\n13-GeneratorsAndIterators.html\\n13-GeneratorsAndIterators.ipynb\\n14-ContextManagers\\n14-ContextManagers_files\\n14-ContextManagers.html\\n14-ContextManagers.ipynb\\n15-Threading\\n16-Multiprocessing\\n17-Subprocess.ipynb\\nfabfile.py\\nfabfile.pyc\\nFastTrackToPython.pdf\\n.git\\nindex.md\\n.vagrant\\nVagrantfile\\n'"
       ]
      }
     ], 
     "prompt_number": 36
    }, 
    {
     "cell_type": "code", 
     "collapsed": false, 
     "input": [
      "subprocess.call(['ls', '/directory/does/not/exist'])"
     ], 
     "language": "python", 
     "outputs": [
      {
       "output_type": "pyout", 
       "prompt_number": 37, 
       "text": [
        "2"
       ]
      }
     ], 
     "prompt_number": 37
    }, 
    {
     "cell_type": "code", 
     "collapsed": false, 
     "input": [
      "try:", 
      "    subprocess.check_output(['ls', '-a', '/directory/does/not/exist'])", 
      "except subprocess.CalledProcessError, error:", 
      "    print 'Exception raised: %s' % error"
     ], 
     "language": "python", 
     "outputs": [
      {
       "output_type": "stream", 
       "stream": "stdout", 
       "text": [
        "Exception raised: Command '['ls', '-a', '/directory/does/not/exist']' returned non-zero exit status 2"
       ]
      }
     ], 
     "prompt_number": 38
    }, 
    {
     "cell_type": "code", 
     "collapsed": false, 
     "input": [
      "try:", 
      "    subprocess.check_call(['ls', '-a', '/directory/does/not/exist'])", 
      "except subprocess.CalledProcessError, error:", 
      "    print 'Exception raised: %s' % error"
     ], 
     "language": "python", 
     "outputs": [
      {
       "output_type": "stream", 
       "stream": "stdout", 
       "text": [
        "Exception raised: Command '['ls', '-a', '/directory/does/not/exist']' returned non-zero exit status 2"
       ]
      }
     ], 
     "prompt_number": 39
    }, 
    {
     "cell_type": "markdown", 
     "source": [
      "## Popen", 
      "", 
      "The above methods are just wrappers around the `Popen` constructor:"
     ]
    }, 
    {
     "cell_type": "code", 
     "collapsed": false, 
     "input": [
      "help(subprocess.Popen.__init__)"
     ], 
     "language": "python", 
     "outputs": [
      {
       "output_type": "stream", 
       "stream": "stdout", 
       "text": [
        "Help on method __init__ in module subprocess:", 
        "", 
        "__init__(self, args, bufsize=0, executable=None, stdin=None, stdout=None, stderr=None, preexec_fn=None, close_fds=False, shell=False, cwd=None, env=None, universal_newlines=False, startupinfo=None, creationflags=0) unbound subprocess.Popen method", 
        "    Create new Popen instance.", 
        ""
       ]
      }
     ], 
     "prompt_number": 44
    }, 
    {
     "cell_type": "code", 
     "collapsed": false, 
     "input": [
      "sp = subprocess.Popen('ls', stdout=subprocess.PIPE)", 
      "print sp.stdout"
     ], 
     "language": "python", 
     "outputs": [
      {
       "output_type": "stream", 
       "stream": "stdout", 
       "text": [
        "<open file '<fdopen>', mode 'rb' at 0x2dc6c90>"
       ]
      }
     ], 
     "prompt_number": 49
    }, 
    {
     "cell_type": "code", 
     "collapsed": false, 
     "input": [
      "print sp.stdout.read(20)"
     ], 
     "language": "python", 
     "outputs": [
      {
       "output_type": "stream", 
       "stream": "stdout", 
       "text": [
        "01-BasicPythonSyntax"
       ]
      }
     ], 
     "prompt_number": 50
    }, 
    {
     "cell_type": "code", 
     "collapsed": false, 
     "input": [
      "sp.wait()"
     ], 
     "language": "python", 
     "outputs": [
      {
       "output_type": "pyout", 
       "prompt_number": 53, 
       "text": [
        "0"
       ]
      }
     ], 
     "prompt_number": 53
    }, 
    {
     "cell_type": "code", 
     "collapsed": false, 
     "input": [
      "sp = subprocess.Popen('vi')"
     ], 
     "language": "python", 
     "outputs": [], 
     "prompt_number": 54
    }, 
    {
     "cell_type": "code", 
     "collapsed": false, 
     "input": [
      "sp.poll()"
     ], 
     "language": "python", 
     "outputs": [], 
     "prompt_number": 56
    }, 
    {
     "cell_type": "code", 
     "collapsed": true, 
     "input": [
      "sp.terminate()"
     ], 
     "language": "python", 
     "outputs": [], 
     "prompt_number": 57
    }, 
    {
     "cell_type": "code", 
     "collapsed": false, 
     "input": [
      "sp.wait()"
     ], 
     "language": "python", 
     "outputs": [
      {
       "output_type": "pyout", 
       "prompt_number": 58, 
       "text": [
        "-15"
       ]
      }
     ], 
     "prompt_number": 58
    }, 
    {
     "cell_type": "code", 
     "collapsed": true, 
     "input": [], 
     "language": "python", 
     "outputs": []
    }
   ]
  }
 ]
}