{
 "metadata": {
  "name": "09-Logging"
 }, 
 "nbformat": 2, 
 "worksheets": [
  {
   "cells": [
    {
     "cell_type": "markdown", 
     "source": [
      "# Logging", 
      "", 
      "Python provides a standard and configurable logging facility. You can set up the collection", 
      "of loggers &amp; handlers separately from their actual *use* in your program."
     ]
    }, 
    {
     "cell_type": "code", 
     "collapsed": false, 
     "input": [
      "import logging", 
      "logging.basicConfig()", 
      "", 
      "log = logging.getLogger()", 
      "log"
     ], 
     "language": "python", 
     "outputs": [
      {
       "output_type": "pyout", 
       "prompt_number": 1, 
       "text": [
        "<logging.RootLogger at 0x1d834d0>"
       ]
      }
     ], 
     "prompt_number": 1
    }, 
    {
     "cell_type": "code", 
     "collapsed": false, 
     "input": [
      "log.log(logging.CRITICAL, 'This is a critical message')", 
      "log.log(logging.FATAL, 'This is a fatal message')"
     ], 
     "language": "python", 
     "outputs": [
      {
       "output_type": "stream", 
       "stream": "stderr", 
       "text": [
        "CRITICAL:root:This is a critical message"
       ]
      }, 
      {
       "output_type": "stream", 
       "stream": "stderr", 
       "text": [
        "CRITICAL:root:This is a fatal message"
       ]
      }
     ], 
     "prompt_number": 2
    }, 
    {
     "cell_type": "code", 
     "collapsed": false, 
     "input": [
      "logging.CRITICAL, logging.ERROR, logging.WARN, logging.INFO, logging.DEBUG"
     ], 
     "language": "python", 
     "outputs": [
      {
       "output_type": "pyout", 
       "prompt_number": 3, 
       "text": [
        "(50, 40, 30, 20, 10)"
       ]
      }
     ], 
     "prompt_number": 3
    }, 
    {
     "cell_type": "code", 
     "collapsed": false, 
     "input": [
      "log.critical('This is critical')"
     ], 
     "language": "python", 
     "outputs": [
      {
       "output_type": "stream", 
       "stream": "stderr", 
       "text": [
        "CRITICAL:root:This is critical"
       ]
      }
     ], 
     "prompt_number": 4
    }, 
    {
     "cell_type": "code", 
     "collapsed": false, 
     "input": [
      "log.error('This is an error')", 
      "log.warn('This is a warning')", 
      "log.info('This is info')", 
      "log.debug('This is debug')"
     ], 
     "language": "python", 
     "outputs": [
      {
       "output_type": "stream", 
       "stream": "stderr", 
       "text": [
        "ERROR:root:This is an error"
       ]
      }, 
      {
       "output_type": "stream", 
       "stream": "stderr", 
       "text": [
        "WARNING:root:This is a warning"
       ]
      }
     ], 
     "prompt_number": 5
    }, 
    {
     "cell_type": "code", 
     "collapsed": true, 
     "input": [
      "log.setLevel(logging.DEBUG)"
     ], 
     "language": "python", 
     "outputs": [], 
     "prompt_number": 6
    }, 
    {
     "cell_type": "code", 
     "collapsed": false, 
     "input": [
      "log.error('This is an error')", 
      "log.warn('This is a warning')", 
      "log.info('This is info')", 
      "log.debug('This is debug')"
     ], 
     "language": "python", 
     "outputs": [
      {
       "output_type": "stream", 
       "stream": "stderr", 
       "text": [
        "ERROR:root:This is an error"
       ]
      }, 
      {
       "output_type": "stream", 
       "stream": "stderr", 
       "text": [
        "WARNING:root:This is a warning"
       ]
      }, 
      {
       "output_type": "stream", 
       "stream": "stderr", 
       "text": [
        "INFO:root:This is info"
       ]
      }, 
      {
       "output_type": "stream", 
       "stream": "stderr", 
       "text": [
        "DEBUG:root:This is debug"
       ]
      }
     ], 
     "prompt_number": 7
    }, 
    {
     "cell_type": "code", 
     "collapsed": false, 
     "input": [
      "log.info('This is a message with an argument %r', 'The argument')"
     ], 
     "language": "python", 
     "outputs": [
      {
       "output_type": "stream", 
       "stream": "stderr", 
       "text": [
        "INFO:root:This is a message with an argument 'The argument'"
       ]
      }
     ], 
     "prompt_number": 15
    }, 
    {
     "cell_type": "markdown", 
     "source": [
      "# Sub-loggers", 
      "", 
      "We can configure \"child loggers\" of the root logger by passing a name to the `getLogger` ", 
      "function:"
     ]
    }, 
    {
     "cell_type": "code", 
     "collapsed": false, 
     "input": [
      "root = logging.getLogger()", 
      "mylogger = logging.getLogger('mylogger')", 
      "mylogger.setLevel(logging.INFO)", 
      "root.debug('The root logger will print debug information')", 
      "mylogger.debug('mylogger will not')"
     ], 
     "language": "python", 
     "outputs": [
      {
       "output_type": "stream", 
       "stream": "stderr", 
       "text": [
        "DEBUG:root:The root logger will print debug information"
       ]
      }
     ], 
     "prompt_number": 8
    }, 
    {
     "cell_type": "code", 
     "collapsed": false, 
     "input": [
      "mylogger.info('Information will propagate up to other loggers')", 
      "mylogger.propagate = 0", 
      "mylogger.info('But not if we set propagate to 0')"
     ], 
     "language": "python", 
     "outputs": [
      {
       "output_type": "stream", 
       "stream": "stderr", 
       "text": [
        "INFO:mylogger:Information will propagate up to other loggers"
       ]
      }, 
      {
       "output_type": "stream", 
       "stream": "stderr", 
       "text": [
        "No handlers could be found for logger \"mylogger\""
       ]
      }
     ], 
     "prompt_number": 9
    }, 
    {
     "cell_type": "markdown", 
     "source": [
      "## Handlers and formatters"
     ]
    }, 
    {
     "cell_type": "code", 
     "collapsed": false, 
     "input": [
      "handler = logging.StreamHandler()", 
      "mylogger.handlers = [handler]", 
      "mylogger.info('Now this is being handled by mylogger')"
     ], 
     "language": "python", 
     "outputs": [
      {
       "output_type": "stream", 
       "stream": "stderr", 
       "text": [
        "Now this is being handled by mylogger"
       ]
      }
     ], 
     "prompt_number": 10
    }, 
    {
     "cell_type": "code", 
     "collapsed": true, 
     "input": [
      "handler.setLevel(logging.WARN)", 
      "mylogger.info('Now this is suppressed by the handler')"
     ], 
     "language": "python", 
     "outputs": [], 
     "prompt_number": 11
    }, 
    {
     "cell_type": "code", 
     "collapsed": false, 
     "input": [
      "handler.setLevel(logging.INFO)", 
      "handler.formatter = logging.Formatter('%(levelname)s:%(message)s')", 
      "mylogger.info('This is a message')"
     ], 
     "language": "python", 
     "outputs": [
      {
       "output_type": "stream", 
       "stream": "stderr", 
       "text": [
        "INFO:This is a message"
       ]
      }
     ], 
     "prompt_number": 12
    }, 
    {
     "cell_type": "markdown", 
     "source": [
      "If we set propagate back to 1, we'll see \"doubled\" messages:"
     ]
    }, 
    {
     "cell_type": "code", 
     "collapsed": false, 
     "input": [
      "mylogger.propagate = 1", 
      "mylogger.info('Hello, there')"
     ], 
     "language": "python", 
     "outputs": [
      {
       "output_type": "stream", 
       "stream": "stderr", 
       "text": [
        "INFO:Hello, there"
       ]
      }, 
      {
       "output_type": "stream", 
       "stream": "stderr", 
       "text": [
        "INFO:mylogger:Hello, there"
       ]
      }
     ], 
     "prompt_number": 13
    }, 
    {
     "cell_type": "markdown", 
     "source": [
      "## Logging Configuration"
     ]
    }
   ]
  }
 ]
}