{
 "metadata": {
  "name": "",
  "signature": "sha256:8082de41ab6a6ae79272b4db57706423de3599023c4903686dc0a378c2a800f1"
 },
 "nbformat": 3,
 "nbformat_minor": 0,
 "worksheets": [
  {
   "cells": [
    {
     "cell_type": "markdown",
     "metadata": {},
     "source": [
      "# Logging\n",
      "\n",
      "Python provides a standard and configurable logging facility. You can set up the collection\n",
      "of loggers &amp; handlers separately from their actual *use* in your program."
     ]
    },
    {
     "cell_type": "code",
     "collapsed": false,
     "input": [
      "import logging\n",
      "logging.basicConfig()\n",
      "\n",
      "log = logging.getLogger()\n",
      "log"
     ],
     "language": "python",
     "metadata": {},
     "outputs": [
      {
       "metadata": {},
       "output_type": "pyout",
       "prompt_number": 1,
       "text": [
        "<logging.RootLogger at 0x116c550>"
       ]
      }
     ],
     "prompt_number": 1
    },
    {
     "cell_type": "code",
     "collapsed": false,
     "input": [
      "log.log(logging.CRITICAL, 'This is a critical message')\n",
      "log.log(logging.FATAL, 'This is a fatal message')"
     ],
     "language": "python",
     "metadata": {},
     "outputs": [
      {
       "output_type": "stream",
       "stream": "stderr",
       "text": [
        "CRITICAL:root:This is a critical message\n"
       ]
      },
      {
       "output_type": "stream",
       "stream": "stderr",
       "text": [
        "CRITICAL:root:This is a fatal message\n"
       ]
      }
     ],
     "prompt_number": 2
    },
    {
     "cell_type": "code",
     "collapsed": false,
     "input": [
      "logging.CRITICAL, logging.ERROR, logging.WARN, logging.INFO, logging.DEBUG"
     ],
     "language": "python",
     "metadata": {},
     "outputs": [
      {
       "metadata": {},
       "output_type": "pyout",
       "prompt_number": 3,
       "text": [
        "(50, 40, 30, 20, 10)"
       ]
      }
     ],
     "prompt_number": 3
    },
    {
     "cell_type": "code",
     "collapsed": false,
     "input": [
      "log.critical('This is critical')"
     ],
     "language": "python",
     "metadata": {},
     "outputs": [
      {
       "output_type": "stream",
       "stream": "stderr",
       "text": [
        "CRITICAL:root:This is critical\n"
       ]
      }
     ],
     "prompt_number": 4
    },
    {
     "cell_type": "code",
     "collapsed": false,
     "input": [
      "log.error('This is an error')\n",
      "log.warn('This is a warning')\n",
      "log.info('This is info')\n",
      "log.debug('This is debug')"
     ],
     "language": "python",
     "metadata": {},
     "outputs": [
      {
       "output_type": "stream",
       "stream": "stderr",
       "text": [
        "ERROR:root:This is an error\n"
       ]
      },
      {
       "output_type": "stream",
       "stream": "stderr",
       "text": [
        "WARNING:root:This is a warning\n"
       ]
      }
     ],
     "prompt_number": 5
    },
    {
     "cell_type": "code",
     "collapsed": true,
     "input": [
      "log.setLevel(logging.DEBUG)"
     ],
     "language": "python",
     "metadata": {},
     "outputs": [],
     "prompt_number": 7
    },
    {
     "cell_type": "code",
     "collapsed": false,
     "input": [
      "log.error('This is an error')\n",
      "log.warn('This is a warning')\n",
      "log.info('This is info')\n",
      "log.debug('This is debug')"
     ],
     "language": "python",
     "metadata": {},
     "outputs": [
      {
       "output_type": "stream",
       "stream": "stderr",
       "text": [
        "ERROR:root:This is an error\n"
       ]
      },
      {
       "output_type": "stream",
       "stream": "stderr",
       "text": [
        "WARNING:root:This is a warning\n"
       ]
      },
      {
       "output_type": "stream",
       "stream": "stderr",
       "text": [
        "INFO:root:This is info\n"
       ]
      },
      {
       "output_type": "stream",
       "stream": "stderr",
       "text": [
        "DEBUG:root:This is debug\n"
       ]
      }
     ],
     "prompt_number": 8
    },
    {
     "cell_type": "code",
     "collapsed": false,
     "input": [
      "log.info('This is a message with an argument %r', 'The argument')"
     ],
     "language": "python",
     "metadata": {},
     "outputs": [
      {
       "output_type": "stream",
       "stream": "stderr",
       "text": [
        "INFO:root:This is a message with an argument 'The argument'\n"
       ]
      }
     ],
     "prompt_number": 12
    },
    {
     "cell_type": "markdown",
     "metadata": {},
     "source": [
      "# Sub-loggers\n",
      "\n",
      "We can configure \"child loggers\" of the root logger by passing a name to the `getLogger` \n",
      "function:"
     ]
    },
    {
     "cell_type": "code",
     "collapsed": false,
     "input": [
      "root = logging.getLogger()\n",
      "mylogger = logging.getLogger('mylogger')\n",
      "mylogger.setLevel(logging.INFO)\n",
      "root.debug('The root logger will print debug information')\n",
      "mylogger.debug('mylogger will not')"
     ],
     "language": "python",
     "metadata": {},
     "outputs": [
      {
       "output_type": "stream",
       "stream": "stderr",
       "text": [
        "DEBUG:root:The root logger will print debug information\n"
       ]
      }
     ],
     "prompt_number": 17
    },
    {
     "cell_type": "code",
     "collapsed": false,
     "input": [
      "mylogger.info('Information will propagate up to other loggers')\n",
      "mylogger.propagate = 0\n",
      "mylogger.info('But not if we set propagate to 0')"
     ],
     "language": "python",
     "metadata": {},
     "outputs": [],
     "prompt_number": 18
    },
    {
     "cell_type": "markdown",
     "metadata": {},
     "source": [
      "## Handlers and formatters"
     ]
    },
    {
     "cell_type": "code",
     "collapsed": false,
     "input": [
      "handler = logging.StreamHandler()\n",
      "mylogger.handlers = [handler]\n",
      "mylogger.info('Now this is being handled by mylogger')"
     ],
     "language": "python",
     "metadata": {},
     "outputs": [
      {
       "output_type": "stream",
       "stream": "stderr",
       "text": [
        "Now this is being handled by mylogger\n"
       ]
      }
     ],
     "prompt_number": 19
    },
    {
     "cell_type": "code",
     "collapsed": true,
     "input": [
      "handler.setLevel(logging.WARN)\n",
      "mylogger.info('Now this is suppressed by the handler')"
     ],
     "language": "python",
     "metadata": {},
     "outputs": [],
     "prompt_number": 20
    },
    {
     "cell_type": "code",
     "collapsed": false,
     "input": [
      "handler.setLevel(logging.INFO)\n",
      "handler.formatter = logging.Formatter('%(levelname)s:%(message)s')\n",
      "mylogger.info('This is a message')"
     ],
     "language": "python",
     "metadata": {},
     "outputs": [
      {
       "output_type": "stream",
       "stream": "stderr",
       "text": [
        "INFO:This is a message\n"
       ]
      }
     ],
     "prompt_number": 21
    },
    {
     "cell_type": "markdown",
     "metadata": {},
     "source": [
      "If we set propagate back to 1, we'll see \"doubled\" messages:"
     ]
    },
    {
     "cell_type": "code",
     "collapsed": false,
     "input": [
      "mylogger.propagate = 1\n",
      "mylogger.info('Hello, there')"
     ],
     "language": "python",
     "metadata": {},
     "outputs": [
      {
       "output_type": "stream",
       "stream": "stderr",
       "text": [
        "INFO:Hello, there\n"
       ]
      },
      {
       "output_type": "stream",
       "stream": "stderr",
       "text": [
        "INFO:mylogger:Hello, there\n"
       ]
      }
     ],
     "prompt_number": 22
    },
    {
     "cell_type": "markdown",
     "metadata": {},
     "source": [
      "## Logging Configuration"
     ]
    },
    {
     "cell_type": "code",
     "collapsed": false,
     "input": [
      "import sys\n",
      "import logging.config\n",
      "\n",
      "\n",
      "config = {\n",
      "    'version': 1,\n",
      "    'loggers': {\n",
      "        'root': {\n",
      "            'level': logging.ERROR,\n",
      "            'handlers': ['stream' ] },\n",
      "        'mylogger2': {\n",
      "            'level': logging.INFO,\n",
      "            'handlers': [ 'stream', 'file'] } },\n",
      "    'handlers': {\n",
      "        'stream': {\n",
      "            'class': 'logging.StreamHandler',\n",
      "            'formatter': 'basic',\n",
      "            'stream': sys.stdout },\n",
      "        'file': {\n",
      "            'class': 'logging.FileHandler',\n",
      "            'formatter': 'precise',\n",
      "            'filename': '/tmp/logfile.log',\n",
      "            'mode': 'w' } },\n",
      "    'formatters': {\n",
      "        'basic': {\n",
      "            'format': '%(levelname)-8s %(message)s' },\n",
      "        'precise': {\n",
      "            'format': '%(asctime)s %(levelname)-8s %(name)-15s %(message)s',\n",
      "            'datefmt': '%Y-%m-%d %H:%M:%S' } }\n",
      "}\n",
      "\n",
      "\n",
      "logging.config.dictConfig(config)\n",
      "\n",
      "root = logging.getLogger()\n",
      "mylogger2 = logging.getLogger('mylogger2')\n",
      "\n",
      "root.error('error from root')\n",
      "print\n",
      "mylogger2.error('error from mylogger')\n",
      "print\n",
      "mylogger2.info('info from mylogger')"
     ],
     "language": "python",
     "metadata": {},
     "outputs": [
      {
       "output_type": "stream",
       "stream": "stderr",
       "text": [
        "ERROR:root:error from root\n"
       ]
      },
      {
       "output_type": "stream",
       "stream": "stdout",
       "text": [
        "\n",
        "ERROR    error from mylogger\n"
       ]
      },
      {
       "output_type": "stream",
       "stream": "stderr",
       "text": [
        "ERROR:mylogger2:error from mylogger\n"
       ]
      },
      {
       "output_type": "stream",
       "stream": "stdout",
       "text": [
        "\n",
        "INFO     info from mylogger\n"
       ]
      },
      {
       "output_type": "stream",
       "stream": "stderr",
       "text": [
        "INFO:mylogger2:info from mylogger\n"
       ]
      }
     ],
     "prompt_number": 23
    },
    {
     "cell_type": "code",
     "collapsed": false,
     "input": [
      "print open('/tmp/logfile.log').read()"
     ],
     "language": "python",
     "metadata": {},
     "outputs": [
      {
       "output_type": "stream",
       "stream": "stdout",
       "text": [
        "2014-07-02 00:44:34 ERROR    mylogger2       error from mylogger\n",
        "2014-07-02 00:44:34 INFO     mylogger2       info from mylogger\n",
        "\n"
       ]
      }
     ],
     "prompt_number": 24
    },
    {
     "cell_type": "code",
     "collapsed": false,
     "input": [],
     "language": "python",
     "metadata": {},
     "outputs": []
    }
   ],
   "metadata": {}
  }
 ]
}