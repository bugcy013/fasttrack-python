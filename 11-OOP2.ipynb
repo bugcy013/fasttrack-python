{
 "metadata": {
  "name": "11-OOP2"
 }, 
 "nbformat": 2, 
 "worksheets": [
  {
   "cells": [
    {
     "cell_type": "markdown", 
     "source": [
      "# Object Oriented Programming (part 2)", 
      "", 
      "## Inheritance"
     ]
    }, 
    {
     "cell_type": "code", 
     "collapsed": true, 
     "input": [
      "class Animal(object):", 
      "    def __init__(self, name):", 
      "        self._name = name", 
      "    def say(self, message):", 
      "        print '%s the animal says %s' % (self._name, message)", 
      "    def get_number_of_legs(self):", 
      "        raise NotImplementedError, 'get_number_of_legs'", 
      "        ", 
      "class Cat(Animal):", 
      "    def __init__(self, name='Felix'):", 
      "        Animal.__init__(self, name)", 
      "    def say(self, message):", 
      "        print '%s the cat meows %s' % (self._name, message)", 
      "    def get_number_of_legs(self):", 
      "        return 4", 
      "    ", 
      "class Dog(Animal):", 
      "    def __init__(self, name='Fido'):", 
      "        super(Dog, self).__init__(name)", 
      "    def say(self, message):", 
      "        print '%s the dog barks %s' % (self._name, message)", 
      "    def get_number_of_legs(self):", 
      "        return 4", 
      "    ", 
      "class Monkey(Animal):", 
      "    def __init__(self, name='George'):", 
      "        Animal.__init__(self, name)", 
      "    def say(self, message):", 
      "        print '%s the monkey says %s' % (self._name, message)", 
      "    def get_number_of_legs(self):", 
      "        return 2"
     ], 
     "language": "python", 
     "outputs": [], 
     "prompt_number": 64
    }, 
    {
     "cell_type": "code", 
     "collapsed": false, 
     "input": [
      "animal = Animal('Generic')", 
      "animal.say('hello')"
     ], 
     "language": "python", 
     "outputs": [
      {
       "output_type": "stream", 
       "stream": "stdout", 
       "text": [
        "Generic the animal says hello"
       ]
      }
     ], 
     "prompt_number": 65
    }, 
    {
     "cell_type": "code", 
     "collapsed": false, 
     "input": [
      "print animal.get_number_of_legs()"
     ], 
     "language": "python", 
     "outputs": [
      {
       "ename": "NotImplementedError", 
       "evalue": "get_number_of_legs", 
       "output_type": "pyerr", 
       "traceback": [
        "\u001b[0;31m---------------------------------------------------------------------------\u001b[0m\n\u001b[0;31mNotImplementedError\u001b[0m                       Traceback (most recent call last)", 
        "\u001b[0;32m/vagrant/<ipython-input-66-3623e2c96566>\u001b[0m in \u001b[0;36m<module>\u001b[0;34m()\u001b[0m\n\u001b[0;32m----> 1\u001b[0;31m \u001b[0;32mprint\u001b[0m \u001b[0manimal\u001b[0m\u001b[0;34m.\u001b[0m\u001b[0mget_number_of_legs\u001b[0m\u001b[0;34m(\u001b[0m\u001b[0;34m)\u001b[0m\u001b[0;34m\u001b[0m\u001b[0m\n\u001b[0m", 
        "\u001b[0;32m/vagrant/<ipython-input-64-798984796887>\u001b[0m in \u001b[0;36mget_number_of_legs\u001b[0;34m(self)\u001b[0m\n\u001b[1;32m      5\u001b[0m         \u001b[0;32mprint\u001b[0m \u001b[0;34m'%s the animal says %s'\u001b[0m \u001b[0;34m%\u001b[0m \u001b[0;34m(\u001b[0m\u001b[0mself\u001b[0m\u001b[0;34m.\u001b[0m\u001b[0m_name\u001b[0m\u001b[0;34m,\u001b[0m \u001b[0mmessage\u001b[0m\u001b[0;34m)\u001b[0m\u001b[0;34m\u001b[0m\u001b[0m\n\u001b[1;32m      6\u001b[0m     \u001b[0;32mdef\u001b[0m \u001b[0mget_number_of_legs\u001b[0m\u001b[0;34m(\u001b[0m\u001b[0mself\u001b[0m\u001b[0;34m)\u001b[0m\u001b[0;34m:\u001b[0m\u001b[0;34m\u001b[0m\u001b[0m\n\u001b[0;32m----> 7\u001b[0;31m         \u001b[0;32mraise\u001b[0m \u001b[0mNotImplementedError\u001b[0m\u001b[0;34m,\u001b[0m \u001b[0;34m'get_number_of_legs'\u001b[0m\u001b[0;34m\u001b[0m\u001b[0m\n\u001b[0m\u001b[1;32m      8\u001b[0m \u001b[0;34m\u001b[0m\u001b[0m\n\u001b[1;32m      9\u001b[0m \u001b[0;32mclass\u001b[0m \u001b[0mCat\u001b[0m\u001b[0;34m(\u001b[0m\u001b[0mAnimal\u001b[0m\u001b[0;34m)\u001b[0m\u001b[0;34m:\u001b[0m\u001b[0;34m\u001b[0m\u001b[0m\n", 
        "\u001b[0;31mNotImplementedError\u001b[0m: get_number_of_legs"
       ]
      }
     ], 
     "prompt_number": 66
    }, 
    {
     "cell_type": "code", 
     "collapsed": false, 
     "input": [
      "animal = Cat()", 
      "animal.say('hello')"
     ], 
     "language": "python", 
     "outputs": [
      {
       "output_type": "stream", 
       "stream": "stdout", 
       "text": [
        "Felix the cat meows hello"
       ]
      }
     ], 
     "prompt_number": 67
    }, 
    {
     "cell_type": "code", 
     "collapsed": false, 
     "input": [
      "animal = Dog()", 
      "animal.say('hello')", 
      "print animal.get_number_of_legs()"
     ], 
     "language": "python", 
     "outputs": [
      {
       "output_type": "stream", 
       "stream": "stdout", 
       "text": [
        "Fido the dog barks hello", 
        "4"
       ]
      }
     ], 
     "prompt_number": 68
    }, 
    {
     "cell_type": "code", 
     "collapsed": false, 
     "input": [
      "animal = Monkey()", 
      "animal.say('I have %s legs' % animal.get_number_of_legs())"
     ], 
     "language": "python", 
     "outputs": [
      {
       "output_type": "stream", 
       "stream": "stdout", 
       "text": [
        "George the monkey says I have 2 legs"
       ]
      }
     ], 
     "prompt_number": 69
    }, 
    {
     "cell_type": "code", 
     "collapsed": false, 
     "input": [
      "isinstance(animal, Monkey)"
     ], 
     "language": "python", 
     "outputs": [
      {
       "output_type": "pyout", 
       "prompt_number": 70, 
       "text": [
        "True"
       ]
      }
     ], 
     "prompt_number": 70
    }, 
    {
     "cell_type": "code", 
     "collapsed": false, 
     "input": [
      "isinstance(animal, Cat)"
     ], 
     "language": "python", 
     "outputs": [
      {
       "output_type": "pyout", 
       "prompt_number": 71, 
       "text": [
        "False"
       ]
      }
     ], 
     "prompt_number": 71
    }, 
    {
     "cell_type": "code", 
     "collapsed": false, 
     "input": [
      "isinstance(animal, Animal)"
     ], 
     "language": "python", 
     "outputs": [
      {
       "output_type": "pyout", 
       "prompt_number": 72, 
       "text": [
        "True"
       ]
      }
     ], 
     "prompt_number": 72
    }, 
    {
     "cell_type": "code", 
     "collapsed": false, 
     "input": [
      "issubclass(Cat, Animal)"
     ], 
     "language": "python", 
     "outputs": [
      {
       "output_type": "pyout", 
       "prompt_number": 73, 
       "text": [
        "True"
       ]
      }
     ], 
     "prompt_number": 73
    }, 
    {
     "cell_type": "code", 
     "collapsed": false, 
     "input": [
      "class MonkeyDog(Monkey, Dog):", 
      "    pass", 
      "", 
      "x = MonkeyDog('What is this thing?!')", 
      "print x.say('hello?')"
     ], 
     "language": "python", 
     "outputs": [
      {
       "output_type": "stream", 
       "stream": "stdout", 
       "text": [
        "What is this thing?! the monkey says hello?", 
        "None"
       ]
      }
     ], 
     "prompt_number": 74
    }, 
    {
     "cell_type": "code", 
     "collapsed": false, 
     "input": [
      "print MonkeyDog.mro()"
     ], 
     "language": "python", 
     "outputs": [
      {
       "output_type": "stream", 
       "stream": "stdout", 
       "text": [
        "[<class '__main__.MonkeyDog'>, <class '__main__.Monkey'>, <class '__main__.Dog'>, <class '__main__.Animal'>, <type 'object'>]"
       ]
      }
     ], 
     "prompt_number": 75
    }, 
    {
     "cell_type": "markdown", 
     "source": [
      "## Magic methods"
     ]
    }, 
    {
     "cell_type": "code", 
     "collapsed": false, 
     "input": [
      "print animal"
     ], 
     "language": "python", 
     "outputs": [
      {
       "output_type": "stream", 
       "stream": "stdout", 
       "text": [
        "<__main__.Monkey object at 0x2847590>"
       ]
      }
     ], 
     "prompt_number": 76
    }, 
    {
     "cell_type": "code", 
     "collapsed": false, 
     "input": [
      "print str(animal)"
     ], 
     "language": "python", 
     "outputs": [
      {
       "output_type": "stream", 
       "stream": "stdout", 
       "text": [
        "<__main__.Monkey object at 0x2847590>"
       ]
      }
     ], 
     "prompt_number": 77
    }, 
    {
     "cell_type": "code", 
     "collapsed": true, 
     "input": [
      "class Animal(object):", 
      "    def __init__(self, name):", 
      "        self._name = name", 
      "    def __str__(self):", 
      "        return '<Animal %s>' % self._name"
     ], 
     "language": "python", 
     "outputs": [], 
     "prompt_number": 78
    }, 
    {
     "cell_type": "code", 
     "collapsed": false, 
     "input": [
      "animal = Animal('generic')", 
      "print animal"
     ], 
     "language": "python", 
     "outputs": [
      {
       "output_type": "stream", 
       "stream": "stdout", 
       "text": [
        "<Animal generic>"
       ]
      }
     ], 
     "prompt_number": 79
    }, 
    {
     "cell_type": "code", 
     "collapsed": true, 
     "input": [
      "class Animal(object):", 
      "    def __init__(self, name):", 
      "        self._name = name", 
      "    def __str__(self):", 
      "        return '<Animal %s>' % self._name", 
      "    def __repr__(self):", 
      "        return 'Animal(%r)' % self._name"
     ], 
     "language": "python", 
     "outputs": [], 
     "prompt_number": 80
    }, 
    {
     "cell_type": "code", 
     "collapsed": false, 
     "input": [
      "Animal('with repr')"
     ], 
     "language": "python", 
     "outputs": [
      {
       "output_type": "pyout", 
       "prompt_number": 81, 
       "text": [
        "Animal('with repr')"
       ]
      }
     ], 
     "prompt_number": 81
    }, 
    {
     "cell_type": "code", 
     "collapsed": false, 
     "input": [
      "print Animal('with repr')"
     ], 
     "language": "python", 
     "outputs": [
      {
       "output_type": "stream", 
       "stream": "stdout", 
       "text": [
        "<Animal with repr>"
       ]
      }
     ], 
     "prompt_number": 82
    }, 
    {
     "cell_type": "markdown", 
     "source": [
      "# Override attribute access"
     ]
    }, 
    {
     "cell_type": "code", 
     "collapsed": false, 
     "input": [
      "class MyClass(object):", 
      "    def __init__(self):", 
      "        self.a = 'avalue'", 
      "    def __getattr__(self, name):", 
      "        print 'Trying to get %s' % name", 
      "        return None", 
      "    ", 
      "x = MyClass()", 
      "print x.a", 
      "print x.unknown_attribute"
     ], 
     "language": "python", 
     "outputs": [
      {
       "output_type": "stream", 
       "stream": "stdout", 
       "text": [
        "avalue", 
        "Trying to get unknown_attribute", 
        "None"
       ]
      }
     ], 
     "prompt_number": 83
    }, 
    {
     "cell_type": "code", 
     "collapsed": false, 
     "input": [
      "class MyClass(object):", 
      "    a = 0", 
      "    def __setattr__(self, name, value):", 
      "        print 'Set %s <= %s' % (name, value)", 
      "        ", 
      "x = MyClass()", 
      "x.a = 'avalue'", 
      "print 'x.a is still %s' % x.a", 
      "    "
     ], 
     "language": "python", 
     "outputs": [
      {
       "output_type": "stream", 
       "stream": "stdout", 
       "text": [
        "Set a <= avalue", 
        "x.a is still 0"
       ]
      }
     ], 
     "prompt_number": 84
    }, 
    {
     "cell_type": "code", 
     "collapsed": false, 
     "input": [
      "class MyClass(object):", 
      "    def __init__(self):", 
      "        self.a = 'avalue'", 
      "    def __getattribute__(self, name):", 
      "        print 'Trying to get %s' % name", 
      "        return None", 
      "    ", 
      "x = MyClass()", 
      "print x.a", 
      "print x.unkown_attribute"
     ], 
     "language": "python", 
     "outputs": [
      {
       "output_type": "stream", 
       "stream": "stdout", 
       "text": [
        "Trying to get a", 
        "None", 
        "Trying to get unkown_attribute", 
        "None"
       ]
      }
     ], 
     "prompt_number": 85
    }, 
    {
     "cell_type": "markdown", 
     "source": [
      "## Override Container Methods"
     ]
    }, 
    {
     "cell_type": "code", 
     "collapsed": false, 
     "input": [
      "class DefaultDict(object):", 
      "    def __init__(self, default):", 
      "        self._data = {}", 
      "        self._default = default", 
      "    def __getitem__(self, key):", 
      "        try:", 
      "            return self._data[key]", 
      "        except KeyError:", 
      "            return self._default()", 
      "    def __setitem__(self, key, value):", 
      "        self._data[key] = value", 
      "    def __delitem__(self, key):", 
      "        del self._data[key]", 
      "    def __contains__(self, key):", 
      "        return key in self._data", 
      "    def __repr__(self):", 
      "        return '<DefaultDict %r>' % self._data", 
      "        ", 
      "mydict = DefaultDict(lambda:5)", 
      "mydict[1] = 1", 
      "mydict[2] = 2", 
      "print mydict", 
      "print 2 in mydict"
     ], 
     "language": "python", 
     "outputs": [
      {
       "output_type": "stream", 
       "stream": "stdout", 
       "text": [
        "<DefaultDict {1: 1, 2: 2}>", 
        "True"
       ]
      }
     ], 
     "prompt_number": 86
    }, 
    {
     "cell_type": "code", 
     "collapsed": false, 
     "input": [
      "print mydict[5]", 
      "print mydict"
     ], 
     "language": "python", 
     "outputs": [
      {
       "output_type": "stream", 
       "stream": "stdout", 
       "text": [
        "5", 
        "<DefaultDict {1: 1, 2: 2}>"
       ]
      }
     ], 
     "prompt_number": 87
    }, 
    {
     "cell_type": "markdown", 
     "source": [
      "## Other Magic Methods", 
      "", 
      "- Comparison override (`__lt__`, `__gt__`, `__le__`, `__ge__`, `__eq__`, `__ne__`)", 
      "- Emulating numeric types (`__add__`, `__sub__`, etc.)", 
      "- ... more ... (full list at <http://docs.python.org/reference/datamodel.html#special-method-names>)", 
      "", 
      "### Exercises", 
      "", 
      "- Update your phone directory to support looking up a number using the `[]` operator", 
      "- Create two phone directories, one which throws exceptions when looking up phone numbers, and ", 
      "  a subclass that always returns the same number for unknown phone numbers."
     ]
    }
   ]
  }
 ]
}