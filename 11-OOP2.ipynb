{
 "metadata": {
  "name": "",
  "signature": "sha256:c7f7b35ce4ba55adaa22f7c750a70d8a7f74fa71ff5dd8b04a4d1e7b85ad7cfe"
 },
 "nbformat": 3,
 "nbformat_minor": 0,
 "worksheets": [
  {
   "cells": [
    {
     "cell_type": "markdown",
     "metadata": {},
     "source": [
      "# Object Oriented Programming (part 2)\n",
      "\n",
      "## Inheritance"
     ]
    },
    {
     "cell_type": "code",
     "collapsed": true,
     "input": [
      "class Animal(object):\n",
      "    def __init__(self, name):\n",
      "        self._name = name\n",
      "    def say(self, message):\n",
      "        print '%s the animal says %s' % (self._name, message)\n",
      "    def get_number_of_legs(self):\n",
      "        raise NotImplementedError('get_number_of_legs')\n",
      "        \n",
      "class Cat(Animal):\n",
      "    def __init__(self, name='Felix'):\n",
      "        Animal.__init__(self, name)\n",
      "    def say(self, message):\n",
      "        print '%s the cat meows %s' % (self._name, message)\n",
      "    def get_number_of_legs(self):\n",
      "        return 4\n",
      "    \n",
      "class Dog(Animal):\n",
      "    def __init__(self, name='Fido'):\n",
      "        super(Dog, self).__init__(name)\n",
      "    def say(self, message):\n",
      "        print '%s the dog barks %s' % (self._name, message)\n",
      "    def get_number_of_legs(self):\n",
      "        return 4\n",
      "    \n",
      "class Monkey(Animal):\n",
      "    def __init__(self, name='George'):\n",
      "        Animal.__init__(self, name)\n",
      "    def say(self, message):\n",
      "        print '%s the monkey says %s' % (self._name, message)\n",
      "    def get_number_of_legs(self):\n",
      "        return 2"
     ],
     "language": "python",
     "metadata": {},
     "outputs": [],
     "prompt_number": 1
    },
    {
     "cell_type": "code",
     "collapsed": false,
     "input": [
      "animal = Animal('Generic')\n",
      "animal.say('hello')"
     ],
     "language": "python",
     "metadata": {},
     "outputs": [
      {
       "output_type": "stream",
       "stream": "stdout",
       "text": [
        "Generic the animal says hello\n"
       ]
      }
     ],
     "prompt_number": 2
    },
    {
     "cell_type": "code",
     "collapsed": false,
     "input": [
      "print animal.get_number_of_legs()"
     ],
     "language": "python",
     "metadata": {},
     "outputs": [
      {
       "ename": "NotImplementedError",
       "evalue": "get_number_of_legs",
       "output_type": "pyerr",
       "traceback": [
        "\u001b[1;31m---------------------------------------------------------------------------\u001b[0m\n\u001b[1;31mNotImplementedError\u001b[0m                       Traceback (most recent call last)",
        "\u001b[1;32m<ipython-input-3-3623e2c96566>\u001b[0m in \u001b[0;36m<module>\u001b[1;34m()\u001b[0m\n\u001b[1;32m----> 1\u001b[1;33m \u001b[1;32mprint\u001b[0m \u001b[0manimal\u001b[0m\u001b[1;33m.\u001b[0m\u001b[0mget_number_of_legs\u001b[0m\u001b[1;33m(\u001b[0m\u001b[1;33m)\u001b[0m\u001b[1;33m\u001b[0m\u001b[0m\n\u001b[0m",
        "\u001b[1;32m<ipython-input-1-0932749022ce>\u001b[0m in \u001b[0;36mget_number_of_legs\u001b[1;34m(self)\u001b[0m\n\u001b[0;32m      5\u001b[0m         \u001b[1;32mprint\u001b[0m \u001b[1;34m'%s the animal says %s'\u001b[0m \u001b[1;33m%\u001b[0m \u001b[1;33m(\u001b[0m\u001b[0mself\u001b[0m\u001b[1;33m.\u001b[0m\u001b[0m_name\u001b[0m\u001b[1;33m,\u001b[0m \u001b[0mmessage\u001b[0m\u001b[1;33m)\u001b[0m\u001b[1;33m\u001b[0m\u001b[0m\n\u001b[0;32m      6\u001b[0m     \u001b[1;32mdef\u001b[0m \u001b[0mget_number_of_legs\u001b[0m\u001b[1;33m(\u001b[0m\u001b[0mself\u001b[0m\u001b[1;33m)\u001b[0m\u001b[1;33m:\u001b[0m\u001b[1;33m\u001b[0m\u001b[0m\n\u001b[1;32m----> 7\u001b[1;33m         \u001b[1;32mraise\u001b[0m \u001b[0mNotImplementedError\u001b[0m\u001b[1;33m(\u001b[0m\u001b[1;34m'get_number_of_legs'\u001b[0m\u001b[1;33m)\u001b[0m\u001b[1;33m\u001b[0m\u001b[0m\n\u001b[0m\u001b[0;32m      8\u001b[0m \u001b[1;33m\u001b[0m\u001b[0m\n\u001b[0;32m      9\u001b[0m \u001b[1;32mclass\u001b[0m \u001b[0mCat\u001b[0m\u001b[1;33m(\u001b[0m\u001b[0mAnimal\u001b[0m\u001b[1;33m)\u001b[0m\u001b[1;33m:\u001b[0m\u001b[1;33m\u001b[0m\u001b[0m\n",
        "\u001b[1;31mNotImplementedError\u001b[0m: get_number_of_legs"
       ]
      }
     ],
     "prompt_number": 3
    },
    {
     "cell_type": "code",
     "collapsed": false,
     "input": [
      "animal = Cat()\n",
      "animal.say('hello')"
     ],
     "language": "python",
     "metadata": {},
     "outputs": [
      {
       "output_type": "stream",
       "stream": "stdout",
       "text": [
        "Felix the cat meows hello\n"
       ]
      }
     ],
     "prompt_number": 4
    },
    {
     "cell_type": "code",
     "collapsed": false,
     "input": [
      "animal = Dog()\n",
      "animal.say('hello')\n",
      "print animal.get_number_of_legs()"
     ],
     "language": "python",
     "metadata": {},
     "outputs": [
      {
       "output_type": "stream",
       "stream": "stdout",
       "text": [
        "Fido the dog barks hello\n",
        "4\n"
       ]
      }
     ],
     "prompt_number": 5
    },
    {
     "cell_type": "code",
     "collapsed": false,
     "input": [
      "animal = Monkey()\n",
      "animal.say('I have %s legs' % animal.get_number_of_legs())"
     ],
     "language": "python",
     "metadata": {},
     "outputs": [
      {
       "output_type": "stream",
       "stream": "stdout",
       "text": [
        "George the monkey says I have 2 legs\n"
       ]
      }
     ],
     "prompt_number": 6
    },
    {
     "cell_type": "code",
     "collapsed": false,
     "input": [
      "isinstance(animal, Monkey)"
     ],
     "language": "python",
     "metadata": {},
     "outputs": [
      {
       "metadata": {},
       "output_type": "pyout",
       "prompt_number": 7,
       "text": [
        "True"
       ]
      }
     ],
     "prompt_number": 7
    },
    {
     "cell_type": "code",
     "collapsed": false,
     "input": [
      "isinstance(animal, Cat)"
     ],
     "language": "python",
     "metadata": {},
     "outputs": [
      {
       "metadata": {},
       "output_type": "pyout",
       "prompt_number": 8,
       "text": [
        "False"
       ]
      }
     ],
     "prompt_number": 8
    },
    {
     "cell_type": "code",
     "collapsed": false,
     "input": [
      "isinstance(animal, Animal)"
     ],
     "language": "python",
     "metadata": {},
     "outputs": [
      {
       "metadata": {},
       "output_type": "pyout",
       "prompt_number": 9,
       "text": [
        "True"
       ]
      }
     ],
     "prompt_number": 9
    },
    {
     "cell_type": "code",
     "collapsed": false,
     "input": [
      "issubclass(Cat, Animal)"
     ],
     "language": "python",
     "metadata": {},
     "outputs": [
      {
       "metadata": {},
       "output_type": "pyout",
       "prompt_number": 10,
       "text": [
        "True"
       ]
      }
     ],
     "prompt_number": 10
    },
    {
     "cell_type": "code",
     "collapsed": false,
     "input": [
      "class MonkeyDog(Monkey, Dog):\n",
      "    pass\n",
      "\n",
      "x = MonkeyDog('What is this thing?!')\n",
      "print x.say('hello?')"
     ],
     "language": "python",
     "metadata": {},
     "outputs": [
      {
       "output_type": "stream",
       "stream": "stdout",
       "text": [
        "What is this thing?! the monkey says hello?\n",
        "None\n"
       ]
      }
     ],
     "prompt_number": 13
    },
    {
     "cell_type": "code",
     "collapsed": false,
     "input": [
      "print MonkeyDog.mro()"
     ],
     "language": "python",
     "metadata": {},
     "outputs": [
      {
       "output_type": "stream",
       "stream": "stdout",
       "text": [
        "[<class '__main__.MonkeyDog'>, <class '__main__.Monkey'>, <class '__main__.Dog'>, <class '__main__.Animal'>, <type 'object'>]\n"
       ]
      }
     ],
     "prompt_number": 15
    },
    {
     "cell_type": "code",
     "collapsed": false,
     "input": [
      "y = MonkeyDog()\n",
      "print y._name"
     ],
     "language": "python",
     "metadata": {},
     "outputs": [
      {
       "output_type": "stream",
       "stream": "stdout",
       "text": [
        "George\n"
       ]
      }
     ],
     "prompt_number": 17
    },
    {
     "cell_type": "markdown",
     "metadata": {},
     "source": [
      "## Magic methods"
     ]
    },
    {
     "cell_type": "code",
     "collapsed": false,
     "input": [
      "print animal"
     ],
     "language": "python",
     "metadata": {},
     "outputs": [
      {
       "output_type": "stream",
       "stream": "stdout",
       "text": [
        "<__main__.Monkey object at 0x2b98710>\n"
       ]
      }
     ],
     "prompt_number": 18
    },
    {
     "cell_type": "code",
     "collapsed": false,
     "input": [
      "print str(animal)"
     ],
     "language": "python",
     "metadata": {},
     "outputs": [
      {
       "output_type": "stream",
       "stream": "stdout",
       "text": [
        "<__main__.Monkey object at 0x2b98710>\n"
       ]
      }
     ],
     "prompt_number": 19
    },
    {
     "cell_type": "code",
     "collapsed": true,
     "input": [
      "class Animal(object):\n",
      "    def __init__(self, name):\n",
      "        self._name = name\n",
      "    def __str__(self):\n",
      "        return '<Animal %s>' % self._name"
     ],
     "language": "python",
     "metadata": {},
     "outputs": [],
     "prompt_number": 20
    },
    {
     "cell_type": "code",
     "collapsed": false,
     "input": [
      "animal = Animal('generic')\n",
      "print animal"
     ],
     "language": "python",
     "metadata": {},
     "outputs": [
      {
       "output_type": "stream",
       "stream": "stdout",
       "text": [
        "<Animal generic>\n"
       ]
      }
     ],
     "prompt_number": 21
    },
    {
     "cell_type": "code",
     "collapsed": true,
     "input": [
      "class Animal(object):\n",
      "    def __init__(self, name):\n",
      "        self._name = name\n",
      "    def __str__(self):\n",
      "        return '<Animal %s>' % self._name\n",
      "    def __repr__(self):\n",
      "        return 'Animal(%r)' % self._name"
     ],
     "language": "python",
     "metadata": {},
     "outputs": [],
     "prompt_number": 22
    },
    {
     "cell_type": "code",
     "collapsed": false,
     "input": [
      "Animal('with repr')"
     ],
     "language": "python",
     "metadata": {},
     "outputs": [
      {
       "metadata": {},
       "output_type": "pyout",
       "prompt_number": 23,
       "text": [
        "Animal('with repr')"
       ]
      }
     ],
     "prompt_number": 23
    },
    {
     "cell_type": "code",
     "collapsed": false,
     "input": [
      "print Animal('with repr')"
     ],
     "language": "python",
     "metadata": {},
     "outputs": [
      {
       "output_type": "stream",
       "stream": "stdout",
       "text": [
        "<Animal with repr>\n"
       ]
      }
     ],
     "prompt_number": 24
    },
    {
     "cell_type": "markdown",
     "metadata": {},
     "source": [
      "# Override attribute access"
     ]
    },
    {
     "cell_type": "code",
     "collapsed": false,
     "input": [
      "class MyClass(object):\n",
      "    def __init__(self):\n",
      "        self.a = 'avalue'\n",
      "    def __getattr__(self, name):\n",
      "        print 'Trying to get %s' % name\n",
      "        return None\n",
      "    \n",
      "x = MyClass()\n",
      "print x.a\n",
      "print x.unknown_attribute"
     ],
     "language": "python",
     "metadata": {},
     "outputs": [
      {
       "output_type": "stream",
       "stream": "stdout",
       "text": [
        "avalue\n",
        "Trying to get unknown_attribute\n",
        "None\n"
       ]
      }
     ],
     "prompt_number": 25
    },
    {
     "cell_type": "code",
     "collapsed": false,
     "input": [
      "class MyClass(object):\n",
      "    a = 0\n",
      "    def __setattr__(self, name, value):\n",
      "        print 'Set %s <= %s' % (name, value)\n",
      "        \n",
      "x = MyClass()\n",
      "x.a = 'avalue'\n",
      "print 'x.a is still %s' % x.a\n",
      "    "
     ],
     "language": "python",
     "metadata": {},
     "outputs": [
      {
       "output_type": "stream",
       "stream": "stdout",
       "text": [
        "Set a <= avalue\n",
        "x.a is still 0\n"
       ]
      }
     ],
     "prompt_number": 26
    },
    {
     "cell_type": "code",
     "collapsed": false,
     "input": [
      "class MyClass(object):\n",
      "    def __init__(self):\n",
      "        self.a = 'avalue'\n",
      "    def __getattribute__(self, name):\n",
      "        print 'Trying to get %s' % name\n",
      "        return None\n",
      "    \n",
      "x = MyClass()\n",
      "print x.a\n",
      "print x.unknown_attribute"
     ],
     "language": "python",
     "metadata": {},
     "outputs": [
      {
       "output_type": "stream",
       "stream": "stdout",
       "text": [
        "Trying to get a\n",
        "None\n",
        "Trying to get unknown_attribute\n",
        "None\n"
       ]
      }
     ],
     "prompt_number": 28
    },
    {
     "cell_type": "markdown",
     "metadata": {},
     "source": [
      "## Override Container Methods"
     ]
    },
    {
     "cell_type": "code",
     "collapsed": false,
     "input": [
      "class DefaultDict(object):\n",
      "    def __init__(self, default):\n",
      "        self._data = {}\n",
      "        self._default = default\n",
      "    def __getitem__(self, key):\n",
      "        try:\n",
      "            return self._data[key]\n",
      "        except KeyError:\n",
      "            return self._default()\n",
      "    def __setitem__(self, key, value):\n",
      "        self._data[key] = value\n",
      "    def __delitem__(self, key):\n",
      "        del self._data[key]\n",
      "    def __contains__(self, key):\n",
      "        return key in self._data\n",
      "    def __repr__(self):\n",
      "        return '<DefaultDict %r>' % self._data\n",
      "        \n",
      "mydict = DefaultDict(lambda:5)\n",
      "mydict[1] = 1\n",
      "mydict[2] = 2\n",
      "print mydict\n",
      "print 2 in mydict   # => mydict.__contains__(2)"
     ],
     "language": "python",
     "metadata": {},
     "outputs": [
      {
       "output_type": "stream",
       "stream": "stdout",
       "text": [
        "<DefaultDict {1: 1, 2: 2}>\n",
        "True\n"
       ]
      }
     ],
     "prompt_number": 30
    },
    {
     "cell_type": "code",
     "collapsed": false,
     "input": [
      "print mydict[50]\n",
      "print mydict"
     ],
     "language": "python",
     "metadata": {},
     "outputs": [
      {
       "output_type": "stream",
       "stream": "stdout",
       "text": [
        "5\n",
        "<DefaultDict {1: 1, 2: 2}>\n"
       ]
      }
     ],
     "prompt_number": 32
    },
    {
     "cell_type": "markdown",
     "metadata": {},
     "source": [
      "## Other Magic Methods\n",
      "\n",
      "- Comparison override (`__lt__`, `__gt__`, `__le__`, `__ge__`, `__eq__`, `__ne__`)\n",
      "- Emulating numeric types (`__add__`, `__sub__`, etc.)\n",
      "- ... more ... (full list at <http://docs.python.org/reference/datamodel.html#special-method-names>)\n",
      "\n",
      "### Exercises\n",
      "\n",
      "- Update your phone directory to support looking up a number using the `[]` operator\n",
      "- Create two phone directories, one which throws exceptions when looking up phone numbers, and \n",
      "  a subclass that always returns the same number for unknown phone numbers."
     ]
    }
   ],
   "metadata": {}
  }
 ]
}