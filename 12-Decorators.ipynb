{
 "metadata": {
  "name": "",
  "signature": "sha256:d9642facb469c0aa0be9376d1bf43e87cd87858ce1d6955c31aaddc83d882de1"
 },
 "nbformat": 3,
 "nbformat_minor": 0,
 "worksheets": [
  {
   "cells": [
    {
     "cell_type": "markdown",
     "metadata": {},
     "source": [
      "# Decorators\n",
      "\n",
      "## Basic decorator syntax\n",
      "\n",
      "Python *decorators* allow us to modify function and class definitions with a special syntax."
     ]
    },
    {
     "cell_type": "code",
     "collapsed": false,
     "input": [
      "def log_function_call(function):\n",
      "    def wrapper(*args, **kwargs):\n",
      "        print 'Calling %s(*%r, **%r)' % (function, args, kwargs)\n",
      "        return function(*args, **kwargs)\n",
      "    print 'returning wrapped %s' % function\n",
      "    return wrapper\n",
      "\n",
      "def myfunction(a, b):\n",
      "    print 'myfunction(%r, %r)' % (a,b)\n",
      "    \n",
      "myfunction = log_function_call(myfunction)"
     ],
     "language": "python",
     "metadata": {},
     "outputs": [
      {
       "output_type": "stream",
       "stream": "stdout",
       "text": [
        "returning wrapped <function myfunction at 0x1de9410>\n"
       ]
      }
     ],
     "prompt_number": 1
    },
    {
     "cell_type": "code",
     "collapsed": false,
     "input": [
      "print myfunction"
     ],
     "language": "python",
     "metadata": {},
     "outputs": [
      {
       "output_type": "stream",
       "stream": "stdout",
       "text": [
        "<function wrapper at 0x1de9500>\n"
       ]
      }
     ],
     "prompt_number": 2
    },
    {
     "cell_type": "code",
     "collapsed": false,
     "input": [
      "myfunction('avalue', 'bvalue')"
     ],
     "language": "python",
     "metadata": {},
     "outputs": [
      {
       "output_type": "stream",
       "stream": "stdout",
       "text": [
        "Calling <function myfunction at 0x1de9410>(*('avalue', 'bvalue'), **{})\n",
        "myfunction('avalue', 'bvalue')\n"
       ]
      }
     ],
     "prompt_number": 3
    },
    {
     "cell_type": "markdown",
     "metadata": {},
     "source": [
      "A nicer syntax for this uses the `@` sign:"
     ]
    },
    {
     "cell_type": "code",
     "collapsed": false,
     "input": [
      "@log_function_call\n",
      "def myfunction(a,b):\n",
      "    print 'myfunction(%r, %r)' % (a,b)\n",
      "   \n",
      "myfunction('avalue', 'bvalue')"
     ],
     "language": "python",
     "metadata": {},
     "outputs": [
      {
       "output_type": "stream",
       "stream": "stdout",
       "text": [
        "returning wrapped <function myfunction at 0x1de9500>\n",
        "Calling <function myfunction at 0x1de9500>(*('avalue', 'bvalue'), **{})\n",
        "myfunction('avalue', 'bvalue')\n"
       ]
      }
     ],
     "prompt_number": 5
    },
    {
     "cell_type": "markdown",
     "metadata": {},
     "source": [
      "We can also decorate class definitions:"
     ]
    },
    {
     "cell_type": "code",
     "collapsed": false,
     "input": [
      "def add_myproperty(cls):\n",
      "    cls.myproperty = 'Magically added by decorator'\n",
      "    return cls\n",
      "\n",
      "@add_myproperty\n",
      "class MyClass(object):\n",
      "    def __init__(self, a, b):\n",
      "        self._a = a\n",
      "        self._b = b\n",
      "    def __repr__(self):\n",
      "        return 'MyClass(%r, %r)' % (a,b)\n",
      "    \n",
      "MyClass.myproperty"
     ],
     "language": "python",
     "metadata": {},
     "outputs": [
      {
       "metadata": {},
       "output_type": "pyout",
       "prompt_number": 8,
       "text": [
        "'Magically added by decorator'"
       ]
      }
     ],
     "prompt_number": 8
    },
    {
     "cell_type": "markdown",
     "metadata": {},
     "source": [
      "## Useful decorators"
     ]
    },
    {
     "cell_type": "code",
     "collapsed": false,
     "input": [
      "class MyClass(object):\n",
      "    @property\n",
      "    def myproperty(self):\n",
      "        print 'Calling myproperty'\n",
      "        return 'myvalue'\n",
      "    \n",
      "x = MyClass()\n",
      "print x.myproperty"
     ],
     "language": "python",
     "metadata": {},
     "outputs": [
      {
       "output_type": "stream",
       "stream": "stdout",
       "text": [
        "Calling myproperty\n",
        "myvalue\n"
       ]
      }
     ],
     "prompt_number": 9
    },
    {
     "cell_type": "code",
     "collapsed": false,
     "input": [
      "class MyClass(object):\n",
      "\n",
      "    def __init__(self):\n",
      "        self._value = None\n",
      "        \n",
      "    @property\n",
      "    def myproperty(self):\n",
      "        print 'Getting myproperty'\n",
      "        return self._value\n",
      "        \n",
      "    @myproperty.setter\n",
      "    def myproperty(self, value):\n",
      "        print 'Setting myproperty'\n",
      "        self._value = value\n",
      "        \n",
      "    \n",
      "x = MyClass()\n",
      "print x.myproperty\n",
      "print\n",
      "\n",
      "x.myproperty = 5\n",
      "print x.myproperty"
     ],
     "language": "python",
     "metadata": {},
     "outputs": [
      {
       "output_type": "stream",
       "stream": "stdout",
       "text": [
        "Getting myproperty\n",
        "None\n",
        "\n",
        "Setting myproperty\n",
        "Getting myproperty\n",
        "5\n"
       ]
      }
     ],
     "prompt_number": 10
    },
    {
     "cell_type": "code",
     "collapsed": false,
     "input": [
      "class MyClass(object):\n",
      "    \n",
      "    def do_something_with_instance(self):\n",
      "        print 'Instance method on', self\n",
      "        \n",
      "    @classmethod\n",
      "    def do_something_with_class(cls):\n",
      "        print 'Class method on', cls\n",
      "        \n",
      "    @staticmethod\n",
      "    def do_something_without_either():\n",
      "        print 'Static method'\n",
      "        \n",
      "x = MyClass()\n",
      "x.do_something_with_instance()"
     ],
     "language": "python",
     "metadata": {},
     "outputs": [
      {
       "output_type": "stream",
       "stream": "stdout",
       "text": [
        "Instance method on <__main__.MyClass object at 0x1f43610>\n"
       ]
      }
     ],
     "prompt_number": 11
    },
    {
     "cell_type": "code",
     "collapsed": false,
     "input": [
      "x.do_something_with_class()"
     ],
     "language": "python",
     "metadata": {},
     "outputs": [
      {
       "output_type": "stream",
       "stream": "stdout",
       "text": [
        "Class method on <class '__main__.MyClass'>\n"
       ]
      }
     ],
     "prompt_number": 12
    },
    {
     "cell_type": "code",
     "collapsed": false,
     "input": [
      "MyClass.do_something_with_class()"
     ],
     "language": "python",
     "metadata": {},
     "outputs": [
      {
       "output_type": "stream",
       "stream": "stdout",
       "text": [
        "Class method on <class '__main__.MyClass'>\n"
       ]
      }
     ],
     "prompt_number": 13
    },
    {
     "cell_type": "code",
     "collapsed": false,
     "input": [
      "x.do_something_without_either()"
     ],
     "language": "python",
     "metadata": {},
     "outputs": [
      {
       "output_type": "stream",
       "stream": "stdout",
       "text": [
        "Static method\n"
       ]
      }
     ],
     "prompt_number": 14
    },
    {
     "cell_type": "code",
     "collapsed": false,
     "input": [
      "MyClass.do_something_without_either()"
     ],
     "language": "python",
     "metadata": {},
     "outputs": [
      {
       "output_type": "stream",
       "stream": "stdout",
       "text": [
        "Static method\n"
       ]
      }
     ],
     "prompt_number": 15
    },
    {
     "cell_type": "markdown",
     "metadata": {},
     "source": [
      "# Building your own decorators"
     ]
    },
    {
     "cell_type": "code",
     "collapsed": false,
     "input": [
      "def log_function_call(function):\n",
      "    def wrapper(*args, **kwargs):\n",
      "        print 'Calling %s(*%r, **%r)' % (function, args, kwargs)\n",
      "        return function(*args, **kwargs)\n",
      "    print 'returning wrapped %s' % function\n",
      "    return wrapper\n",
      "\n",
      "@log_function_call\n",
      "def myfunction(a, b):\n",
      "    print 'myfunction(%r, %r)' % (a,b)\n",
      "    \n",
      "myfunction(1,2)"
     ],
     "language": "python",
     "metadata": {},
     "outputs": [
      {
       "output_type": "stream",
       "stream": "stdout",
       "text": [
        "returning wrapped <function myfunction at 0x1de9398>\n",
        "Calling <function myfunction at 0x1de9398>(*(1, 2), **{})\n",
        "myfunction(1, 2)\n"
       ]
      }
     ],
     "prompt_number": 16
    },
    {
     "cell_type": "code",
     "collapsed": false,
     "input": [
      "def log_function_call(message):\n",
      "    def decorator(function):\n",
      "        def wrapper(*args, **kwargs):\n",
      "            print '%s: %s(*%r, **%r)' % (message, function, args, kwargs)\n",
      "            return function(*args, **kwargs)\n",
      "        print 'returning wrapped %s' % function\n",
      "        return wrapper\n",
      "    print 'returning decorator(%r)' % message\n",
      "    return decorator\n",
      "\n",
      "@log_function_call('log1')\n",
      "def myfunction(a, b):\n",
      "    'Interesting documentation'\n",
      "    print 'myfunction(%r, %r)' % (a,b)\n",
      "    \n",
      "myfunction(1,2)"
     ],
     "language": "python",
     "metadata": {},
     "outputs": [
      {
       "output_type": "stream",
       "stream": "stdout",
       "text": [
        "returning decorator('log1')\n",
        "returning wrapped <function myfunction at 0x1f47578>\n",
        "log1: <function myfunction at 0x1f47578>(*(1, 2), **{})\n",
        "myfunction(1, 2)\n"
       ]
      }
     ],
     "prompt_number": 18
    },
    {
     "cell_type": "markdown",
     "metadata": {},
     "source": [
      "To simplify things a bit, we can also use the magic `__call__` method to define a decorator\n",
      "that takes arguments:"
     ]
    },
    {
     "cell_type": "code",
     "collapsed": false,
     "input": [
      "class log_function_call(object):\n",
      "    def __init__(self, message):\n",
      "        self._message = message\n",
      "    def __call__(self, function):\n",
      "        def wrapper(*args, **kwargs):\n",
      "            print '%s: %s(*%r, **%r)' % (\n",
      "                self._message, function, args, kwargs)\n",
      "            return function(*args, **kwargs)\n",
      "        return wrapper\n",
      "    \n",
      "@log_function_call('log1')\n",
      "def myfunction(a, b):\n",
      "    print 'myfunction(%r, %r)' % (a,b)\n",
      "    \n",
      "myfunction(1,2)            "
     ],
     "language": "python",
     "metadata": {},
     "outputs": [
      {
       "output_type": "stream",
       "stream": "stdout",
       "text": [
        "log1: <function myfunction at 0x1de9488>(*(1, 2), **{})\n",
        "myfunction(1, 2)\n"
       ]
      }
     ],
     "prompt_number": 19
    },
    {
     "cell_type": "markdown",
     "metadata": {},
     "source": [
      "One useful decorator to build is one that *memoizes* function results:"
     ]
    },
    {
     "cell_type": "code",
     "collapsed": false,
     "input": [
      "def memoize(function):\n",
      "    cache = {}\n",
      "    def wrapper(*args, **kwargs):\n",
      "        cache_key = (args, tuple(sorted(kwargs.items())))\n",
      "        if cache_key in cache:\n",
      "            print '-- return cached value for', cache_key\n",
      "            return cache[cache_key]\n",
      "        result = function(*args, **kwargs)\n",
      "        cache[cache_key] = result\n",
      "        return result\n",
      "    return wrapper\n",
      "\n",
      "@memoize\n",
      "def my_function(a, b):\n",
      "    print 'Calling my_function(%r,%r)' % (a,b)\n",
      "\n",
      "my_function(1,2)\n",
      "my_function(1,2)\n",
      "my_function(1,2)\n",
      "my_function(3,4)\n",
      "my_function(5,6)"
     ],
     "language": "python",
     "metadata": {},
     "outputs": [
      {
       "output_type": "stream",
       "stream": "stdout",
       "text": [
        "Calling my_function(1,2)\n",
        "-- return cached value for ((1, 2), ())\n",
        "-- return cached value for ((1, 2), ())\n",
        "Calling my_function(3,4)\n",
        "Calling my_function(5,6)"
       ]
      }
     ],
     "prompt_number": 38
    },
    {
     "cell_type": "markdown",
     "metadata": {},
     "source": [
      "### Exercises\n",
      "\n",
      "- Write a class that uses `@property` to provide read-only access to an underlying \"private\"\n",
      "  attribute\n",
      "- Write a decorator that takes a logger and logs all entries/exits of a function\n",
      "- Write a decorator that opens a file at the beginning of a function and closes it at the end, \n",
      "  passing the opened file as the first argument of the inner function."
     ]
    }
   ],
   "metadata": {}
  }
 ]
}