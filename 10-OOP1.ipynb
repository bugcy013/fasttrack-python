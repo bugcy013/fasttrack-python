{
 "metadata": {
  "name": "10-OOP1"
 }, 
 "nbformat": 2, 
 "worksheets": [
  {
   "cells": [
    {
     "cell_type": "markdown", 
     "source": [
      "# Object-Oriented Programming", 
      "", 
      "## Basic class operations (\"glorified struct\")"
     ]
    }, 
    {
     "cell_type": "code", 
     "collapsed": false, 
     "input": [
      "class MyClass(object):", 
      "    a = 5", 
      "    b = 6", 
      "print MyClass", 
      "print MyClass.a"
     ], 
     "language": "python", 
     "outputs": [
      {
       "output_type": "stream", 
       "stream": "stdout", 
       "text": [
        "<class '__main__.MyClass'>", 
        "5"
       ]
      }
     ], 
     "prompt_number": 1
    }, 
    {
     "cell_type": "code", 
     "collapsed": false, 
     "input": [
      "obj = MyClass()", 
      "print obj.a", 
      "print obj.b"
     ], 
     "language": "python", 
     "outputs": [
      {
       "output_type": "stream", 
       "stream": "stdout", 
       "text": [
        "5", 
        "6"
       ]
      }
     ], 
     "prompt_number": 3
    }, 
    {
     "cell_type": "code", 
     "collapsed": false, 
     "input": [
      "obj.a = 'new value for a'", 
      "print obj.a"
     ], 
     "language": "python", 
     "outputs": [
      {
       "output_type": "stream", 
       "stream": "stdout", 
       "text": [
        "new value for a"
       ]
      }
     ], 
     "prompt_number": 4
    }, 
    {
     "cell_type": "code", 
     "collapsed": false, 
     "input": [
      "print MyClass.a"
     ], 
     "language": "python", 
     "outputs": [
      {
       "output_type": "stream", 
       "stream": "stdout", 
       "text": [
        "5"
       ]
      }
     ], 
     "prompt_number": 5
    }, 
    {
     "cell_type": "markdown", 
     "source": [
      "# Basic methods"
     ]
    }, 
    {
     "cell_type": "code", 
     "collapsed": false, 
     "input": [
      "class MyClass(object):", 
      "    def say(self, something):", 
      "        print 'MyClass says', something"
     ], 
     "language": "python", 
     "outputs": [], 
     "prompt_number": 9
    }, 
    {
     "cell_type": "code", 
     "collapsed": false, 
     "input": [
      "myobj = MyClass()", 
      "myobj.say('Hello')"
     ], 
     "language": "python", 
     "outputs": [
      {
       "output_type": "stream", 
       "stream": "stdout", 
       "text": [
        "MyClass says Hello"
       ]
      }
     ], 
     "prompt_number": 11
    }, 
    {
     "cell_type": "code", 
     "collapsed": false, 
     "input": [
      "# Classes can have a constructor", 
      "", 
      "class MyClass(object):", 
      "    def __init__(self, a, b):", 
      "        self.a = a", 
      "        self.b = b", 
      "        ", 
      "obj = MyClass('avalue', 'bvalue')", 
      "print obj.a"
     ], 
     "language": "python", 
     "outputs": [
      {
       "output_type": "stream", 
       "stream": "stdout", 
       "text": [
        "avalue"
       ]
      }
     ], 
     "prompt_number": 14
    }, 
    {
     "cell_type": "markdown", 
     "source": [
      "## Method access and visibility", 
      "", 
      "By convention, a single leading underscore indicates that a method or variable is ", 
      "\"protected\" and should not be modified outside the class:"
     ]
    }, 
    {
     "cell_type": "code", 
     "collapsed": false, 
     "input": [
      "class MyClass(object):", 
      "    def __init__(self, a, b):", 
      "        self._a = a", 
      "        self._b = b", 
      "    def value(self):", 
      "        return self._a, self._b", 
      "    ", 
      "obj = MyClass('avalue', 'bvalue')", 
      "print obj.value()", 
      "print obj._a"
     ], 
     "language": "python", 
     "outputs": [
      {
       "output_type": "stream", 
       "stream": "stdout", 
       "text": [
        "('avalue', 'bvalue')", 
        "avalue"
       ]
      }
     ], 
     "prompt_number": 16
    }, 
    {
     "cell_type": "markdown", 
     "source": [
      "To \"enforce\" private methods / variables, we can use a *double* leading underscore:"
     ]
    }, 
    {
     "cell_type": "code", 
     "collapsed": false, 
     "input": [
      "class MyClass(object):", 
      "    def __init__(self, a, b):", 
      "        self.__a = a", 
      "        self.__b = b", 
      "    def value(self):", 
      "        return self.__a, self.__b", 
      "        ", 
      "obj = MyClass('avalue', 'bvalue')", 
      "print obj.value()"
     ], 
     "language": "python", 
     "outputs": [
      {
       "output_type": "stream", 
       "stream": "stdout", 
       "text": [
        "('avalue', 'bvalue')"
       ]
      }
     ], 
     "prompt_number": 17
    }, 
    {
     "cell_type": "code", 
     "collapsed": false, 
     "input": [
      "print obj.__a"
     ], 
     "language": "python", 
     "outputs": [
      {
       "ename": "AttributeError", 
       "evalue": "'MyClass' object has no attribute '__a'", 
       "output_type": "pyerr", 
       "traceback": [
        "\u001b[0;31m---------------------------------------------------------------------------\u001b[0m\n\u001b[0;31mAttributeError\u001b[0m                            Traceback (most recent call last)", 
        "\u001b[0;32m/vagrant/<ipython-input-18-383b7dc3f3c4>\u001b[0m in \u001b[0;36m<module>\u001b[0;34m()\u001b[0m\n\u001b[0;32m----> 1\u001b[0;31m \u001b[0;32mprint\u001b[0m \u001b[0mobj\u001b[0m\u001b[0;34m.\u001b[0m\u001b[0m__a\u001b[0m\u001b[0;34m\u001b[0m\u001b[0m\n\u001b[0m", 
        "\u001b[0;31mAttributeError\u001b[0m: 'MyClass' object has no attribute '__a'"
       ]
      }
     ], 
     "prompt_number": 18
    }, 
    {
     "cell_type": "code", 
     "collapsed": false, 
     "input": [
      "print obj._MyClass__a"
     ], 
     "language": "python", 
     "outputs": [
      {
       "output_type": "stream", 
       "stream": "stdout", 
       "text": [
        "avalue"
       ]
      }
     ], 
     "prompt_number": 21
    }, 
    {
     "cell_type": "markdown", 
     "source": [
      "### Exercise", 
      "", 
      "Write a class to manage a telephone directory. The directory should be ", 
      "stored in a dict as an instance variable. The class should have methods", 
      "`add_number(name, number)`, `remove_number(name)`, and `lookup_number(name)`."
     ]
    }
   ]
  }
 ]
}