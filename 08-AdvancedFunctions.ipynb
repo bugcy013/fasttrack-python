{
 "metadata": {
  "name": "",
  "signature": "sha256:f5cbf06166643d0e5e4c96bdeee83bb3b77ce778d87004bcc030031548b39ae7"
 },
 "nbformat": 3,
 "nbformat_minor": 0,
 "worksheets": [
  {
   "cells": [
    {
     "cell_type": "markdown",
     "metadata": {},
     "source": [
      "# Advanced Functions\n",
      "\n",
      "We can write a function that calls another function, even itself. When a function calls itself,\n",
      "this is referred to as *recursion*:"
     ]
    },
    {
     "cell_type": "code",
     "collapsed": false,
     "input": [
      "def recursive_adder(first, *rest):\n",
      "    print 'Call recursive_adder(%r, *%r)' % (first, rest)\n",
      "    if rest:\n",
      "        return first + recursive_adder(*rest)\n",
      "    else:\n",
      "        return first\n",
      "recursive_adder(1,2,3)"
     ],
     "language": "python",
     "metadata": {},
     "outputs": [
      {
       "output_type": "stream",
       "stream": "stdout",
       "text": [
        "Call recursive_adder(1, *(2, 3))\n",
        "Call recursive_adder(2, *(3,))\n",
        "Call recursive_adder(3, *())\n"
       ]
      },
      {
       "metadata": {},
       "output_type": "pyout",
       "prompt_number": 2,
       "text": [
        "6"
       ]
      }
     ],
     "prompt_number": 2
    },
    {
     "cell_type": "markdown",
     "metadata": {},
     "source": [
      "Functions are just regular Python objects (they are so-called *first class* functions). This\n",
      "means that they can be passed as arguments to other functions or assigned variable names:"
     ]
    },
    {
     "cell_type": "code",
     "collapsed": false,
     "input": [
      "def doubler(a):\n",
      "    return a * 2\n",
      "\n",
      "def my_map(mapf, sequence):\n",
      "    result = []\n",
      "    for item in sequence:\n",
      "        result.append(mapf(item))\n",
      "    return result\n",
      "\n",
      "my_map(doubler, [1,2,3])"
     ],
     "language": "python",
     "metadata": {},
     "outputs": [
      {
       "metadata": {},
       "output_type": "pyout",
       "prompt_number": 5,
       "text": [
        "[2, 4, 6]"
       ]
      }
     ],
     "prompt_number": 5
    },
    {
     "cell_type": "markdown",
     "metadata": {},
     "source": [
      "As seen above, first class functions can be used to traverse data structures. Another common \n",
      "data structure is a tree. We can implement tree traversal functions to visit each node:"
     ]
    },
    {
     "cell_type": "code",
     "collapsed": false,
     "input": [
      "# Store the tree as nodes of (value, left, right)\n",
      "\n",
      "mytree = ('root', \n",
      "          ('child-L', (), ()), \n",
      "          ('child-R', \n",
      "           ('child-RL', (), ()),\n",
      "           ('child-RR', (), ())))\n",
      "\n",
      "def preorder_tree_map(function, node, level=0):\n",
      "    value, left, right = node\n",
      "    result = [function(level, value)]\n",
      "    if left:\n",
      "        result += preorder_tree_map(function, left, level+1)\n",
      "    if right:\n",
      "        result += preorder_tree_map(function, right, level+1)\n",
      "    return result\n",
      "    \n",
      "def print_node(level, value):\n",
      "    print ('    ' * level) + repr(value)\n",
      "    return value\n",
      "\n",
      "preorder_tree_map(print_node, mytree)"
     ],
     "language": "python",
     "metadata": {},
     "outputs": [
      {
       "output_type": "stream",
       "stream": "stdout",
       "text": [
        "'root'\n",
        "    'child-L'\n",
        "    'child-R'\n",
        "        'child-RL'\n",
        "        'child-RR'\n"
       ]
      },
      {
       "metadata": {},
       "output_type": "pyout",
       "prompt_number": 6,
       "text": [
        "['root', 'child-L', 'child-R', 'child-RL', 'child-RR']"
       ]
      }
     ],
     "prompt_number": 6
    },
    {
     "cell_type": "code",
     "collapsed": false,
     "input": [
      "def inorder_tree_map(function, node, level=0):\n",
      "    value, left, right = node\n",
      "    result = []\n",
      "    if left:\n",
      "        result += inorder_tree_map(function, left, level+1)\n",
      "    result.append(function(level, value))\n",
      "    if right:\n",
      "        result += inorder_tree_map(function, right, level+1)\n",
      "    return result\n",
      "    \n",
      "inorder_tree_map(print_node, mytree)"
     ],
     "language": "python",
     "metadata": {},
     "outputs": [
      {
       "output_type": "stream",
       "stream": "stdout",
       "text": [
        "    'child-L'\n",
        "'root'\n",
        "        'child-RL'\n",
        "    'child-R'\n",
        "        'child-RR'"
       ]
      },
      {
       "metadata": {},
       "output_type": "pyout",
       "prompt_number": 29,
       "text": [
        "['child-L', 'root', 'child-RL', 'child-R', 'child-RR']"
       ]
      }
     ],
     "prompt_number": 29
    },
    {
     "cell_type": "markdown",
     "metadata": {},
     "source": [
      "## Closures and lexical scoping"
     ]
    },
    {
     "cell_type": "code",
     "collapsed": false,
     "input": [
      "def make_adder(value):\n",
      "    def adder(other_value):\n",
      "        return value + other_value\n",
      "    return adder\n",
      "\n",
      "add5 = make_adder(5)\n",
      "print add5(10)\n",
      "\n",
      "add2 = make_adder(2)\n",
      "print add2(10)"
     ],
     "language": "python",
     "metadata": {},
     "outputs": [
      {
       "output_type": "stream",
       "stream": "stdout",
       "text": [
        "15\n",
        "12\n"
       ]
      }
     ],
     "prompt_number": 10
    },
    {
     "cell_type": "markdown",
     "metadata": {},
     "source": [
      "### Exercise\n",
      "\n",
      "- Write a function that traverses the tree above in *post*-order (recursing to the left and right \n",
      "  children *before* running the function on the node's value itself.\n",
      "- Write a version of `filter(function, sequence)` that returns the values in a sequence for which\n",
      "  `function(item)` evaluates to `True`"
     ]
    }
   ],
   "metadata": {}
  }
 ]
}