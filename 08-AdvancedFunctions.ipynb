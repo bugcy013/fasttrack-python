{
 "metadata": {
  "name": "08-AdvancedFunctions"
 }, 
 "nbformat": 2, 
 "worksheets": [
  {
   "cells": [
    {
     "cell_type": "markdown", 
     "source": [
      "# Advanced Functions", 
      "", 
      "We can write a function that calls another function, even itself. When a function calls itself,", 
      "this is referred to as *recursion*:"
     ]
    }, 
    {
     "cell_type": "code", 
     "collapsed": false, 
     "input": [
      "def recursive_adder(first, *rest):", 
      "    print 'Call recursive_adder(%r, *%r)' % (first, rest)", 
      "    if rest:", 
      "        return first + recursive_adder(*rest)", 
      "    else:", 
      "        return first", 
      "recursive_adder(1,2,3)"
     ], 
     "language": "python", 
     "outputs": [
      {
       "output_type": "stream", 
       "stream": "stdout", 
       "text": [
        "Call recursive_adder(1, *(2, 3))", 
        "Call recursive_adder(2, *(3,))", 
        "Call recursive_adder(3, *())"
       ]
      }, 
      {
       "output_type": "pyout", 
       "prompt_number": 13, 
       "text": [
        "6"
       ]
      }
     ], 
     "prompt_number": 13
    }, 
    {
     "cell_type": "markdown", 
     "source": [
      "Functions are just regular Python objects (they are so-called *first class* functions). This", 
      "means that they can be passed as arguments to other functions or assigned variable names:"
     ]
    }, 
    {
     "cell_type": "code", 
     "collapsed": false, 
     "input": [
      "def doubler(a):", 
      "    return a * 2", 
      "", 
      "def my_map(mapf, sequence):", 
      "    result = []", 
      "    for item in sequence:", 
      "        result.append(mapf(item))", 
      "    return result", 
      "", 
      "my_map(doubler, [1,2,3])"
     ], 
     "language": "python", 
     "outputs": [
      {
       "output_type": "pyout", 
       "prompt_number": 14, 
       "text": [
        "[2, 4, 6]"
       ]
      }
     ], 
     "prompt_number": 14
    }, 
    {
     "cell_type": "markdown", 
     "source": [
      "As seen above, first class functions can be used to traverse data structures. Another common ", 
      "data structure is a tree. We can implement tree traversal functions to visit each node:"
     ]
    }, 
    {
     "cell_type": "code", 
     "collapsed": false, 
     "input": [
      "# Store the tree as nodes of (value, left, right)", 
      "", 
      "mytree = ('root', ", 
      "          ('child-L', (), ()), ", 
      "          ('child-R', ", 
      "           ('child-RL', (), ()),", 
      "           ('child-RR', (), ())))", 
      "", 
      "def preorder_tree_map(function, node, level=0):", 
      "    value, left, right = node", 
      "    result = [function(level, value)]", 
      "    if left:", 
      "        result += preorder_tree_map(function, left, level+1)", 
      "    if right:", 
      "        result += preorder_tree_map(function, right, level+1)", 
      "    return result", 
      "    ", 
      "def print_node(level, value):", 
      "    print ('    ' * level) + repr(value)", 
      "    return value", 
      "", 
      "preorder_tree_map(print_node, mytree)"
     ], 
     "language": "python", 
     "outputs": [
      {
       "output_type": "stream", 
       "stream": "stdout", 
       "text": [
        "'root'", 
        "    'child-L'", 
        "    'child-R'", 
        "        'child-RL'", 
        "        'child-RR'"
       ]
      }, 
      {
       "output_type": "pyout", 
       "prompt_number": 28, 
       "text": [
        "['root', 'child-L', 'child-R', 'child-RL', 'child-RR']"
       ]
      }
     ], 
     "prompt_number": 28
    }, 
    {
     "cell_type": "code", 
     "collapsed": false, 
     "input": [
      "def inorder_tree_map(function, node, level=0):", 
      "    value, left, right = node", 
      "    result = []", 
      "    if left:", 
      "        result += inorder_tree_map(function, left, level+1)", 
      "    result.append(function(level, value))", 
      "    if right:", 
      "        result += inorder_tree_map(function, right, level+1)", 
      "    return result", 
      "    ", 
      "inorder_tree_map(print_node, mytree)"
     ], 
     "language": "python", 
     "outputs": [
      {
       "output_type": "stream", 
       "stream": "stdout", 
       "text": [
        "    'child-L'", 
        "'root'", 
        "        'child-RL'", 
        "    'child-R'", 
        "        'child-RR'"
       ]
      }, 
      {
       "output_type": "pyout", 
       "prompt_number": 29, 
       "text": [
        "['child-L', 'root', 'child-RL', 'child-R', 'child-RR']"
       ]
      }
     ], 
     "prompt_number": 29
    }, 
    {
     "cell_type": "markdown", 
     "source": [
      "### Exercise", 
      "", 
      "- Write a function that traverses the tree above in *post*-order (recursing to the left and right ", 
      "  children *before* running the function on the node's value itself.", 
      "- Write a version of `filter(function, sequence)` that returns the values in a sequence for which", 
      "  `function(item)` evaluates to `True`"
     ]
    }
   ]
  }
 ]
}