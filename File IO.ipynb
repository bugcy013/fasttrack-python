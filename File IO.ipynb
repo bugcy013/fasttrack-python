{
 "metadata": {
  "name": "File IO"
 }, 
 "nbformat": 2, 
 "worksheets": [
  {
   "cells": [
    {
     "cell_type": "markdown", 
     "source": [
      "# File I/O"
     ]
    }, 
    {
     "cell_type": "code", 
     "collapsed": false, 
     "input": [
      "fp = open('/etc/hosts')", 
      "print fp.read()", 
      "fp.close()"
     ], 
     "language": "python", 
     "outputs": [
      {
       "output_type": "stream", 
       "stream": "stdout", 
       "text": [
        "127.0.0.1\tlocalhost", 
        "127.0.1.1\tprecise64", 
        "", 
        "# The following lines are desirable for IPv6 capable hosts", 
        "::1     ip6-localhost ip6-loopback", 
        "fe00::0 ip6-localnet", 
        "ff00::0 ip6-mcastprefix", 
        "ff02::1 ip6-allnodes", 
        "ff02::2 ip6-allrouters", 
        ""
       ]
      }
     ], 
     "prompt_number": 14
    }, 
    {
     "cell_type": "code", 
     "collapsed": false, 
     "input": [
      "fp = open('/etc/hosts')", 
      "print repr(fp.read(40))", 
      "print repr(fp.read(40))", 
      "print repr(fp.read(40))", 
      "fp.close()"
     ], 
     "language": "python", 
     "outputs": [
      {
       "output_type": "stream", 
       "stream": "stdout", 
       "text": [
        "'127.0.0.1\\tlocalhost\\n127.0.1.1\\tprecise64\\n'", 
        "'\\n# The following lines are desirable for'", 
        "' IPv6 capable hosts\\n::1     ip6-localhos'"
       ]
      }
     ], 
     "prompt_number": 15
    }, 
    {
     "cell_type": "code", 
     "collapsed": false, 
     "input": [
      "fp = open('/etc/hosts')", 
      "for line in fp:", 
      "    print repr(line)", 
      "fp.close()"
     ], 
     "language": "python", 
     "outputs": [
      {
       "output_type": "stream", 
       "stream": "stdout", 
       "text": [
        "'127.0.0.1\\tlocalhost\\n'", 
        "'127.0.1.1\\tprecise64\\n'", 
        "'\\n'", 
        "'# The following lines are desirable for IPv6 capable hosts\\n'", 
        "'::1     ip6-localhost ip6-loopback\\n'", 
        "'fe00::0 ip6-localnet\\n'", 
        "'ff00::0 ip6-mcastprefix\\n'", 
        "'ff02::1 ip6-allnodes\\n'", 
        "'ff02::2 ip6-allrouters\\n'"
       ]
      }
     ], 
     "prompt_number": 16
    }, 
    {
     "cell_type": "code", 
     "collapsed": false, 
     "input": [
      "fp = open('/etc/hosts')", 
      "fp.readlines()"
     ], 
     "language": "python", 
     "outputs": [
      {
       "output_type": "pyout", 
       "prompt_number": 17, 
       "text": [
        "['127.0.0.1\\tlocalhost\\n',", 
        " '127.0.1.1\\tprecise64\\n',", 
        " '\\n',", 
        " '# The following lines are desirable for IPv6 capable hosts\\n',", 
        " '::1     ip6-localhost ip6-loopback\\n',", 
        " 'fe00::0 ip6-localnet\\n',", 
        " 'ff00::0 ip6-mcastprefix\\n',", 
        " 'ff02::1 ip6-allnodes\\n',", 
        " 'ff02::2 ip6-allrouters\\n']"
       ]
      }
     ], 
     "prompt_number": 17
    }, 
    {
     "cell_type": "code", 
     "collapsed": false, 
     "input": [
      "print fp.read()"
     ], 
     "language": "python", 
     "outputs": [
      {
       "output_type": "stream", 
       "stream": "stdout", 
       "text": [
        ""
       ]
      }
     ], 
     "prompt_number": 18
    }, 
    {
     "cell_type": "code", 
     "collapsed": false, 
     "input": [
      "fp.seek(10)", 
      "print fp.read()"
     ], 
     "language": "python", 
     "outputs": [
      {
       "output_type": "stream", 
       "stream": "stdout", 
       "text": [
        "localhost", 
        "127.0.1.1\tprecise64", 
        "", 
        "# The following lines are desirable for IPv6 capable hosts", 
        "::1     ip6-localhost ip6-loopback", 
        "fe00::0 ip6-localnet", 
        "ff00::0 ip6-mcastprefix", 
        "ff02::1 ip6-allnodes", 
        "ff02::2 ip6-allrouters", 
        ""
       ]
      }
     ], 
     "prompt_number": 20
    }, 
    {
     "cell_type": "code", 
     "collapsed": false, 
     "input": [
      "fp.tell()"
     ], 
     "language": "python", 
     "outputs": [
      {
       "output_type": "pyout", 
       "prompt_number": 21, 
       "text": [
        "224"
       ]
      }
     ], 
     "prompt_number": 21
    }, 
    {
     "cell_type": "code", 
     "collapsed": true, 
     "input": [
      "fp = open('/tmp/testfile.txt', 'w')", 
      "fp.write('abcd\\n')", 
      "fp.close()"
     ], 
     "language": "python", 
     "outputs": [], 
     "prompt_number": 22
    }, 
    {
     "cell_type": "code", 
     "collapsed": false, 
     "input": [
      "fp = open('/tmp/testfile.txt')", 
      "fp.read()"
     ], 
     "language": "python", 
     "outputs": [
      {
       "output_type": "pyout", 
       "prompt_number": 25, 
       "text": [
        "'abcd\\n'"
       ]
      }
     ], 
     "prompt_number": 25
    }, 
    {
     "cell_type": "code", 
     "collapsed": false, 
     "input": [
      "fp.write('hi')"
     ], 
     "language": "python", 
     "outputs": [
      {
       "ename": "IOError", 
       "evalue": "File not open for writing", 
       "output_type": "pyerr", 
       "traceback": [
        "\u001b[0;31m---------------------------------------------------------------------------\u001b[0m\n\u001b[0;31mIOError\u001b[0m                                   Traceback (most recent call last)", 
        "\u001b[0;32m/vagrant/<ipython-input-26-40576b043654>\u001b[0m in \u001b[0;36m<module>\u001b[0;34m()\u001b[0m\n\u001b[0;32m----> 1\u001b[0;31m \u001b[0mfp\u001b[0m\u001b[0;34m.\u001b[0m\u001b[0mwrite\u001b[0m\u001b[0;34m(\u001b[0m\u001b[0;34m'hi'\u001b[0m\u001b[0;34m)\u001b[0m\u001b[0;34m\u001b[0m\u001b[0m\n\u001b[0m", 
        "\u001b[0;31mIOError\u001b[0m: File not open for writing"
       ]
      }
     ], 
     "prompt_number": 26
    }, 
    {
     "cell_type": "code", 
     "collapsed": false, 
     "input": [
      "fp = open('/tmp/testfile.txt', 'a')", 
      "fp.write('hi\\n')", 
      "fp.close()", 
      "open('/tmp/testfile.txt').read()"
     ], 
     "language": "python", 
     "outputs": [
      {
       "output_type": "pyout", 
       "prompt_number": 28, 
       "text": [
        "'abcd\\nhi\\nhi\\n'"
       ]
      }
     ], 
     "prompt_number": 28
    }, 
    {
     "cell_type": "code", 
     "collapsed": false, 
     "input": [
      "fp = open('/tmp/testfile.txt', 'w')", 
      "fp.write('hi\\n')", 
      "fp.close()", 
      "open('/tmp/testfile.txt').read()"
     ], 
     "language": "python", 
     "outputs": [
      {
       "output_type": "pyout", 
       "prompt_number": 29, 
       "text": [
        "'hi\\n'"
       ]
      }
     ], 
     "prompt_number": 29
    }, 
    {
     "cell_type": "code", 
     "collapsed": false, 
     "input": [
      "fp = open('/tmp/testfile.txt', 'w')", 
      "fp.write('hi\\n')", 
      "fp.seek(0)", 
      "fp.read()"
     ], 
     "language": "python", 
     "outputs": [
      {
       "ename": "IOError", 
       "evalue": "File not open for reading", 
       "output_type": "pyerr", 
       "traceback": [
        "\u001b[0;31m---------------------------------------------------------------------------\u001b[0m\n\u001b[0;31mIOError\u001b[0m                                   Traceback (most recent call last)", 
        "\u001b[0;32m/vagrant/<ipython-input-31-6bf0db77664c>\u001b[0m in \u001b[0;36m<module>\u001b[0;34m()\u001b[0m\n\u001b[1;32m      2\u001b[0m \u001b[0mfp\u001b[0m\u001b[0;34m.\u001b[0m\u001b[0mwrite\u001b[0m\u001b[0;34m(\u001b[0m\u001b[0;34m'hi\\n'\u001b[0m\u001b[0;34m)\u001b[0m\u001b[0;34m\u001b[0m\u001b[0m\n\u001b[1;32m      3\u001b[0m \u001b[0mfp\u001b[0m\u001b[0;34m.\u001b[0m\u001b[0mseek\u001b[0m\u001b[0;34m(\u001b[0m\u001b[0;36m0\u001b[0m\u001b[0;34m)\u001b[0m\u001b[0;34m\u001b[0m\u001b[0m\n\u001b[0;32m----> 4\u001b[0;31m \u001b[0mfp\u001b[0m\u001b[0;34m.\u001b[0m\u001b[0mread\u001b[0m\u001b[0;34m(\u001b[0m\u001b[0;34m)\u001b[0m\u001b[0;34m\u001b[0m\u001b[0m\n\u001b[0m", 
        "\u001b[0;31mIOError\u001b[0m: File not open for reading"
       ]
      }
     ], 
     "prompt_number": 31
    }, 
    {
     "cell_type": "code", 
     "collapsed": false, 
     "input": [
      "fp = open('/tmp/testfile.txt', 'w+')", 
      "fp.write('hi\\n')", 
      "fp.seek(0)", 
      "fp.read()"
     ], 
     "language": "python", 
     "outputs": [
      {
       "output_type": "pyout", 
       "prompt_number": 40, 
       "text": [
        "'hi\\n'"
       ]
      }
     ], 
     "prompt_number": 40
    }, 
    {
     "cell_type": "code", 
     "collapsed": false, 
     "input": [
      "fp = open('/tmp/testfile.txt', 'r+')", 
      "fp.seek(2)", 
      "fp.write('there\\n')", 
      "fp.seek(0)", 
      "fp.read()"
     ], 
     "language": "python", 
     "outputs": [
      {
       "output_type": "pyout", 
       "prompt_number": 41, 
       "text": [
        "'hithere\\n'"
       ]
      }
     ], 
     "prompt_number": 41
    }, 
    {
     "cell_type": "code", 
     "collapsed": false, 
     "input": [
      "fp = open('/tmp/testfile.txt', 'a+')", 
      "fp.write('again\\n')", 
      "fp.seek(0)", 
      "fp.read()"
     ], 
     "language": "python", 
     "outputs": [
      {
       "output_type": "pyout", 
       "prompt_number": 42, 
       "text": [
        "'hithere\\nagain\\n'"
       ]
      }
     ], 
     "prompt_number": 42
    }, 
    {
     "cell_type": "markdown", 
     "source": [
      "### Exercises", 
      "", 
      "- Write a function that will print out a text file, line by line", 
      "- Enhance the function to print a line number before each line"
     ]
    }
   ]
  }
 ]
}