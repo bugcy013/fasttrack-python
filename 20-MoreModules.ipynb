{
 "metadata": {
  "name": "20-MoreModules"
 }, 
 "nbformat": 2, 
 "worksheets": [
  {
   "cells": [
    {
     "cell_type": "markdown", 
     "source": [
      "# More stdlib Modules and Builtins", 
      "", 
      "## Sorting and reversing lists"
     ]
    }, 
    {
     "cell_type": "code", 
     "collapsed": false, 
     "input": [
      "lst = [ 'fast', 'track', 'to', 'python' ]", 
      "lst.sort()", 
      "lst"
     ], 
     "language": "python", 
     "outputs": [
      {
       "output_type": "pyout", 
       "prompt_number": 1, 
       "text": [
        "['fast', 'python', 'to', 'track']"
       ]
      }
     ], 
     "prompt_number": 1
    }, 
    {
     "cell_type": "code", 
     "collapsed": false, 
     "input": [
      "lst = [ 'fast', 'track', 'to', 'python' ]", 
      "print sorted(lst)", 
      "print lst"
     ], 
     "language": "python", 
     "outputs": [
      {
       "output_type": "stream", 
       "stream": "stdout", 
       "text": [
        "['fast', 'python', 'to', 'track']", 
        "['fast', 'track', 'to', 'python']"
       ]
      }
     ], 
     "prompt_number": 2
    }, 
    {
     "cell_type": "code", 
     "collapsed": false, 
     "input": [
      "class User(object):", 
      "    def __init__(self, first, last):", 
      "        self.first = first", 
      "        self.last = last", 
      "    def __repr__(self):", 
      "        return '<User %s %s>' % (self.first, self.last)", 
      "        ", 
      "users = [ User('Rick', 'Copeland'), ", 
      "          User('Stuart', 'Kerr'), ", 
      "          User('Tim', 'Allen'),", 
      "          User('Barack', 'Obama'),", 
      "          User('Mitt', 'Romney')", 
      "        ]", 
      "", 
      "print sorted(users)"
     ], 
     "language": "python", 
     "outputs": [
      {
       "output_type": "stream", 
       "stream": "stdout", 
       "text": [
        "[<User Stuart Kerr>, <User Barack Obama>, <User Rick Copeland>, <User Tim Allen>, <User Mitt Romney>]"
       ]
      }
     ], 
     "prompt_number": 3
    }, 
    {
     "cell_type": "code", 
     "collapsed": false, 
     "input": [
      "print sorted(users, key=lambda u:u.last)"
     ], 
     "language": "python", 
     "outputs": [
      {
       "output_type": "stream", 
       "stream": "stdout", 
       "text": [
        "[<User Tim Allen>, <User Rick Copeland>, <User Stuart Kerr>, <User Barack Obama>, <User Mitt Romney>]"
       ]
      }
     ], 
     "prompt_number": 4
    }, 
    {
     "cell_type": "code", 
     "collapsed": false, 
     "input": [
      "print sorted(users, key=lambda u:u.first)"
     ], 
     "language": "python", 
     "outputs": [
      {
       "output_type": "stream", 
       "stream": "stdout", 
       "text": [
        "[<User Barack Obama>, <User Mitt Romney>, <User Rick Copeland>, <User Stuart Kerr>, <User Tim Allen>]"
       ]
      }
     ], 
     "prompt_number": 5
    }, 
    {
     "cell_type": "code", 
     "collapsed": false, 
     "input": [
      "sorted_users = sorted(users, key=lambda u:(u.last, u.first))", 
      "print sorted_users"
     ], 
     "language": "python", 
     "outputs": [
      {
       "output_type": "stream", 
       "stream": "stdout", 
       "text": [
        "[<User Tim Allen>, <User Rick Copeland>, <User Stuart Kerr>, <User Barack Obama>, <User Mitt Romney>]"
       ]
      }
     ], 
     "prompt_number": 6
    }, 
    {
     "cell_type": "code", 
     "collapsed": false, 
     "input": [
      "print reversed(sorted_users)", 
      "for user in reversed(sorted_users):", 
      "    print user"
     ], 
     "language": "python", 
     "outputs": [
      {
       "output_type": "stream", 
       "stream": "stdout", 
       "text": [
        "<listreverseiterator object at 0x22a5e10>", 
        "<User Mitt Romney>", 
        "<User Barack Obama>", 
        "<User Stuart Kerr>", 
        "<User Rick Copeland>", 
        "<User Tim Allen>"
       ]
      }
     ], 
     "prompt_number": 7
    }, 
    {
     "cell_type": "code", 
     "collapsed": false, 
     "input": [
      "sorted(users, key=lambda u:(u.last, u.first), reverse=True)"
     ], 
     "language": "python", 
     "outputs": [
      {
       "output_type": "pyout", 
       "prompt_number": 8, 
       "text": [
        "[<User Mitt Romney>,", 
        " <User Barack Obama>,", 
        " <User Stuart Kerr>,", 
        " <User Rick Copeland>,", 
        " <User Tim Allen>]"
       ]
      }
     ], 
     "prompt_number": 8
    }, 
    {
     "cell_type": "markdown", 
     "source": [
      "## Treating URLs as files"
     ]
    }, 
    {
     "cell_type": "code", 
     "collapsed": false, 
     "input": [
      "import urllib2", 
      "import contextlib", 
      "with contextlib.closing(urllib2.urlopen('http://www.baidu.com/')) as fp:", 
      "    print fp.read()"
     ], 
     "language": "python", 
     "outputs": [
      {
       "output_type": "stream", 
       "stream": "stdout", 
       "text": [
        "<!doctype html><html><head><meta http-equiv=\"Content-Type\" content=\"text/html;charset=gb2312\"><title>\u00b0\u00d9\u00b6\u00c8\u00d2\u00bb\u00cf\u00c2\u00a3\u00ac\u00c4\u00e3\u00be\u00cd\u00d6\u00aa\u00b5\u00c0      </title><style>html{overflow-y:auto}body{font:12px arial;text-align:center;background:#fff}body,p,form,ul,li{margin:0;padding:0;list-style:none}body,form,#fm{position:relative}td{text-align:left}img{border:0}a{color:#00c}a:active{color:#f60}#u{color:#999;padding:4px 10px 5px 0;text-align:right}#u a{margin:0 5px}#u .reg{margin:0}#m{width:720px;margin:0 auto;}#nv a,#nv b,.btn,#lk{font-size:14px}#fm{padding-left:110px;text-align:left}input{border:0;padding:0}#nv{height:19px;font-size:16px;margin:0 0 4px;text-align:left;text-indent:137px;}.s_ipt_wr{width:418px;height:30px;display:inline-block;margin-right:5px;background:url(http://s1.bdstatic.com/r/www/img/i-1.0.0.png) no-repeat -304px 0;border:1px solid #b6b6b6;border-color:#9a9a9a #cdcdcd #cdcdcd #9a9a9a;vertical-align:top}.s_ipt{width:405px;height:22px;font:16px/22px arial;margin:5px 0 0 7px;background:#fff;outline:none;-webkit-appearance:none}.s_btn{width:95px;height:32px;padding-top:2px\\9;font-size:14px;background:#ddd url(http://s1.bdstatic.com/r/www/img/i-1.0.0.png);cursor:pointer}.s_btn_h{background-position:-100px 0}.s_btn_wr{width:97px;height:34px;display:inline-block;background:url(http://s1.bdstatic.com/r/www/img/i-1.0.0.png) no-repeat -202px 0;*position:relative;z-index:0;vertical-align:top}#lg img{vertical-align:top;margin-bottom:3px}#lk{margin:33px 0}#lk span{font:14px \"\u00cb\u00ce\u00cc\u00e5\"}#lm{height:60px}#lh{margin:16px 0 5px;word-spacing:3px}.tools{position:absolute;top:-4px;*top:10px;right:7px;}#mHolder{width:62px;position:relative;z-index:296;display:none}#mCon{height:18px;line-height:18px;position:absolute;cursor:pointer;padding:0 18px 0 0;background:url(http://s1.bdstatic.com/r/www/img/bg-1.0.0.gif) no-repeat right -134px;background-position:right -136px\\9}#mCon span{color:#00c;cursor:default;display:block}#mCon .hw{text-decoration:underline;cursor:pointer}#mMenu a{width:100%;height:100%;display:block;line-height:22px;text-indent:6px;text-decoration:none;filter:none\\9}#mMenu,#user ul{box-shadow:1px 1px 2px #ccc;-moz-box-shadow:1px 1px 2px #ccc;-webkit-box-shadow:1px 1px 2px #ccc;filter: progid:DXImageTransform.Microsoft.Shadow(Strength=2, Direction=135, Color=\"#cccccc\")\\9;}#mMenu{width:56px;border:1px solid #9b9b9b;list-style:none;position:absolute;right:27px;top:28px;display:none;background:#fff}#mMenu a:hover{background:#ebebeb}#mMenu .ln{height:1px;background:#ebebeb;overflow:hidden;font-size:1px;line-height:1px;margin-top:-1px}#cp,#cp a{color:#77c}#seth{display:none;behavior:url(#default#homepage)}#setf{display:none;}#sekj{margin-left:14px;}</style>", 
        "<script type=\"text/javascript\">function h(obj){obj.style.behavior='url(#default#homepage)';var a = obj.setHomePage('http://www.baidu.com/');}</script></head>", 
        "", 
        "<body>", 
        "", 
        "<div id=\"ie6tipcon\"></div>", 
        "", 
        "", 
        "<div id=\"u\"><a href=\"http://www.baidu.com/gaoji/preferences.html\" name=\"tj_setting\">\u00cb\u00d1\u00cb\u00f7\u00c9\u00e8\u00d6\u00c3</a>|<a href=\"https://passport.baidu.com/v2/?login&tpl=mn&u=http%3A%2F%2Fwww.baidu.com%2F\" name=\"tj_login\" id=\"lb\" onclick=\"return false;\">\u00b5\u00c7\u00c2\u00bc</a><a href=\"https://passport.baidu.com/v2/?reg&regType=1&tpl=mn&u=http%3A%2F%2Fwww.baidu.com%2F\" target=\"_blank\" name=\"tj_reg\" class=\"reg\">\u00d7\u00a2\u00b2\u00e1</a></div>", 
        "<div id=\"m\"><p id=\"lg\"><img src=\"http://www.baidu.com/img/baidu_sylogo1.gif\" width=\"270\" height=\"129\" ></p>", 
        "<p id=\"nv\"><a href=\"http://news.baidu.com\">\u00d0\u00c2&nbsp;\u00ce\u00c5</a>\u00a1\u00a1<b>\u00cd\u00f8&nbsp;\u00d2\u00b3</b>\u00a1\u00a1<a href=\"http://tieba.baidu.com\">\u00cc\u00f9&nbsp;\u00b0\u00c9</a>\u00a1\u00a1<a href=\"http://zhidao.baidu.com\">\u00d6\u00aa&nbsp;\u00b5\u00c0</a>\u00a1\u00a1<a href=\"http://mp3.baidu.com\">MP3</a>\u00a1\u00a1<a href=\"http://image.baidu.com\">\u00cd\u00bc&nbsp;\u00c6\u00ac</a>\u00a1\u00a1<a href=\"http://video.baidu.com\">\u00ca\u00d3&nbsp;\u00c6\u00b5</a>\u00a1\u00a1<a href=\"http://map.baidu.com\">\u00b5\u00d8&nbsp;\u00cd\u00bc</a></p><div id=\"fm\"><form name=\"f\" action=\"/s\"><span class=\"s_ipt_wr\"><input type=\"text\" name=\"wd\" id=\"kw\" maxlength=\"100\" class=\"s_ipt\"></span><input type=\"hidden\" name=\"rsv_bp\" value=\"0\"><input type=\"hidden\" name=\"rsv_spt\" value=\"3\"><span class=\"s_btn_wr\"><input type=\"submit\" value=\"\u00b0\u00d9\u00b6\u00c8\u00d2\u00bb\u00cf\u00c2\" id=\"su\" class=\"s_btn\" onmousedown=\"this.className='s_btn s_btn_h'\" onmouseout=\"this.className='s_btn'\"></span></form><span class=\"tools\"><span id=\"mHolder\"><div id=\"mCon\"><span>\u00ca\u00e4\u00c8\u00eb\u00b7\u00a8</span></div></span></span><ul id=\"mMenu\"><li><a href=\"#\" name=\"ime_hw\">\u00ca\u00d6\u00d0\u00b4</a></li><li><a href=\"#\" name=\"ime_py\">\u00c6\u00b4\u00d2\u00f4</a></li><li class=\"ln\"></li><li><a href=\"#\" name=\"ime_cl\">\u00b9\u00d8\u00b1\u00d5</a></li></ul></div>", 
        "<p id=\"lk\"><a href=\"http://baike.baidu.com\">\u00b0\u00d9\u00bf\u00c6</a>\u00a1\u00a1<a href=\"http://wenku.baidu.com\">\u00ce\u00c4\u00bf\u00e2</a>\u00a1\u00a1<a href=\"http://www.hao123.com\">hao123</a><span> | <a href=\"http://www.baidu.com/more/\">\u00b8\u00fc\u00b6\u00e0&gt;&gt;</a></span></p><p id=\"lm\"></p><p ><a id=\"seth\" onClick=\"h(this)\" href=\"/\" onmousedown=\"return ns_c({'fm':'behs','tab':'homepage','pos':0})\">\u00b0\u00d1\u00b0\u00d9\u00b6\u00c8\u00c9\u00e8\u00ce\u00aa\u00d6\u00f7\u00d2\u00b3</a><a id=\"setf\" href=\"http://www.baidu.com/cache/sethelp/index.html\" onmousedown=\"return ns_c({'fm':'behs','tab':'favorites','pos':0})\" target=\"_blank\">\u00b0\u00d1\u00b0\u00d9\u00b6\u00c8\u00c9\u00e8\u00ce\u00aa\u00d6\u00f7\u00d2\u00b3</a><span id=\"sekj\"><a href=\"http://www.baidu.com/search/baidukuijie_mp.html\" target=\"_blank\" onmousedown=\"return ns_c({'fm':'behs','tab':'kuaijie','pos':1})\">\u00b0\u00d1\u00b0\u00d9\u00b6\u00c8\u00cc\u00ed\u00bc\u00d3\u00b5\u00bd\u00d7\u00c0\u00c3\u00e6</a></span></p>", 
        "<p id=\"lh\"><a href=\"http://e.baidu.com/?refer=888\">\u00bc\u00d3\u00c8\u00eb\u00b0\u00d9\u00b6\u00c8\u00cd\u00c6\u00b9\u00e3</a> | <a href=\"http://top.baidu.com\">\u00cb\u00d1\u00cb\u00f7\u00b7\u00e7\u00d4\u00c6\u00b0\u00f1</a> | <a href=\"http://home.baidu.com\">\u00b9\u00d8\u00d3\u00da\u00b0\u00d9\u00b6\u00c8</a> | <a href=\"http://ir.baidu.com\">About Baidu</a></p><p id=\"cp\">&copy;2012 Baidu <a href=\"/duty/\">\u00ca\u00b9\u00d3\u00c3\u00b0\u00d9\u00b6\u00c8\u00c7\u00b0\u00b1\u00d8\u00b6\u00c1</a> <a href=\"http://www.miibeian.gov.cn\" target=\"_blank\">\u00be\u00a9ICP\u00d6\u00a4030173\u00ba\u00c5</a> <img src=\"http://www.baidu.com/cache/global/img/gs.gif\"></p>", 
        "</div></body>", 
        "", 
        "<script>var bds={se:{},comm : {ishome : 1,sid : \"\",user : \"\",username : \"\",sugHost : \"http://suggestion.baidu.com/su\",loginAction : []}}</script><script type=\"text/javascript\" src=\"http://s1.bdstatic.com/r/www/cache/global/js/home-1.6.js\"></script><script>var bdUser = null;var w=window,d=document,n=navigator,k=d.f.wd,a=d.getElementById(\"nv\").getElementsByTagName(\"a\"),isIE=n.userAgent.indexOf(\"MSIE\")!=-1&&!window.opera;(function(){if(/q=([^&]+)/.test(location.search)){k.value=decodeURIComponent(RegExp[\"\\x241\"])}})();if(n.cookieEnabled&&!/sug?=0/.test(d.cookie)){bds.se.sug();};function addEV(o, e, f){if(w.attachEvent){o.attachEvent(\"on\" + e, f);}else if(w.addEventListener){ o.addEventListener(e, f, false);}}function G(id){return d.getElementById(id);}function ns_c(q){var p = encodeURIComponent(window.document.location.href), sQ = '', sV = '', mu='', img = window[\"BD_PS_C\" + (new Date()).getTime()] = new Image();for (v in q) {sV = q[v];sQ += v + \"=\" + sV + \"&\";} mu= \"&mu=\" + p ;img.src = \"http://nsclick.baidu.com/v.gif?pid=201&pj=www&rsv_sid=&\" + sQ + \"path=\"+p+\"&t=\"+new Date().getTime();return true;}if(/\\bbdime=[12]/.test(d.cookie)){document.write('<script src=http://s1.bdstatic.com/r/www/cache/ime/js/openime-1.0.0.js><\\/script>');}(function(){var u = G(\"u\").getElementsByTagName(\"a\"), nv = G(\"nv\").getElementsByTagName(\"a\"), lk = G(\"lk\").getElementsByTagName(\"a\"), un = \"\";var tj_nv = [\"news\",\"tieba\",\"zhidao\",\"mp3\",\"img\",\"video\",\"map\"];var tj_lk = [\"baike\",\"wenku\",\"hao123\",\"more\"];un = bds.comm.user == \"\" ? \"\" : bds.comm.user;function _addTJ(obj){addEV(obj, \"mousedown\", function(e){var e = e || window.event;var target = e.target || e.srcElement;ns_c({'fm':'behs','tab':target.name||'tj_user','un':encodeURIComponent(un)});});}for(var i = 0; i < u.length; i++){_addTJ(u[i]);}for(var i = 0; i < nv.length; i++){nv[i].name = 'tj_' + tj_nv[i];}for(var i = 0; i < lk.length; i++){lk[i].name = 'tj_' + tj_lk[i];}})();(function() {var links = {'tj_news':   ['word', 'http://news.baidu.com/ns?tn=news&cl=2&rn=20&ct=1&ie=utf-8'],'tj_tieba':  ['kw', 'http://tieba.baidu.com/f?ie=utf-8'],'tj_zhidao': ['word', 'http://zhidao.baidu.com/search?pn=0&rn=10&lm=0'],'tj_mp3':    ['word', 'http://mp3.baidu.com/m?f=ms&tn=baidump3&ct=134217728&rn=&lm=-1&pn=30&ie=utf-8'],'tj_img':    ['word', 'http://image.baidu.com/i?ct=201326592&cl=2&nc=1&lm=-1&st=-1&tn=baiduimage&istype=2&fm=&pv=&z=0&ie=utf-8'],'tj_video':  ['word', 'http://video.baidu.com/v?ct=301989888&s=25&ie=utf-8'],'tj_map':    ['wd', 'http://map.baidu.com/?newmap=1&ie=utf-8&s=s'],'tj_baike':  ['word', 'http://baike.baidu.com/search/word?pic=1&sug=1&enc=utf8'],'tj_wenku':  ['word', 'http://wenku.baidu.com/search?ie=utf-8']};var domArr = [G('nv'), G('lk')],kw = G('kw');for (var i = 0, l = domArr.length; i < l;  i++) {domArr[i].onmousedown = function(e) {e = e || window.event;var target = e.target || e.srcElement,name = target.getAttribute('name'),items = links[name],reg = new RegExp('^\\\\s+|\\\\s+\\x24'),key = kw.value.replace(reg, '');if (items) {if (key.length > 0) {var wd = items[0], url = items[1],url = url + ( name === 'tj_map' ? encodeURIComponent('&' + wd + '=' + key)  : ( ( url.indexOf('?') > 0 ? '&' : '?' ) + wd + '=' + encodeURIComponent(key)  ) );target.href = url;} else {target.href = target.href.match(new RegExp('^http://.+\\\\.baidu\\\\.com'))[0];}}name && ns_c({'fm': 'behs','tab': name,'query': encodeURIComponent(key),'un': encodeURIComponent(bds.comm.user || '')    });};}})();addEV(w,\"load\",function(){k.focus()});w.onunload=function(){};</script><script type=\"text/javascript\" src=\"http://s1.bdstatic.com/r/www/cache/global/js/tangram-1.3.4c1.0.js\"></script><script type=\"text/javascript\" src=\"http://s1.bdstatic.com/r/www/cache/user/js/u-1.3.4.js\"></script><!--[if IE 6]><![endif]-->", 
        "", 
        "", 
        "", 
        "</html>", 
        "", 
        "", 
        "", 
        "<!--c35a3a95824fd856-->"
       ]
      }
     ], 
     "prompt_number": 9
    }, 
    {
     "cell_type": "markdown", 
     "source": [
      "## Serialization and deserialization", 
      "", 
      "### Python native \"pickle\""
     ]
    }, 
    {
     "cell_type": "code", 
     "collapsed": false, 
     "input": [
      "import pickle", 
      "d = {'foo': [ 1,2,3], 'bar': (1+2j), 'baz': (1,2) }", 
      "d_pickle = pickle.dumps(d)", 
      "d_pickle"
     ], 
     "language": "python", 
     "outputs": [
      {
       "output_type": "pyout", 
       "prompt_number": 10, 
       "text": [
        "\"(dp0\\nS'baz'\\np1\\n(I1\\nI2\\ntp2\\nsS'foo'\\np3\\n(lp4\\nI1\\naI2\\naI3\\nasS'bar'\\np5\\nc__builtin__\\ncomplex\\np6\\n(F1.0\\nF2.0\\ntp7\\nRp8\\ns.\""
       ]
      }
     ], 
     "prompt_number": 10
    }, 
    {
     "cell_type": "code", 
     "collapsed": false, 
     "input": [
      "d_unpickle = pickle.loads(d_pickle)", 
      "d_unpickle"
     ], 
     "language": "python", 
     "outputs": [
      {
       "output_type": "pyout", 
       "prompt_number": 11, 
       "text": [
        "{'bar': (1+2j), 'baz': (1, 2), 'foo': [1, 2, 3]}"
       ]
      }
     ], 
     "prompt_number": 11
    }, 
    {
     "cell_type": "markdown", 
     "source": [
      "### JSON"
     ]
    }, 
    {
     "cell_type": "code", 
     "collapsed": false, 
     "input": [
      "import json", 
      "d = {'foo': [ 1,2,3], 'bar': 'This is bar', 'baz': {1:2} }", 
      "d_json = json.dumps(d)", 
      "d_json"
     ], 
     "language": "python", 
     "outputs": [
      {
       "output_type": "pyout", 
       "prompt_number": 12, 
       "text": [
        "'{\"baz\": {\"1\": 2}, \"foo\": [1, 2, 3], \"bar\": \"This is bar\"}'"
       ]
      }
     ], 
     "prompt_number": 12
    }, 
    {
     "cell_type": "code", 
     "collapsed": false, 
     "input": [
      "json.loads(d_json)"
     ], 
     "language": "python", 
     "outputs": [
      {
       "output_type": "pyout", 
       "prompt_number": 13, 
       "text": [
        "{u'bar': u'This is bar', u'baz': {u'1': 2}, u'foo': [1, 2, 3]}"
       ]
      }
     ], 
     "prompt_number": 13
    }, 
    {
     "cell_type": "markdown", 
     "source": [
      "### Comma-separated value (CSV)"
     ]
    }, 
    {
     "cell_type": "code", 
     "collapsed": true, 
     "input": [
      "from StringIO import StringIO", 
      "import csv"
     ], 
     "language": "python", 
     "outputs": [], 
     "prompt_number": 14
    }, 
    {
     "cell_type": "code", 
     "collapsed": true, 
     "input": [
      "fp = StringIO()", 
      "writer = csv.writer(fp)", 
      "writer.writerow([1,2,3,4,5,6])", 
      "writer.writerow(['this', 'is', 'comma', 'separated value,'])", 
      "writer.writerow(['and', 'this', 'can', 'be', 'read', 'by', 'excel'])"
     ], 
     "language": "python", 
     "outputs": [], 
     "prompt_number": 15
    }, 
    {
     "cell_type": "code", 
     "collapsed": false, 
     "input": [
      "print fp.getvalue()"
     ], 
     "language": "python", 
     "outputs": [
      {
       "output_type": "stream", 
       "stream": "stdout", 
       "text": [
        "1,2,3,4,5,6", 
        "this,is,comma,\"separated value,\"", 
        "and,this,can,be,read,by,excel", 
        ""
       ]
      }
     ], 
     "prompt_number": 16
    }, 
    {
     "cell_type": "code", 
     "collapsed": false, 
     "input": [
      "fp.seek(0)", 
      "reader = csv.reader(fp)", 
      "for row in reader:", 
      "    print row"
     ], 
     "language": "python", 
     "outputs": [
      {
       "output_type": "stream", 
       "stream": "stdout", 
       "text": [
        "['1', '2', '3', '4', '5', '6']", 
        "['this', 'is', 'comma', 'separated value,']", 
        "['and', 'this', 'can', 'be', 'read', 'by', 'excel']"
       ]
      }
     ], 
     "prompt_number": 17
    }, 
    {
     "cell_type": "markdown", 
     "source": [
      "## Filename matching"
     ]
    }, 
    {
     "cell_type": "code", 
     "collapsed": false, 
     "input": [
      "import glob", 
      "glob.glob('*.ipynb')"
     ], 
     "language": "python", 
     "outputs": [
      {
       "output_type": "pyout", 
       "prompt_number": 18, 
       "text": [
        "['01-BasicPythonSyntax.ipynb',", 
        " '02-Builtins.ipynb',", 
        " '03-FileIO.ipynb',", 
        " '04-UsingModules.ipynb',", 
        " '05-Strings.ipynb',", 
        " '06-Regex.ipynb',", 
        " '07-Functions.ipynb',", 
        " '08-AdvancedFunctions.ipynb',", 
        " '09-Logging.ipynb',", 
        " '10-OOP1.ipynb',", 
        " '11-OOP2.ipynb',", 
        " '12-Decorators.ipynb',", 
        " '13-GeneratorsAndIterators.ipynb',", 
        " '14-ContextManagers.ipynb',", 
        " '17-Subprocess.ipynb',", 
        " '20-MoreModules.ipynb']"
       ]
      }
     ], 
     "prompt_number": 18
    }, 
    {
     "cell_type": "markdown", 
     "source": [
      "## Print \"pretty\" output"
     ]
    }, 
    {
     "cell_type": "code", 
     "collapsed": true, 
     "input": [
      "import pprint"
     ], 
     "language": "python", 
     "outputs": [], 
     "prompt_number": 19
    }, 
    {
     "cell_type": "code", 
     "collapsed": false, 
     "input": [
      "x = [{'baz': {1: (2,x)}, 'foo': [1, 2, 3], 'bar': 'This is bar'}", 
      "     for x in range(10) ]", 
      "print x"
     ], 
     "language": "python", 
     "outputs": [
      {
       "output_type": "stream", 
       "stream": "stdout", 
       "text": [
        "[{'bar': 'This is bar', 'foo': [1, 2, 3], 'baz': {1: (2, 0)}}, {'bar': 'This is bar', 'foo': [1, 2, 3], 'baz': {1: (2, 1)}}, {'bar': 'This is bar', 'foo': [1, 2, 3], 'baz': {1: (2, 2)}}, {'bar': 'This is bar', 'foo': [1, 2, 3], 'baz': {1: (2, 3)}}, {'bar': 'This is bar', 'foo': [1, 2, 3], 'baz': {1: (2, 4)}}, {'bar': 'This is bar', 'foo': [1, 2, 3], 'baz': {1: (2, 5)}}, {'bar': 'This is bar', 'foo': [1, 2, 3], 'baz': {1: (2, 6)}}, {'bar': 'This is bar', 'foo': [1, 2, 3], 'baz': {1: (2, 7)}}, {'bar': 'This is bar', 'foo': [1, 2, 3], 'baz': {1: (2, 8)}}, {'bar': 'This is bar', 'foo': [1, 2, 3], 'baz': {1: (2, 9)}}]"
       ]
      }
     ], 
     "prompt_number": 20
    }, 
    {
     "cell_type": "code", 
     "collapsed": false, 
     "input": [
      "pprint.pprint(x)"
     ], 
     "language": "python", 
     "outputs": [
      {
       "output_type": "stream", 
       "stream": "stdout", 
       "text": [
        "[{'bar': 'This is bar', 'baz': {1: (2, 0)}, 'foo': [1, 2, 3]},", 
        " {'bar': 'This is bar', 'baz': {1: (2, 1)}, 'foo': [1, 2, 3]},", 
        " {'bar': 'This is bar', 'baz': {1: (2, 2)}, 'foo': [1, 2, 3]},", 
        " {'bar': 'This is bar', 'baz': {1: (2, 3)}, 'foo': [1, 2, 3]},", 
        " {'bar': 'This is bar', 'baz': {1: (2, 4)}, 'foo': [1, 2, 3]},", 
        " {'bar': 'This is bar', 'baz': {1: (2, 5)}, 'foo': [1, 2, 3]},", 
        " {'bar': 'This is bar', 'baz': {1: (2, 6)}, 'foo': [1, 2, 3]},", 
        " {'bar': 'This is bar', 'baz': {1: (2, 7)}, 'foo': [1, 2, 3]},", 
        " {'bar': 'This is bar', 'baz': {1: (2, 8)}, 'foo': [1, 2, 3]},", 
        " {'bar': 'This is bar', 'baz': {1: (2, 9)}, 'foo': [1, 2, 3]}]"
       ]
      }
     ], 
     "prompt_number": 21
    }, 
    {
     "cell_type": "code", 
     "collapsed": false, 
     "input": [
      "print 'x is \\n%s' % pprint.pformat(x)"
     ], 
     "language": "python", 
     "outputs": [
      {
       "output_type": "stream", 
       "stream": "stdout", 
       "text": [
        "x is ", 
        "[{'bar': 'This is bar', 'baz': {1: (2, 0)}, 'foo': [1, 2, 3]},", 
        " {'bar': 'This is bar', 'baz': {1: (2, 1)}, 'foo': [1, 2, 3]},", 
        " {'bar': 'This is bar', 'baz': {1: (2, 2)}, 'foo': [1, 2, 3]},", 
        " {'bar': 'This is bar', 'baz': {1: (2, 3)}, 'foo': [1, 2, 3]},", 
        " {'bar': 'This is bar', 'baz': {1: (2, 4)}, 'foo': [1, 2, 3]},", 
        " {'bar': 'This is bar', 'baz': {1: (2, 5)}, 'foo': [1, 2, 3]},", 
        " {'bar': 'This is bar', 'baz': {1: (2, 6)}, 'foo': [1, 2, 3]},", 
        " {'bar': 'This is bar', 'baz': {1: (2, 7)}, 'foo': [1, 2, 3]},", 
        " {'bar': 'This is bar', 'baz': {1: (2, 8)}, 'foo': [1, 2, 3]},", 
        " {'bar': 'This is bar', 'baz': {1: (2, 9)}, 'foo': [1, 2, 3]}]"
       ]
      }
     ], 
     "prompt_number": 22
    }, 
    {
     "cell_type": "markdown", 
     "source": [
      "## random numbers"
     ]
    }, 
    {
     "cell_type": "code", 
     "collapsed": true, 
     "input": [
      "import random"
     ], 
     "language": "python", 
     "outputs": [], 
     "prompt_number": 23
    }, 
    {
     "cell_type": "code", 
     "collapsed": false, 
     "input": [
      "random.random()"
     ], 
     "language": "python", 
     "outputs": [
      {
       "output_type": "pyout", 
       "prompt_number": 24, 
       "text": [
        "0.6208437699012457"
       ]
      }
     ], 
     "prompt_number": 24
    }, 
    {
     "cell_type": "code", 
     "collapsed": false, 
     "input": [
      "random.randint(1, 100)"
     ], 
     "language": "python", 
     "outputs": [
      {
       "output_type": "pyout", 
       "prompt_number": 25, 
       "text": [
        "10"
       ]
      }
     ], 
     "prompt_number": 25
    }, 
    {
     "cell_type": "code", 
     "collapsed": false, 
     "input": [
      "x = range(10)", 
      "random.shuffle(x)", 
      "x"
     ], 
     "language": "python", 
     "outputs": [
      {
       "output_type": "pyout", 
       "prompt_number": 26, 
       "text": [
        "[5, 6, 9, 1, 0, 3, 7, 8, 4, 2]"
       ]
      }
     ], 
     "prompt_number": 26
    }
   ]
  }
 ]
}