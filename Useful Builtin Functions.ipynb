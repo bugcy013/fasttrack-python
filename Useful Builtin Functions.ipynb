{
 "metadata": {
  "name": "Useful Builtin Functions"
 }, 
 "nbformat": 2, 
 "worksheets": [
  {
   "cells": [
    {
     "cell_type": "markdown", 
     "source": [
      "# Useful Builtins", 
      "", 
      "## `zip`"
     ]
    }, 
    {
     "cell_type": "code", 
     "collapsed": false, 
     "input": [
      "zip([1,2,3], ['a', 'b', 'c'])"
     ], 
     "language": "python", 
     "outputs": [
      {
       "output_type": "pyout", 
       "prompt_number": 1, 
       "text": [
        "[(1, 'a'), (2, 'b'), (3, 'c')]"
       ]
      }
     ], 
     "prompt_number": 1
    }, 
    {
     "cell_type": "code", 
     "collapsed": true, 
     "input": [
      "x = [[ 1, 2, 3 ],", 
      "     [ 4, 5, 6 ],", 
      "     [ 7, 8, 9 ] ]"
     ], 
     "language": "python", 
     "outputs": [], 
     "prompt_number": 3
    }, 
    {
     "cell_type": "code", 
     "collapsed": false, 
     "input": [
      "zip(x[0], x[1], x[2])"
     ], 
     "language": "python", 
     "outputs": [
      {
       "output_type": "pyout", 
       "prompt_number": 5, 
       "text": [
        "[(1, 4, 7), (2, 5, 8), (3, 6, 9)]"
       ]
      }
     ], 
     "prompt_number": 5
    }, 
    {
     "cell_type": "code", 
     "collapsed": false, 
     "input": [
      "zip(*x)"
     ], 
     "language": "python", 
     "outputs": [
      {
       "output_type": "pyout", 
       "prompt_number": 6, 
       "text": [
        "[(1, 4, 7), (2, 5, 8), (3, 6, 9)]"
       ]
      }
     ], 
     "prompt_number": 6
    }, 
    {
     "cell_type": "markdown", 
     "source": [
      "## `enumerate`"
     ]
    }, 
    {
     "cell_type": "code", 
     "collapsed": true, 
     "input": [
      "lst = [ 'foo', 'bar', 'baz' ]"
     ], 
     "language": "python", 
     "outputs": [], 
     "prompt_number": 7
    }, 
    {
     "cell_type": "code", 
     "collapsed": false, 
     "input": [
      "# Don't do this:", 
      "for x in range(len(lst)):", 
      "    print x, lst[x]"
     ], 
     "language": "python", 
     "outputs": [
      {
       "output_type": "stream", 
       "stream": "stdout", 
       "text": [
        "0 foo", 
        "1 bar", 
        "2 baz"
       ]
      }
     ], 
     "prompt_number": 8
    }, 
    {
     "cell_type": "code", 
     "collapsed": false, 
     "input": [
      "# Do this instead:", 
      "for index, x in enumerate(lst):", 
      "    print index, x"
     ], 
     "language": "python", 
     "outputs": [
      {
       "output_type": "stream", 
       "stream": "stdout", 
       "text": [
        "0 foo", 
        "1 bar", 
        "2 baz"
       ]
      }
     ], 
     "prompt_number": 11
    }, 
    {
     "cell_type": "markdown", 
     "source": [
      "## `eval`"
     ]
    }, 
    {
     "cell_type": "code", 
     "collapsed": false, 
     "input": [
      "eval('5+5')"
     ], 
     "language": "python", 
     "outputs": [
      {
       "output_type": "pyout", 
       "prompt_number": 18, 
       "text": [
        "10"
       ]
      }
     ], 
     "prompt_number": 18
    }, 
    {
     "cell_type": "code", 
     "collapsed": false, 
     "input": [
      "x = [1,2,3]", 
      "r_x = repr(x)", 
      "eval(r_x)"
     ], 
     "language": "python", 
     "outputs": [
      {
       "output_type": "pyout", 
       "prompt_number": 19, 
       "text": [
        "[1, 2, 3]"
       ]
      }
     ], 
     "prompt_number": 19
    }, 
    {
     "cell_type": "markdown", 
     "source": [
      "## `dir`"
     ]
    }, 
    {
     "cell_type": "code", 
     "collapsed": false, 
     "input": [
      "x = 5", 
      "dir(x)"
     ], 
     "language": "python", 
     "outputs": [
      {
       "output_type": "pyout", 
       "prompt_number": 23, 
       "text": [
        "['__abs__',", 
        " '__add__',", 
        " '__and__',", 
        " '__class__',", 
        " '__cmp__',", 
        " '__coerce__',", 
        " '__delattr__',", 
        " '__div__',", 
        " '__divmod__',", 
        " '__doc__',", 
        " '__float__',", 
        " '__floordiv__',", 
        " '__format__',", 
        " '__getattribute__',", 
        " '__getnewargs__',", 
        " '__hash__',", 
        " '__hex__',", 
        " '__index__',", 
        " '__init__',", 
        " '__int__',", 
        " '__invert__',", 
        " '__long__',", 
        " '__lshift__',", 
        " '__mod__',", 
        " '__mul__',", 
        " '__neg__',", 
        " '__new__',", 
        " '__nonzero__',", 
        " '__oct__',", 
        " '__or__',", 
        " '__pos__',", 
        " '__pow__',", 
        " '__radd__',", 
        " '__rand__',", 
        " '__rdiv__',", 
        " '__rdivmod__',", 
        " '__reduce__',", 
        " '__reduce_ex__',", 
        " '__repr__',", 
        " '__rfloordiv__',", 
        " '__rlshift__',", 
        " '__rmod__',", 
        " '__rmul__',", 
        " '__ror__',", 
        " '__rpow__',", 
        " '__rrshift__',", 
        " '__rshift__',", 
        " '__rsub__',", 
        " '__rtruediv__',", 
        " '__rxor__',", 
        " '__setattr__',", 
        " '__sizeof__',", 
        " '__str__',", 
        " '__sub__',", 
        " '__subclasshook__',", 
        " '__truediv__',", 
        " '__trunc__',", 
        " '__xor__',", 
        " 'bit_length',", 
        " 'conjugate',", 
        " 'denominator',", 
        " 'imag',", 
        " 'numerator',", 
        " 'real']"
       ]
      }
     ], 
     "prompt_number": 23
    }, 
    {
     "cell_type": "code", 
     "collapsed": false, 
     "input": [
      "x.bit_length()"
     ], 
     "language": "python", 
     "outputs": [
      {
       "output_type": "pyout", 
       "prompt_number": 24, 
       "text": [
        "3"
       ]
      }
     ], 
     "prompt_number": 24
    }, 
    {
     "cell_type": "code", 
     "collapsed": false, 
     "input": [
      "x = 'Foo'", 
      "dir(x)"
     ], 
     "language": "python", 
     "outputs": [
      {
       "output_type": "pyout", 
       "prompt_number": 35, 
       "text": [
        "['__add__',", 
        " '__class__',", 
        " '__contains__',", 
        " '__delattr__',", 
        " '__doc__',", 
        " '__eq__',", 
        " '__format__',", 
        " '__ge__',", 
        " '__getattribute__',", 
        " '__getitem__',", 
        " '__getnewargs__',", 
        " '__getslice__',", 
        " '__gt__',", 
        " '__hash__',", 
        " '__init__',", 
        " '__le__',", 
        " '__len__',", 
        " '__lt__',", 
        " '__mod__',", 
        " '__mul__',", 
        " '__ne__',", 
        " '__new__',", 
        " '__reduce__',", 
        " '__reduce_ex__',", 
        " '__repr__',", 
        " '__rmod__',", 
        " '__rmul__',", 
        " '__setattr__',", 
        " '__sizeof__',", 
        " '__str__',", 
        " '__subclasshook__',", 
        " '_formatter_field_name_split',", 
        " '_formatter_parser',", 
        " 'capitalize',", 
        " 'center',", 
        " 'count',", 
        " 'decode',", 
        " 'encode',", 
        " 'endswith',", 
        " 'expandtabs',", 
        " 'find',", 
        " 'format',", 
        " 'index',", 
        " 'isalnum',", 
        " 'isalpha',", 
        " 'isdigit',", 
        " 'islower',", 
        " 'isspace',", 
        " 'istitle',", 
        " 'isupper',", 
        " 'join',", 
        " 'ljust',", 
        " 'lower',", 
        " 'lstrip',", 
        " 'partition',", 
        " 'replace',", 
        " 'rfind',", 
        " 'rindex',", 
        " 'rjust',", 
        " 'rpartition',", 
        " 'rsplit',", 
        " 'rstrip',", 
        " 'split',", 
        " 'splitlines',", 
        " 'startswith',", 
        " 'strip',", 
        " 'swapcase',", 
        " 'title',", 
        " 'translate',", 
        " 'upper',", 
        " 'zfill']"
       ]
      }
     ], 
     "prompt_number": 35
    }, 
    {
     "cell_type": "code", 
     "collapsed": false, 
     "input": [
      "help(x.partition)"
     ], 
     "language": "python", 
     "outputs": [
      {
       "output_type": "stream", 
       "stream": "stdout", 
       "text": [
        "Help on built-in function partition:", 
        "", 
        "partition(...)", 
        "    S.partition(sep) -> (head, sep, tail)", 
        "    ", 
        "    Search for the separator sep in S, and return the part before it,", 
        "    the separator itself, and the part after it.  If the separator is not", 
        "    found, return S and two empty strings.", 
        ""
       ]
      }
     ], 
     "prompt_number": 37
    }, 
    {
     "cell_type": "markdown", 
     "source": [
      "## `ord` and `chr`"
     ]
    }, 
    {
     "cell_type": "code", 
     "collapsed": false, 
     "input": [
      "ord('a')"
     ], 
     "language": "python", 
     "outputs": [
      {
       "output_type": "pyout", 
       "prompt_number": 38, 
       "text": [
        "97"
       ]
      }
     ], 
     "prompt_number": 38
    }, 
    {
     "cell_type": "code", 
     "collapsed": false, 
     "input": [
      "chr(97)"
     ], 
     "language": "python", 
     "outputs": [
      {
       "output_type": "pyout", 
       "prompt_number": 39, 
       "text": [
        "'a'"
       ]
      }
     ], 
     "prompt_number": 39
    }, 
    {
     "cell_type": "markdown", 
     "source": [
      "## `map` and `filter`"
     ]
    }, 
    {
     "cell_type": "code", 
     "collapsed": false, 
     "input": [
      "x = map(ord, 'Foo')", 
      "x"
     ], 
     "language": "python", 
     "outputs": [
      {
       "output_type": "pyout", 
       "prompt_number": 41, 
       "text": [
        "[70, 111, 111]"
       ]
      }
     ], 
     "prompt_number": 41
    }, 
    {
     "cell_type": "code", 
     "collapsed": false, 
     "input": [
      "map(chr, x)"
     ], 
     "language": "python", 
     "outputs": [
      {
       "output_type": "pyout", 
       "prompt_number": 42, 
       "text": [
        "['F', 'o', 'o']"
       ]
      }
     ], 
     "prompt_number": 42
    }, 
    {
     "cell_type": "code", 
     "collapsed": false, 
     "input": [
      "def is_even(num):", 
      "    return num % 2 == 0", 
      "filter(is_even, range(10))"
     ], 
     "language": "python", 
     "outputs": [
      {
       "output_type": "pyout", 
       "prompt_number": 43, 
       "text": [
        "[0, 2, 4, 6, 8]"
       ]
      }
     ], 
     "prompt_number": 43
    }, 
    {
     "cell_type": "markdown", 
     "source": [
      "## `sum`, `max`, `min`, and `len` "
     ]
    }, 
    {
     "cell_type": "code", 
     "collapsed": false, 
     "input": [
      "sum(range(10))"
     ], 
     "language": "python", 
     "outputs": [
      {
       "output_type": "pyout", 
       "prompt_number": 44, 
       "text": [
        "45"
       ]
      }
     ], 
     "prompt_number": 44
    }, 
    {
     "cell_type": "code", 
     "collapsed": false, 
     "input": [
      "max(range(10))"
     ], 
     "language": "python", 
     "outputs": [
      {
       "output_type": "pyout", 
       "prompt_number": 45, 
       "text": [
        "9"
       ]
      }
     ], 
     "prompt_number": 45
    }, 
    {
     "cell_type": "code", 
     "collapsed": false, 
     "input": [
      "min(range(10))"
     ], 
     "language": "python", 
     "outputs": [
      {
       "output_type": "pyout", 
       "prompt_number": 46, 
       "text": [
        "0"
       ]
      }
     ], 
     "prompt_number": 46
    }, 
    {
     "cell_type": "code", 
     "collapsed": false, 
     "input": [
      "len(range(10))"
     ], 
     "language": "python", 
     "outputs": [
      {
       "output_type": "pyout", 
       "prompt_number": 47, 
       "text": [
        "10"
       ]
      }
     ], 
     "prompt_number": 47
    }, 
    {
     "cell_type": "markdown", 
     "source": [
      "## `repr`"
     ]
    }, 
    {
     "cell_type": "code", 
     "collapsed": false, 
     "input": [
      "repr(1)"
     ], 
     "language": "python", 
     "outputs": [
      {
       "output_type": "pyout", 
       "prompt_number": 48, 
       "text": [
        "'1'"
       ]
      }
     ], 
     "prompt_number": 48
    }, 
    {
     "cell_type": "code", 
     "collapsed": false, 
     "input": [
      "repr('foo')"
     ], 
     "language": "python", 
     "outputs": [
      {
       "output_type": "pyout", 
       "prompt_number": 49, 
       "text": [
        "\"'foo'\""
       ]
      }
     ], 
     "prompt_number": 49
    }, 
    {
     "cell_type": "code", 
     "collapsed": false, 
     "input": [
      "repr([1,2,4])"
     ], 
     "language": "python", 
     "outputs": [
      {
       "output_type": "pyout", 
       "prompt_number": 50, 
       "text": [
        "'[1, 2, 4]'"
       ]
      }
     ], 
     "prompt_number": 50
    }, 
    {
     "cell_type": "markdown", 
     "source": [
      "## Basic types"
     ]
    }, 
    {
     "cell_type": "code", 
     "collapsed": false, 
     "input": [
      "int('5')"
     ], 
     "language": "python", 
     "outputs": [
      {
       "output_type": "pyout", 
       "prompt_number": 51, 
       "text": [
        "5"
       ]
      }
     ], 
     "prompt_number": 51
    }, 
    {
     "cell_type": "code", 
     "collapsed": false, 
     "input": [
      "int('ff', base=16)"
     ], 
     "language": "python", 
     "outputs": [
      {
       "output_type": "pyout", 
       "prompt_number": 52, 
       "text": [
        "255"
       ]
      }
     ], 
     "prompt_number": 52
    }, 
    {
     "cell_type": "code", 
     "collapsed": false, 
     "input": [
      "float('5')"
     ], 
     "language": "python", 
     "outputs": [
      {
       "output_type": "pyout", 
       "prompt_number": 53, 
       "text": [
        "5.0"
       ]
      }
     ], 
     "prompt_number": 53
    }, 
    {
     "cell_type": "code", 
     "collapsed": false, 
     "input": [
      "float(5)"
     ], 
     "language": "python", 
     "outputs": [
      {
       "output_type": "pyout", 
       "prompt_number": 54, 
       "text": [
        "5.0"
       ]
      }
     ], 
     "prompt_number": 54
    }, 
    {
     "cell_type": "code", 
     "collapsed": false, 
     "input": [
      "list(), list([1,2,3])"
     ], 
     "language": "python", 
     "outputs": [
      {
       "output_type": "pyout", 
       "prompt_number": 57, 
       "text": [
        "([], [1, 2, 3])"
       ]
      }
     ], 
     "prompt_number": 57
    }, 
    {
     "cell_type": "code", 
     "collapsed": false, 
     "input": [
      "tuple([1,2,3])"
     ], 
     "language": "python", 
     "outputs": [
      {
       "output_type": "pyout", 
       "prompt_number": 58, 
       "text": [
        "(1, 2, 3)"
       ]
      }
     ], 
     "prompt_number": 58
    }, 
    {
     "cell_type": "code", 
     "collapsed": false, 
     "input": [
      "keys = range(4)", 
      "values = ['a', 'b', 'c', 'd']", 
      "dct = dict(zip(keys, values))", 
      "dct"
     ], 
     "language": "python", 
     "outputs": [
      {
       "output_type": "pyout", 
       "prompt_number": 61, 
       "text": [
        "{0: 'a', 1: 'b', 2: 'c', 3: 'd'}"
       ]
      }
     ], 
     "prompt_number": 61
    }, 
    {
     "cell_type": "code", 
     "collapsed": false, 
     "input": [
      "dict(foo=1, bar=2, baz=3)"
     ], 
     "language": "python", 
     "outputs": [
      {
       "output_type": "pyout", 
       "prompt_number": 62, 
       "text": [
        "{'bar': 2, 'baz': 3, 'foo': 1}"
       ]
      }
     ], 
     "prompt_number": 62
    }, 
    {
     "cell_type": "code", 
     "collapsed": false, 
     "input": [
      "unicode('abcd')"
     ], 
     "language": "python", 
     "outputs": [
      {
       "output_type": "pyout", 
       "prompt_number": 63, 
       "text": [
        "u'abcd'"
       ]
      }
     ], 
     "prompt_number": 63
    }, 
    {
     "cell_type": "code", 
     "collapsed": true, 
     "input": [], 
     "language": "python", 
     "outputs": []
    }
   ]
  }
 ]
}