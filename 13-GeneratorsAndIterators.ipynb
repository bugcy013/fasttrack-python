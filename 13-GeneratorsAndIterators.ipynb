{
 "metadata": {
  "name": "13-GeneratorsAndIterators"
 }, 
 "nbformat": 2, 
 "worksheets": [
  {
   "cells": [
    {
     "cell_type": "markdown", 
     "source": [
      "# Generators and Iterators", 
      "", 
      "## Building your own generators with `yield`"
     ]
    }, 
    {
     "cell_type": "code", 
     "collapsed": true, 
     "input": [
      "def counter(start, end):", 
      "    current = start", 
      "    while current < end:", 
      "        yield current", 
      "        current += 1"
     ], 
     "language": "python", 
     "outputs": [], 
     "prompt_number": 42
    }, 
    {
     "cell_type": "code", 
     "collapsed": false, 
     "input": [
      "counter(1, 10)"
     ], 
     "language": "python", 
     "outputs": [
      {
       "output_type": "pyout", 
       "prompt_number": 43, 
       "text": [
        "<generator object counter at 0x1c61500>"
       ]
      }
     ], 
     "prompt_number": 43
    }, 
    {
     "cell_type": "code", 
     "collapsed": false, 
     "input": [
      "x = counter(1,10)", 
      "x.next()"
     ], 
     "language": "python", 
     "outputs": [
      {
       "output_type": "pyout", 
       "prompt_number": 44, 
       "text": [
        "1"
       ]
      }
     ], 
     "prompt_number": 44
    }, 
    {
     "cell_type": "code", 
     "collapsed": false, 
     "input": [
      "x.next()"
     ], 
     "language": "python", 
     "outputs": [
      {
       "output_type": "pyout", 
       "prompt_number": 45, 
       "text": [
        "2"
       ]
      }
     ], 
     "prompt_number": 45
    }, 
    {
     "cell_type": "code", 
     "collapsed": false, 
     "input": [
      "x.next()"
     ], 
     "language": "python", 
     "outputs": [
      {
       "output_type": "pyout", 
       "prompt_number": 46, 
       "text": [
        "3"
       ]
      }
     ], 
     "prompt_number": 46
    }, 
    {
     "cell_type": "code", 
     "collapsed": false, 
     "input": [
      "x = counter(1,10)", 
      "list(x)"
     ], 
     "language": "python", 
     "outputs": [
      {
       "output_type": "pyout", 
       "prompt_number": 47, 
       "text": [
        "[1, 2, 3, 4, 5, 6, 7, 8, 9]"
       ]
      }
     ], 
     "prompt_number": 47
    }, 
    {
     "cell_type": "markdown", 
     "source": [
      "`yield` can also be used as a function, along with the `send()` method"
     ]
    }, 
    {
     "cell_type": "code", 
     "collapsed": true, 
     "input": [
      "def accumulator(start=0):", 
      "    current = start", 
      "    while True:", 
      "        current += yield(current)"
     ], 
     "language": "python", 
     "outputs": [], 
     "prompt_number": 48
    }, 
    {
     "cell_type": "code", 
     "collapsed": false, 
     "input": [
      "x = accumulator()", 
      "x.next()"
     ], 
     "language": "python", 
     "outputs": [
      {
       "output_type": "pyout", 
       "prompt_number": 49, 
       "text": [
        "0"
       ]
      }
     ], 
     "prompt_number": 49
    }, 
    {
     "cell_type": "code", 
     "collapsed": false, 
     "input": [
      "x.send(1)"
     ], 
     "language": "python", 
     "outputs": [
      {
       "output_type": "pyout", 
       "prompt_number": 50, 
       "text": [
        "1"
       ]
      }
     ], 
     "prompt_number": 50
    }, 
    {
     "cell_type": "code", 
     "collapsed": false, 
     "input": [
      "x.send(1)"
     ], 
     "language": "python", 
     "outputs": [
      {
       "output_type": "pyout", 
       "prompt_number": 51, 
       "text": [
        "2"
       ]
      }
     ], 
     "prompt_number": 51
    }, 
    {
     "cell_type": "code", 
     "collapsed": false, 
     "input": [
      "x.send(10)"
     ], 
     "language": "python", 
     "outputs": [
      {
       "output_type": "pyout", 
       "prompt_number": 52, 
       "text": [
        "12"
       ]
      }
     ], 
     "prompt_number": 52
    }, 
    {
     "cell_type": "markdown", 
     "source": [
      "## The iterator protocol", 
      "", 
      "What does `for x in sequence:` *really* do?"
     ]
    }, 
    {
     "cell_type": "code", 
     "collapsed": false, 
     "input": [
      "seq = range(4)", 
      "for x in seq: print x"
     ], 
     "language": "python", 
     "outputs": [
      {
       "output_type": "stream", 
       "stream": "stdout", 
       "text": [
        "0", 
        "1", 
        "2", 
        "3"
       ]
      }
     ], 
     "prompt_number": 53
    }, 
    {
     "cell_type": "code", 
     "collapsed": false, 
     "input": [
      "iter_seq = iter(seq)", 
      "print iter_seq"
     ], 
     "language": "python", 
     "outputs": [
      {
       "output_type": "stream", 
       "stream": "stdout", 
       "text": [
        "<listiterator object at 0x1c95ad0>"
       ]
      }
     ], 
     "prompt_number": 54
    }, 
    {
     "cell_type": "code", 
     "collapsed": false, 
     "input": [
      "iter_seq = iter(seq)", 
      "try:", 
      "    while True:", 
      "        x = iter_seq.next()", 
      "        print x", 
      "except StopIteration:", 
      "    pass"
     ], 
     "language": "python", 
     "outputs": [
      {
       "output_type": "stream", 
       "stream": "stdout", 
       "text": [
        "0", 
        "1", 
        "2", 
        "3"
       ]
      }
     ], 
     "prompt_number": 55
    }, 
    {
     "cell_type": "markdown", 
     "source": [
      "Generators are their own iterators:"
     ]
    }, 
    {
     "cell_type": "code", 
     "collapsed": false, 
     "input": [
      "print counter(0, 4)", 
      "print iter(counter(0, 4))"
     ], 
     "language": "python", 
     "outputs": [
      {
       "output_type": "stream", 
       "stream": "stdout", 
       "text": [
        "<generator object counter at 0x1c61780>", 
        "<generator object counter at 0x1c61780>"
       ]
      }
     ], 
     "prompt_number": 56
    }, 
    {
     "cell_type": "code", 
     "collapsed": false, 
     "input": [
      "for item in counter(0, 4): print item"
     ], 
     "language": "python", 
     "outputs": [
      {
       "output_type": "stream", 
       "stream": "stdout", 
       "text": [
        "0", 
        "1", 
        "2", 
        "3"
       ]
      }
     ], 
     "prompt_number": 57
    }, 
    {
     "cell_type": "markdown", 
     "source": [
      "We can also define our own iterator classes (though generators are usually more readable):"
     ]
    }, 
    {
     "cell_type": "code", 
     "collapsed": false, 
     "input": [
      "class Counter(object):", 
      "    def __init__(self, start, end):", 
      "        self._start = start", 
      "        self._end = end", 
      "    def __iter__(self):", 
      "        return CounterIterator(self._start, self._end)", 
      "    ", 
      "class CounterIterator(object):", 
      "    def __init__(self, start, end):", 
      "        self._cur = ctr._start", 
      "        self._end = ctr._end", 
      "    def next(self):", 
      "        result = self._cur", 
      "        self._cur += 1", 
      "        if result < self._end:", 
      "            return result", 
      "        else:", 
      "            raise StopIteration", 
      "", 
      "ctr = Counter(0, 5)", 
      "print list(ctr)    "
     ], 
     "language": "python", 
     "outputs": [
      {
       "output_type": "stream", 
       "stream": "stdout", 
       "text": [
        "[0, 1, 2, 3, 4]"
       ]
      }
     ], 
     "prompt_number": 58
    }, 
    {
     "cell_type": "markdown", 
     "source": [
      "## Loop comprehensions"
     ]
    }, 
    {
     "cell_type": "code", 
     "collapsed": false, 
     "input": [
      "[ x*2 for x in range(4) ]"
     ], 
     "language": "python", 
     "outputs": [
      {
       "output_type": "pyout", 
       "prompt_number": 59, 
       "text": [
        "[0, 2, 4, 6]"
       ]
      }
     ], 
     "prompt_number": 59
    }, 
    {
     "cell_type": "code", 
     "collapsed": false, 
     "input": [
      "lst = [ ]", 
      "for x in range(4):", 
      "    lst.append(x*2)", 
      "lst"
     ], 
     "language": "python", 
     "outputs": [
      {
       "output_type": "pyout", 
       "prompt_number": 67, 
       "text": [
        "[0, 2, 4, 6]"
       ]
      }
     ], 
     "prompt_number": 67
    }, 
    {
     "cell_type": "code", 
     "collapsed": false, 
     "input": [
      "[ (x,y) for x in range(4) for y in range(4) ]"
     ], 
     "language": "python", 
     "outputs": [
      {
       "output_type": "pyout", 
       "prompt_number": 60, 
       "text": [
        "[(0, 0),", 
        " (0, 1),", 
        " (0, 2),", 
        " (0, 3),", 
        " (1, 0),", 
        " (1, 1),", 
        " (1, 2),", 
        " (1, 3),", 
        " (2, 0),", 
        " (2, 1),", 
        " (2, 2),", 
        " (2, 3),", 
        " (3, 0),", 
        " (3, 1),", 
        " (3, 2),", 
        " (3, 3)]"
       ]
      }
     ], 
     "prompt_number": 60
    }, 
    {
     "cell_type": "code", 
     "collapsed": false, 
     "input": [
      "[ [ (r,c) for c in range(4) ]", 
      "  for r in range(4) ]"
     ], 
     "language": "python", 
     "outputs": [
      {
       "output_type": "pyout", 
       "prompt_number": 62, 
       "text": [
        "[[(0, 0), (0, 1), (0, 2), (0, 3)],", 
        " [(1, 0), (1, 1), (1, 2), (1, 3)],", 
        " [(2, 0), (2, 1), (2, 2), (2, 3)],", 
        " [(3, 0), (3, 1), (3, 2), (3, 3)]]"
       ]
      }
     ], 
     "prompt_number": 62
    }, 
    {
     "cell_type": "code", 
     "collapsed": false, 
     "input": [
      "[ x for x in range(10) if x % 2 == 0 ]"
     ], 
     "language": "python", 
     "outputs": [
      {
       "output_type": "pyout", 
       "prompt_number": 63, 
       "text": [
        "[0, 2, 4, 6, 8]"
       ]
      }
     ], 
     "prompt_number": 63
    }, 
    {
     "cell_type": "code", 
     "collapsed": false, 
     "input": [
      "[ x * 4", 
      "  for x in range(10) ", 
      "  if x % 2 == 0 ", 
      "  if x % 3 == 0 ]"
     ], 
     "language": "python", 
     "outputs": [
      {
       "output_type": "pyout", 
       "prompt_number": 66, 
       "text": [
        "[0, 24]"
       ]
      }
     ], 
     "prompt_number": 66
    }, 
    {
     "cell_type": "markdown", 
     "source": [
      "## Generator expressions"
     ]
    }, 
    {
     "cell_type": "code", 
     "collapsed": false, 
     "input": [
      "[ x for x in range(10) if x % 2 == 0 ]"
     ], 
     "language": "python", 
     "outputs": [
      {
       "output_type": "pyout", 
       "prompt_number": 68, 
       "text": [
        "[0, 2, 4, 6, 8]"
       ]
      }
     ], 
     "prompt_number": 68
    }, 
    {
     "cell_type": "code", 
     "collapsed": false, 
     "input": [
      "( x for x in range(10) if x % 2 == 0 )"
     ], 
     "language": "python", 
     "outputs": [
      {
       "output_type": "pyout", 
       "prompt_number": 69, 
       "text": [
        "<generator object <genexpr> at 0x1c61730>"
       ]
      }
     ], 
     "prompt_number": 69
    }, 
    {
     "cell_type": "code", 
     "collapsed": true, 
     "input": [
      "gen = ( x for x in range(10) if x % 2 == 0 )"
     ], 
     "language": "python", 
     "outputs": [], 
     "prompt_number": 70
    }, 
    {
     "cell_type": "code", 
     "collapsed": false, 
     "input": [
      "gen.next()"
     ], 
     "language": "python", 
     "outputs": [
      {
       "output_type": "pyout", 
       "prompt_number": 71, 
       "text": [
        "0"
       ]
      }
     ], 
     "prompt_number": 71
    }, 
    {
     "cell_type": "code", 
     "collapsed": false, 
     "input": [
      "gen.next()"
     ], 
     "language": "python", 
     "outputs": [
      {
       "output_type": "pyout", 
       "prompt_number": 72, 
       "text": [
        "2"
       ]
      }
     ], 
     "prompt_number": 72
    }, 
    {
     "cell_type": "code", 
     "collapsed": false, 
     "input": [
      "list(gen)"
     ], 
     "language": "python", 
     "outputs": [
      {
       "output_type": "pyout", 
       "prompt_number": 79, 
       "text": [
        "[6, 8]"
       ]
      }
     ], 
     "prompt_number": 79
    }, 
    {
     "cell_type": "markdown", 
     "source": [
      "### Exercises", 
      "", 
      "- Write a generator that will yield the nodes of a tree and their depth in post-order", 
      "- Write a loop that uses that generator to *print* the nodes of a tree in post-order"
     ]
    }
   ]
  }
 ]
}