{
 "metadata": {
  "name": "Using Modules"
 }, 
 "nbformat": 2, 
 "worksheets": [
  {
   "cells": [
    {
     "cell_type": "markdown", 
     "source": [
      "# Using Modules", 
      "", 
      "Python's basic unit of reusable code is the *module*. You can access the functions and classes ", 
      "inside a module using the `import` statement. One of the most important modules is the `sys` module:"
     ]
    }, 
    {
     "cell_type": "code", 
     "collapsed": false, 
     "input": [
      "import sys", 
      "print sys"
     ], 
     "language": "python", 
     "outputs": [
      {
       "output_type": "stream", 
       "stream": "stdout", 
       "text": [
        "<module 'sys' (built-in)>"
       ]
      }
     ], 
     "prompt_number": 89
    }, 
    {
     "cell_type": "markdown", 
     "source": [
      "The `import` statement can also be used to *alias* a module:"
     ]
    }, 
    {
     "cell_type": "code", 
     "collapsed": false, 
     "input": [
      "import sys as mysys", 
      "print mysys"
     ], 
     "language": "python", 
     "outputs": [
      {
       "output_type": "stream", 
       "stream": "stdout", 
       "text": [
        "<module 'sys' (built-in)>"
       ]
      }
     ], 
     "prompt_number": 90
    }, 
    {
     "cell_type": "markdown", 
     "source": [
      "We can also `import` one or more names from a module:"
     ]
    }, 
    {
     "cell_type": "code", 
     "collapsed": false, 
     "input": [
      "from sys import path", 
      "print path"
     ], 
     "language": "python", 
     "outputs": [
      {
       "output_type": "stream", 
       "stream": "stdout", 
       "text": [
        "['', '/usr/lib/python2.7', '/usr/lib/python2.7/plat-linux2', '/usr/lib/python2.7/lib-tk', '/usr/lib/python2.7/lib-old', '/usr/lib/python2.7/lib-dynload', '/usr/local/lib/python2.7/dist-packages', '/usr/lib/python2.7/dist-packages', '/usr/lib/pymodules/python2.7', '/usr/lib/python2.7/dist-packages/IPython/extensions']"
       ]
      }
     ], 
     "prompt_number": 91
    }, 
    {
     "cell_type": "code", 
     "collapsed": false, 
     "input": [
      "from sys import path as mypath", 
      "print mypath"
     ], 
     "language": "python", 
     "outputs": [
      {
       "output_type": "stream", 
       "stream": "stdout", 
       "text": [
        "['', '/usr/lib/python2.7', '/usr/lib/python2.7/plat-linux2', '/usr/lib/python2.7/lib-tk', '/usr/lib/python2.7/lib-old', '/usr/lib/python2.7/lib-dynload', '/usr/local/lib/python2.7/dist-packages', '/usr/lib/python2.7/dist-packages', '/usr/lib/pymodules/python2.7', '/usr/lib/python2.7/dist-packages/IPython/extensions']"
       ]
      }
     ], 
     "prompt_number": 92
    }, 
    {
     "cell_type": "markdown", 
     "source": [
      "One of Python's nicest features is its *introspection* capabilities. For instance, to get a list of ", 
      "the properties available on an object, we can use the builtin function `dir()`:"
     ]
    }, 
    {
     "cell_type": "code", 
     "collapsed": false, 
     "input": [
      "dir(sys)"
     ], 
     "language": "python", 
     "outputs": [
      {
       "output_type": "pyout", 
       "prompt_number": 93, 
       "text": [
        "['__displayhook__',", 
        " '__doc__',", 
        " '__excepthook__',", 
        " '__name__',", 
        " '__package__',", 
        " '__stderr__',", 
        " '__stdin__',", 
        " '__stdout__',", 
        " '_clear_type_cache',", 
        " '_current_frames',", 
        " '_getframe',", 
        " '_mercurial',", 
        " 'api_version',", 
        " 'argv',", 
        " 'builtin_module_names',", 
        " 'byteorder',", 
        " 'call_tracing',", 
        " 'callstats',", 
        " 'copyright',", 
        " 'displayhook',", 
        " 'dont_write_bytecode',", 
        " 'exc_clear',", 
        " 'exc_info',", 
        " 'exc_type',", 
        " 'excepthook',", 
        " 'exec_prefix',", 
        " 'executable',", 
        " 'exit',", 
        " 'exitfunc',", 
        " 'flags',", 
        " 'float_info',", 
        " 'float_repr_style',", 
        " 'getcheckinterval',", 
        " 'getdefaultencoding',", 
        " 'getdlopenflags',", 
        " 'getfilesystemencoding',", 
        " 'getprofile',", 
        " 'getrecursionlimit',", 
        " 'getrefcount',", 
        " 'getsizeof',", 
        " 'gettrace',", 
        " 'hexversion',", 
        " 'last_traceback',", 
        " 'last_type',", 
        " 'last_value',", 
        " 'long_info',", 
        " 'maxint',", 
        " 'maxsize',", 
        " 'maxunicode',", 
        " 'meta_path',", 
        " 'modules',", 
        " 'path',", 
        " 'path_hooks',", 
        " 'path_importer_cache',", 
        " 'platform',", 
        " 'prefix',", 
        " 'py3kwarning',", 
        " 'pydebug',", 
        " 'setcheckinterval',", 
        " 'setdlopenflags',", 
        " 'setprofile',", 
        " 'setrecursionlimit',", 
        " 'settrace',", 
        " 'stderr',", 
        " 'stdin',", 
        " 'stdout',", 
        " 'subversion',", 
        " 'version',", 
        " 'version_info',", 
        " 'warnoptions']"
       ]
      }
     ], 
     "prompt_number": 93
    }, 
    {
     "cell_type": "markdown", 
     "source": [
      "If we want more information about something, we can also use the `help()` builtin function:"
     ]
    }, 
    {
     "cell_type": "code", 
     "collapsed": false, 
     "input": [
      "help(sys.setprofile)"
     ], 
     "language": "python", 
     "outputs": [
      {
       "output_type": "stream", 
       "stream": "stdout", 
       "text": [
        "Help on built-in function setprofile in module sys:", 
        "", 
        "setprofile(...)", 
        "    setprofile(function)", 
        "    ", 
        "    Set the profiling function.  It will be called on each function call", 
        "    and return.  See the profiler chapter in the library manual.", 
        ""
       ]
      }
     ], 
     "prompt_number": 94
    }, 
    {
     "cell_type": "markdown", 
     "source": [
      "## The `sys` module", 
      "", 
      "`sys` contains functions and variables related to the running Python program. In particular, if you ", 
      "wish to use command-line arguments, these are accessed via `sys.argv`."
     ]
    }, 
    {
     "cell_type": "code", 
     "collapsed": false, 
     "input": [
      "print sys.argv"
     ], 
     "language": "python", 
     "outputs": [
      {
       "output_type": "stream", 
       "stream": "stdout", 
       "text": [
        "['-c', '-f', '/home/vagrant/.ipython/profile_default/security/kernel-d6b2e81a-770d-4c48-912b-a113158495af.json', \"--KernelApp.parent_appname='ipython-notebook'\", '--parent=1']"
       ]
      }
     ], 
     "prompt_number": 95
    }, 
    {
     "cell_type": "markdown", 
     "source": [
      "You can also see the exact executable file containing your Python interpreter:"
     ]
    }, 
    {
     "cell_type": "code", 
     "collapsed": false, 
     "input": [
      "print sys.executable"
     ], 
     "language": "python", 
     "outputs": [
      {
       "output_type": "stream", 
       "stream": "stdout", 
       "text": [
        "/usr/bin/python"
       ]
      }
     ], 
     "prompt_number": 96
    }, 
    {
     "cell_type": "markdown", 
     "source": [
      "Access to the standard input, output, and error streams is also through the `sys` module:"
     ]
    }, 
    {
     "cell_type": "code", 
     "collapsed": false, 
     "input": [
      "print sys.stdin, sys.stdout, sys.stderr"
     ], 
     "language": "python", 
     "outputs": [
      {
       "output_type": "stream", 
       "stream": "stdout", 
       "text": [
        "<open file '<stdin>', mode 'r' at 0x7f951289e150> <IPython.zmq.iostream.OutStream object at 0x15fe850> <IPython.zmq.iostream.OutStream object at 0x1610910>"
       ]
      }
     ], 
     "prompt_number": 97
    }, 
    {
     "cell_type": "code", 
     "collapsed": false, 
     "input": [
      "sys.stderr.write('This is written to the stderr stream\\n')"
     ], 
     "language": "python", 
     "outputs": [
      {
       "output_type": "stream", 
       "stream": "stderr", 
       "text": [
        "This is written to the stderr stream"
       ]
      }
     ], 
     "prompt_number": 98
    }, 
    {
     "cell_type": "code", 
     "collapsed": false, 
     "input": [
      "sys.stderr.write('This is written to the stdout stream\\n')"
     ], 
     "language": "python", 
     "outputs": [
      {
       "output_type": "stream", 
       "stream": "stderr", 
       "text": [
        "This is written to the stdout stream"
       ]
      }
     ], 
     "prompt_number": 99
    }, 
    {
     "cell_type": "markdown", 
     "source": [
      "The `sys.path` variable gives you access to the search path the Python interpreter uses to find", 
      "modules to `import`:"
     ]
    }, 
    {
     "cell_type": "code", 
     "collapsed": false, 
     "input": [
      "sys.path"
     ], 
     "language": "python", 
     "outputs": [
      {
       "output_type": "pyout", 
       "prompt_number": 100, 
       "text": [
        "['',", 
        " '/usr/lib/python2.7',", 
        " '/usr/lib/python2.7/plat-linux2',", 
        " '/usr/lib/python2.7/lib-tk',", 
        " '/usr/lib/python2.7/lib-old',", 
        " '/usr/lib/python2.7/lib-dynload',", 
        " '/usr/local/lib/python2.7/dist-packages',", 
        " '/usr/lib/python2.7/dist-packages',", 
        " '/usr/lib/pymodules/python2.7',", 
        " '/usr/lib/python2.7/dist-packages/IPython/extensions']"
       ]
      }
     ], 
     "prompt_number": 100
    }, 
    {
     "cell_type": "markdown", 
     "source": [
      "You can also access various constants describing your system such as the largest integer:"
     ]
    }, 
    {
     "cell_type": "code", 
     "collapsed": false, 
     "input": [
      "sys.maxint"
     ], 
     "language": "python", 
     "outputs": [
      {
       "output_type": "pyout", 
       "prompt_number": 101, 
       "text": [
        "9223372036854775807"
       ]
      }
     ], 
     "prompt_number": 101
    }, 
    {
     "cell_type": "markdown", 
     "source": [
      "## The `os` module", 
      "", 
      "Where the `sys` module gives access to information about the current Python process, the `os` ", 
      "module provides several functions for accessing low-level operating system information:"
     ]
    }, 
    {
     "cell_type": "code", 
     "collapsed": false, 
     "input": [
      "import os", 
      "dir(os)"
     ], 
     "language": "python", 
     "outputs": [
      {
       "output_type": "pyout", 
       "prompt_number": 102, 
       "text": [
        "['EX_CANTCREAT',", 
        " 'EX_CONFIG',", 
        " 'EX_DATAERR',", 
        " 'EX_IOERR',", 
        " 'EX_NOHOST',", 
        " 'EX_NOINPUT',", 
        " 'EX_NOPERM',", 
        " 'EX_NOUSER',", 
        " 'EX_OK',", 
        " 'EX_OSERR',", 
        " 'EX_OSFILE',", 
        " 'EX_PROTOCOL',", 
        " 'EX_SOFTWARE',", 
        " 'EX_TEMPFAIL',", 
        " 'EX_UNAVAILABLE',", 
        " 'EX_USAGE',", 
        " 'F_OK',", 
        " 'NGROUPS_MAX',", 
        " 'O_APPEND',", 
        " 'O_ASYNC',", 
        " 'O_CREAT',", 
        " 'O_DIRECT',", 
        " 'O_DIRECTORY',", 
        " 'O_DSYNC',", 
        " 'O_EXCL',", 
        " 'O_LARGEFILE',", 
        " 'O_NDELAY',", 
        " 'O_NOATIME',", 
        " 'O_NOCTTY',", 
        " 'O_NOFOLLOW',", 
        " 'O_NONBLOCK',", 
        " 'O_RDONLY',", 
        " 'O_RDWR',", 
        " 'O_RSYNC',", 
        " 'O_SYNC',", 
        " 'O_TRUNC',", 
        " 'O_WRONLY',", 
        " 'P_NOWAIT',", 
        " 'P_NOWAITO',", 
        " 'P_WAIT',", 
        " 'R_OK',", 
        " 'SEEK_CUR',", 
        " 'SEEK_END',", 
        " 'SEEK_SET',", 
        " 'ST_APPEND',", 
        " 'ST_MANDLOCK',", 
        " 'ST_NOATIME',", 
        " 'ST_NODEV',", 
        " 'ST_NODIRATIME',", 
        " 'ST_NOEXEC',", 
        " 'ST_NOSUID',", 
        " 'ST_RDONLY',", 
        " 'ST_RELATIME',", 
        " 'ST_SYNCHRONOUS',", 
        " 'ST_WRITE',", 
        " 'TMP_MAX',", 
        " 'UserDict',", 
        " 'WCONTINUED',", 
        " 'WCOREDUMP',", 
        " 'WEXITSTATUS',", 
        " 'WIFCONTINUED',", 
        " 'WIFEXITED',", 
        " 'WIFSIGNALED',", 
        " 'WIFSTOPPED',", 
        " 'WNOHANG',", 
        " 'WSTOPSIG',", 
        " 'WTERMSIG',", 
        " 'WUNTRACED',", 
        " 'W_OK',", 
        " 'X_OK',", 
        " '_Environ',", 
        " '__all__',", 
        " '__builtins__',", 
        " '__doc__',", 
        " '__file__',", 
        " '__name__',", 
        " '__package__',", 
        " '_copy_reg',", 
        " '_execvpe',", 
        " '_exists',", 
        " '_exit',", 
        " '_get_exports_list',", 
        " '_make_stat_result',", 
        " '_make_statvfs_result',", 
        " '_pickle_stat_result',", 
        " '_pickle_statvfs_result',", 
        " '_spawnvef',", 
        " 'abort',", 
        " 'access',", 
        " 'altsep',", 
        " 'chdir',", 
        " 'chmod',", 
        " 'chown',", 
        " 'chroot',", 
        " 'close',", 
        " 'closerange',", 
        " 'confstr',", 
        " 'confstr_names',", 
        " 'ctermid',", 
        " 'curdir',", 
        " 'defpath',", 
        " 'devnull',", 
        " 'dup',", 
        " 'dup2',", 
        " 'environ',", 
        " 'errno',", 
        " 'error',", 
        " 'execl',", 
        " 'execle',", 
        " 'execlp',", 
        " 'execlpe',", 
        " 'execv',", 
        " 'execve',", 
        " 'execvp',", 
        " 'execvpe',", 
        " 'extsep',", 
        " 'fchdir',", 
        " 'fchmod',", 
        " 'fchown',", 
        " 'fdatasync',", 
        " 'fdopen',", 
        " 'fork',", 
        " 'forkpty',", 
        " 'fpathconf',", 
        " 'fstat',", 
        " 'fstatvfs',", 
        " 'fsync',", 
        " 'ftruncate',", 
        " 'getcwd',", 
        " 'getcwdu',", 
        " 'getegid',", 
        " 'getenv',", 
        " 'geteuid',", 
        " 'getgid',", 
        " 'getgroups',", 
        " 'getloadavg',", 
        " 'getlogin',", 
        " 'getpgid',", 
        " 'getpgrp',", 
        " 'getpid',", 
        " 'getppid',", 
        " 'getresgid',", 
        " 'getresuid',", 
        " 'getsid',", 
        " 'getuid',", 
        " 'initgroups',", 
        " 'isatty',", 
        " 'kill',", 
        " 'killpg',", 
        " 'lchown',", 
        " 'linesep',", 
        " 'link',", 
        " 'listdir',", 
        " 'lseek',", 
        " 'lstat',", 
        " 'major',", 
        " 'makedev',", 
        " 'makedirs',", 
        " 'minor',", 
        " 'mkdir',", 
        " 'mkfifo',", 
        " 'mknod',", 
        " 'name',", 
        " 'nice',", 
        " 'open',", 
        " 'openpty',", 
        " 'pardir',", 
        " 'path',", 
        " 'pathconf',", 
        " 'pathconf_names',", 
        " 'pathsep',", 
        " 'pipe',", 
        " 'popen',", 
        " 'popen2',", 
        " 'popen3',", 
        " 'popen4',", 
        " 'putenv',", 
        " 'read',", 
        " 'readlink',", 
        " 'remove',", 
        " 'removedirs',", 
        " 'rename',", 
        " 'renames',", 
        " 'rmdir',", 
        " 'sep',", 
        " 'setegid',", 
        " 'seteuid',", 
        " 'setgid',", 
        " 'setgroups',", 
        " 'setpgid',", 
        " 'setpgrp',", 
        " 'setregid',", 
        " 'setresgid',", 
        " 'setresuid',", 
        " 'setreuid',", 
        " 'setsid',", 
        " 'setuid',", 
        " 'spawnl',", 
        " 'spawnle',", 
        " 'spawnlp',", 
        " 'spawnlpe',", 
        " 'spawnv',", 
        " 'spawnve',", 
        " 'spawnvp',", 
        " 'spawnvpe',", 
        " 'stat',", 
        " 'stat_float_times',", 
        " 'stat_result',", 
        " 'statvfs',", 
        " 'statvfs_result',", 
        " 'strerror',", 
        " 'symlink',", 
        " 'sys',", 
        " 'sysconf',", 
        " 'sysconf_names',", 
        " 'system',", 
        " 'tcgetpgrp',", 
        " 'tcsetpgrp',", 
        " 'tempnam',", 
        " 'times',", 
        " 'tmpfile',", 
        " 'tmpnam',", 
        " 'ttyname',", 
        " 'umask',", 
        " 'uname',", 
        " 'unlink',", 
        " 'unsetenv',", 
        " 'urandom',", 
        " 'utime',", 
        " 'wait',", 
        " 'wait3',", 
        " 'wait4',", 
        " 'waitpid',", 
        " 'walk',", 
        " 'write']"
       ]
      }
     ], 
     "prompt_number": 102
    }, 
    {
     "cell_type": "code", 
     "collapsed": false, 
     "input": [
      "os.listdir('/usr')"
     ], 
     "language": "python", 
     "outputs": [
      {
       "output_type": "pyout", 
       "prompt_number": 103, 
       "text": [
        "['include', 'src', 'local', 'lib', 'sbin', 'share', 'bin', 'games']"
       ]
      }
     ], 
     "prompt_number": 103
    }, 
    {
     "cell_type": "code", 
     "collapsed": true, 
     "input": [
      "fd = os.popen('ls -l')"
     ], 
     "language": "python", 
     "outputs": [], 
     "prompt_number": 104
    }, 
    {
     "cell_type": "code", 
     "collapsed": false, 
     "input": [
      "print fd.read()"
     ], 
     "language": "python", 
     "outputs": [
      {
       "output_type": "stream", 
       "stream": "stdout", 
       "text": [
        "total 112", 
        "-rw-r--r-- 1 vagrant vagrant 37639 Oct  5 00:16 Python Basic Syntax.ipynb", 
        "-rw-r--r-- 1 vagrant vagrant 17385 Oct  5 00:32 String Processing.ipynb", 
        "-rw-r--r-- 1 vagrant vagrant 45232 Oct  5 00:06 Using Modules.ipynb", 
        "-rw-r--r-- 1 vagrant vagrant  4008 Oct  3 03:20 Vagrantfile", 
        ""
       ]
      }
     ], 
     "prompt_number": 105
    }, 
    {
     "cell_type": "markdown", 
     "source": [
      "Besides normal modules in Python, there are also modules containing other modules. These are called", 
      "*packages*. The `os` module is such a package; inside it is the `os.path` module, used for ", 
      "manipulating filesystem pathnames:"
     ]
    }, 
    {
     "cell_type": "code", 
     "collapsed": false, 
     "input": [
      "os.path"
     ], 
     "language": "python", 
     "outputs": [
      {
       "output_type": "pyout", 
       "prompt_number": 106, 
       "text": [
        "<module 'posixpath' from '/usr/lib/python2.7/posixpath.pyc'>"
       ]
      }
     ], 
     "prompt_number": 106
    }, 
    {
     "cell_type": "code", 
     "collapsed": false, 
     "input": [
      "os.path.abspath('.')"
     ], 
     "language": "python", 
     "outputs": [
      {
       "output_type": "pyout", 
       "prompt_number": 107, 
       "text": [
        "'/vagrant'"
       ]
      }
     ], 
     "prompt_number": 107
    }, 
    {
     "cell_type": "code", 
     "collapsed": false, 
     "input": [
      "os.path.dirname(sys.executable)"
     ], 
     "language": "python", 
     "outputs": [
      {
       "output_type": "pyout", 
       "prompt_number": 108, 
       "text": [
        "'/usr/bin'"
       ]
      }
     ], 
     "prompt_number": 108
    }, 
    {
     "cell_type": "code", 
     "collapsed": false, 
     "input": [
      "os.path.basename(sys.executable)"
     ], 
     "language": "python", 
     "outputs": [
      {
       "output_type": "pyout", 
       "prompt_number": 109, 
       "text": [
        "'python'"
       ]
      }
     ], 
     "prompt_number": 109
    }, 
    {
     "cell_type": "code", 
     "collapsed": false, 
     "input": [
      "os.path.join('/usr/local', 'bin', 'foo')"
     ], 
     "language": "python", 
     "outputs": [
      {
       "output_type": "pyout", 
       "prompt_number": 110, 
       "text": [
        "'/usr/local/bin/foo'"
       ]
      }
     ], 
     "prompt_number": 110
    }, 
    {
     "cell_type": "code", 
     "collapsed": false, 
     "input": [
      "os.path.normpath('/usr/local/bin/../../bin')"
     ], 
     "language": "python", 
     "outputs": [
      {
       "output_type": "pyout", 
       "prompt_number": 111, 
       "text": [
        "'/usr/bin'"
       ]
      }
     ], 
     "prompt_number": 111
    }, 
    {
     "cell_type": "code", 
     "collapsed": false, 
     "input": [
      "os.path.expanduser('~')"
     ], 
     "language": "python", 
     "outputs": [
      {
       "output_type": "pyout", 
       "prompt_number": 112, 
       "text": [
        "'/home/vagrant'"
       ]
      }
     ], 
     "prompt_number": 112
    }, 
    {
     "cell_type": "code", 
     "collapsed": false, 
     "input": [
      "os.path.expandvars('$HOME')"
     ], 
     "language": "python", 
     "outputs": [
      {
       "output_type": "pyout", 
       "prompt_number": 113, 
       "text": [
        "'/home/vagrant'"
       ]
      }
     ], 
     "prompt_number": 113
    }, 
    {
     "cell_type": "markdown", 
     "source": [
      "In the `os` module, `os.path` is always available. This is not always the case. In some cases, you must", 
      "import a submodule directly using a dotted import notation. (In the case of `os.path`, this is not ", 
      "necessary, but it will serve for illustration:"
     ]
    }, 
    {
     "cell_type": "code", 
     "collapsed": true, 
     "input": [
      "import os.path"
     ], 
     "language": "python", 
     "outputs": [], 
     "prompt_number": 114
    }, 
    {
     "cell_type": "markdown", 
     "source": [
      "## The `math` module", 
      "", 
      "Although simple arithmetic operations are supported by Python's syntax, whenever you need to perform", 
      "more complex math, you'll need to `import` the `math` module:"
     ]
    }, 
    {
     "cell_type": "code", 
     "collapsed": false, 
     "input": [
      "import math", 
      "help(math)"
     ], 
     "language": "python", 
     "outputs": [
      {
       "output_type": "stream", 
       "stream": "stdout", 
       "text": [
        "Help on built-in module math:", 
        "", 
        "NAME", 
        "    math", 
        "", 
        "FILE", 
        "    (built-in)", 
        "", 
        "DESCRIPTION", 
        "    This module is always available.  It provides access to the", 
        "    mathematical functions defined by the C standard.", 
        "", 
        "FUNCTIONS", 
        "    acos(...)", 
        "        acos(x)", 
        "        ", 
        "        Return the arc cosine (measured in radians) of x.", 
        "    ", 
        "    acosh(...)", 
        "        acosh(x)", 
        "        ", 
        "        Return the hyperbolic arc cosine (measured in radians) of x.", 
        "    ", 
        "    asin(...)", 
        "        asin(x)", 
        "        ", 
        "        Return the arc sine (measured in radians) of x.", 
        "    ", 
        "    asinh(...)", 
        "        asinh(x)", 
        "        ", 
        "        Return the hyperbolic arc sine (measured in radians) of x.", 
        "    ", 
        "    atan(...)", 
        "        atan(x)", 
        "        ", 
        "        Return the arc tangent (measured in radians) of x.", 
        "    ", 
        "    atan2(...)", 
        "        atan2(y, x)", 
        "        ", 
        "        Return the arc tangent (measured in radians) of y/x.", 
        "        Unlike atan(y/x), the signs of both x and y are considered.", 
        "    ", 
        "    atanh(...)", 
        "        atanh(x)", 
        "        ", 
        "        Return the hyperbolic arc tangent (measured in radians) of x.", 
        "    ", 
        "    ceil(...)", 
        "        ceil(x)", 
        "        ", 
        "        Return the ceiling of x as a float.", 
        "        This is the smallest integral value >= x.", 
        "    ", 
        "    copysign(...)", 
        "        copysign(x, y)", 
        "        ", 
        "        Return x with the sign of y.", 
        "    ", 
        "    cos(...)", 
        "        cos(x)", 
        "        ", 
        "        Return the cosine of x (measured in radians).", 
        "    ", 
        "    cosh(...)", 
        "        cosh(x)", 
        "        ", 
        "        Return the hyperbolic cosine of x.", 
        "    ", 
        "    degrees(...)", 
        "        degrees(x)", 
        "        ", 
        "        Convert angle x from radians to degrees.", 
        "    ", 
        "    erf(...)", 
        "        erf(x)", 
        "        ", 
        "        Error function at x.", 
        "    ", 
        "    erfc(...)", 
        "        erfc(x)", 
        "        ", 
        "        Complementary error function at x.", 
        "    ", 
        "    exp(...)", 
        "        exp(x)", 
        "        ", 
        "        Return e raised to the power of x.", 
        "    ", 
        "    expm1(...)", 
        "        expm1(x)", 
        "        ", 
        "        Return exp(x)-1.", 
        "        This function avoids the loss of precision involved in the direct evaluation of exp(x)-1 for small x.", 
        "    ", 
        "    fabs(...)", 
        "        fabs(x)", 
        "        ", 
        "        Return the absolute value of the float x.", 
        "    ", 
        "    factorial(...)", 
        "        factorial(x) -> Integral", 
        "        ", 
        "        Find x!. Raise a ValueError if x is negative or non-integral.", 
        "    ", 
        "    floor(...)", 
        "        floor(x)", 
        "        ", 
        "        Return the floor of x as a float.", 
        "        This is the largest integral value <= x.", 
        "    ", 
        "    fmod(...)", 
        "        fmod(x, y)", 
        "        ", 
        "        Return fmod(x, y), according to platform C.  x % y may differ.", 
        "    ", 
        "    frexp(...)", 
        "        frexp(x)", 
        "        ", 
        "        Return the mantissa and exponent of x, as pair (m, e).", 
        "        m is a float and e is an int, such that x = m * 2.**e.", 
        "        If x is 0, m and e are both 0.  Else 0.5 <= abs(m) < 1.0.", 
        "    ", 
        "    fsum(...)", 
        "        fsum(iterable)", 
        "        ", 
        "        Return an accurate floating point sum of values in the iterable.", 
        "        Assumes IEEE-754 floating point arithmetic.", 
        "    ", 
        "    gamma(...)", 
        "        gamma(x)", 
        "        ", 
        "        Gamma function at x.", 
        "    ", 
        "    hypot(...)", 
        "        hypot(x, y)", 
        "        ", 
        "        Return the Euclidean distance, sqrt(x*x + y*y).", 
        "    ", 
        "    isinf(...)", 
        "        isinf(x) -> bool", 
        "        ", 
        "        Check if float x is infinite (positive or negative).", 
        "    ", 
        "    isnan(...)", 
        "        isnan(x) -> bool", 
        "        ", 
        "        Check if float x is not a number (NaN).", 
        "    ", 
        "    ldexp(...)", 
        "        ldexp(x, i)", 
        "        ", 
        "        Return x * (2**i).", 
        "    ", 
        "    lgamma(...)", 
        "        lgamma(x)", 
        "        ", 
        "        Natural logarithm of absolute value of Gamma function at x.", 
        "    ", 
        "    log(...)", 
        "        log(x[, base])", 
        "        ", 
        "        Return the logarithm of x to the given base.", 
        "        If the base not specified, returns the natural logarithm (base e) of x.", 
        "    ", 
        "    log10(...)", 
        "        log10(x)", 
        "        ", 
        "        Return the base 10 logarithm of x.", 
        "    ", 
        "    log1p(...)", 
        "        log1p(x)", 
        "        ", 
        "        Return the natural logarithm of 1+x (base e).", 
        "        The result is computed in a way which is accurate for x near zero.", 
        "    ", 
        "    modf(...)", 
        "        modf(x)", 
        "        ", 
        "        Return the fractional and integer parts of x.  Both results carry the sign", 
        "        of x and are floats.", 
        "    ", 
        "    pow(...)", 
        "        pow(x, y)", 
        "        ", 
        "        Return x**y (x to the power of y).", 
        "    ", 
        "    radians(...)", 
        "        radians(x)", 
        "        ", 
        "        Convert angle x from degrees to radians.", 
        "    ", 
        "    sin(...)", 
        "        sin(x)", 
        "        ", 
        "        Return the sine of x (measured in radians).", 
        "    ", 
        "    sinh(...)", 
        "        sinh(x)", 
        "        ", 
        "        Return the hyperbolic sine of x.", 
        "    ", 
        "    sqrt(...)", 
        "        sqrt(x)", 
        "        ", 
        "        Return the square root of x.", 
        "    ", 
        "    tan(...)", 
        "        tan(x)", 
        "        ", 
        "        Return the tangent of x (measured in radians).", 
        "    ", 
        "    tanh(...)", 
        "        tanh(x)", 
        "        ", 
        "        Return the hyperbolic tangent of x.", 
        "    ", 
        "    trunc(...)", 
        "        trunc(x:Real) -> Integral", 
        "        ", 
        "        Truncates x to the nearest Integral toward 0. Uses the __trunc__ magic method.", 
        "", 
        "DATA", 
        "    e = 2.718281828459045", 
        "    pi = 3.141592653589793", 
        "", 
        ""
       ]
      }
     ], 
     "prompt_number": 115
    }, 
    {
     "cell_type": "code", 
     "collapsed": false, 
     "input": [
      "math.sqrt(2)"
     ], 
     "language": "python", 
     "outputs": [
      {
       "output_type": "pyout", 
       "prompt_number": 116, 
       "text": [
        "1.4142135623730951"
       ]
      }
     ], 
     "prompt_number": 116
    }, 
    {
     "cell_type": "code", 
     "collapsed": false, 
     "input": [
      "math.pi"
     ], 
     "language": "python", 
     "outputs": [
      {
       "output_type": "pyout", 
       "prompt_number": 117, 
       "text": [
        "3.141592653589793"
       ]
      }
     ], 
     "prompt_number": 117
    }, 
    {
     "cell_type": "code", 
     "collapsed": false, 
     "input": [
      "math.sin(math.pi / 4)"
     ], 
     "language": "python", 
     "outputs": [
      {
       "output_type": "pyout", 
       "prompt_number": 118, 
       "text": [
        "0.7071067811865475"
       ]
      }
     ], 
     "prompt_number": 118
    }, 
    {
     "cell_type": "markdown", 
     "source": [
      "### Exercises", 
      "", 
      "- Create a python script that prints out its command-line arguments", 
      "- Update `sys.path` in a Python script to be the empty list. What happens when you try to `import os`?", 
      "- Create a Python script that prints out its own absolute path when run using `sys.argv` and ", 
      "  `os.path.abspath`", 
      "- Calculate the value of e raised to the (j * pi) power"
     ]
    }, 
    {
     "cell_type": "markdown", 
     "source": [
      "## The `time` and `datetime` modules", 
      "", 
      "Working with dates and times in Python is performed using these two modules. The `time` module contains", 
      "lower-level C-like timestamp manipulation functions (similar to what you would find in `<time.h>`).", 
      "`datetime` contains higher-level objects for dealing with datetime components:"
     ]
    }, 
    {
     "cell_type": "code", 
     "collapsed": false, 
     "input": [
      "import time", 
      "time.time()"
     ], 
     "language": "python", 
     "outputs": [
      {
       "output_type": "pyout", 
       "prompt_number": 119, 
       "text": [
        "1349368421.4513"
       ]
      }
     ], 
     "prompt_number": 119
    }, 
    {
     "cell_type": "code", 
     "collapsed": false, 
     "input": [
      "time.asctime()"
     ], 
     "language": "python", 
     "outputs": [
      {
       "output_type": "pyout", 
       "prompt_number": 120, 
       "text": [
        "'Fri Oct  5 00:33:41 2012'"
       ]
      }
     ], 
     "prompt_number": 120
    }, 
    {
     "cell_type": "code", 
     "collapsed": false, 
     "input": [
      "time.ctime()"
     ], 
     "language": "python", 
     "outputs": [
      {
       "output_type": "pyout", 
       "prompt_number": 121, 
       "text": [
        "'Fri Oct  5 00:33:41 2012'"
       ]
      }
     ], 
     "prompt_number": 121
    }, 
    {
     "cell_type": "code", 
     "collapsed": false, 
     "input": [
      "time.gmtime()"
     ], 
     "language": "python", 
     "outputs": [
      {
       "output_type": "pyout", 
       "prompt_number": 122, 
       "text": [
        "time.struct_time(tm_year=2012, tm_mon=10, tm_mday=4, tm_hour=16, tm_min=33, tm_sec=41, tm_wday=3, tm_yday=278, tm_isdst=0)"
       ]
      }
     ], 
     "prompt_number": 122
    }, 
    {
     "cell_type": "code", 
     "collapsed": false, 
     "input": [
      "time.mktime(time.gmtime())"
     ], 
     "language": "python", 
     "outputs": [
      {
       "output_type": "pyout", 
       "prompt_number": 123, 
       "text": [
        "1349339621.0"
       ]
      }
     ], 
     "prompt_number": 123
    }, 
    {
     "cell_type": "code", 
     "collapsed": false, 
     "input": [
      "time.localtime()"
     ], 
     "language": "python", 
     "outputs": [
      {
       "output_type": "pyout", 
       "prompt_number": 124, 
       "text": [
        "time.struct_time(tm_year=2012, tm_mon=10, tm_mday=5, tm_hour=0, tm_min=33, tm_sec=41, tm_wday=4, tm_yday=279, tm_isdst=0)"
       ]
      }
     ], 
     "prompt_number": 124
    }, 
    {
     "cell_type": "code", 
     "collapsed": false, 
     "input": [
      "time.mktime(time.localtime())"
     ], 
     "language": "python", 
     "outputs": [
      {
       "output_type": "pyout", 
       "prompt_number": 125, 
       "text": [
        "1349368421.0"
       ]
      }
     ], 
     "prompt_number": 125
    }, 
    {
     "cell_type": "code", 
     "collapsed": true, 
     "input": [
      "time.sleep(0.1)"
     ], 
     "language": "python", 
     "outputs": [], 
     "prompt_number": 126
    }, 
    {
     "cell_type": "code", 
     "collapsed": false, 
     "input": [
      "import datetime", 
      "datetime.datetime.now()"
     ], 
     "language": "python", 
     "outputs": [
      {
       "output_type": "pyout", 
       "prompt_number": 127, 
       "text": [
        "datetime.datetime(2012, 10, 5, 0, 33, 41, 665122)"
       ]
      }
     ], 
     "prompt_number": 127
    }, 
    {
     "cell_type": "code", 
     "collapsed": false, 
     "input": [
      "datetime.datetime.utcnow()"
     ], 
     "language": "python", 
     "outputs": [
      {
       "output_type": "pyout", 
       "prompt_number": 128, 
       "text": [
        "datetime.datetime(2012, 10, 4, 16, 33, 41, 672292)"
       ]
      }
     ], 
     "prompt_number": 128
    }, 
    {
     "cell_type": "code", 
     "collapsed": false, 
     "input": [
      "now = datetime.datetime.utcnow()", 
      "print repr(now.date())", 
      "print repr(now.time())"
     ], 
     "language": "python", 
     "outputs": [
      {
       "output_type": "stream", 
       "stream": "stdout", 
       "text": [
        "datetime.date(2012, 10, 4)", 
        "datetime.time(16, 33, 41, 679374)"
       ]
      }
     ], 
     "prompt_number": 129
    }, 
    {
     "cell_type": "code", 
     "collapsed": false, 
     "input": [
      "now.month"
     ], 
     "language": "python", 
     "outputs": [
      {
       "output_type": "pyout", 
       "prompt_number": 130, 
       "text": [
        "10"
       ]
      }
     ], 
     "prompt_number": 130
    }, 
    {
     "cell_type": "code", 
     "collapsed": false, 
     "input": [
      "now.ctime()"
     ], 
     "language": "python", 
     "outputs": [
      {
       "output_type": "pyout", 
       "prompt_number": 131, 
       "text": [
        "'Thu Oct  4 16:33:41 2012'"
       ]
      }
     ], 
     "prompt_number": 131
    }, 
    {
     "cell_type": "code", 
     "collapsed": false, 
     "input": [
      "now.strftime('%Y-%m-%d')"
     ], 
     "language": "python", 
     "outputs": [
      {
       "output_type": "pyout", 
       "prompt_number": 132, 
       "text": [
        "'2012-10-04'"
       ]
      }
     ], 
     "prompt_number": 132
    }, 
    {
     "cell_type": "code", 
     "collapsed": false, 
     "input": [
      "datetime.datetime.strptime('2012-10-05', '%Y-%m-%d')"
     ], 
     "language": "python", 
     "outputs": [
      {
       "output_type": "pyout", 
       "prompt_number": 133, 
       "text": [
        "datetime.datetime(2012, 10, 5, 0, 0)"
       ]
      }
     ], 
     "prompt_number": 133
    }, 
    {
     "cell_type": "code", 
     "collapsed": false, 
     "input": [
      "now.timetuple()"
     ], 
     "language": "python", 
     "outputs": [
      {
       "output_type": "pyout", 
       "prompt_number": 134, 
       "text": [
        "time.struct_time(tm_year=2012, tm_mon=10, tm_mday=4, tm_hour=16, tm_min=33, tm_sec=41, tm_wday=3, tm_yday=278, tm_isdst=-1)"
       ]
      }
     ], 
     "prompt_number": 134
    }, 
    {
     "cell_type": "code", 
     "collapsed": false, 
     "input": [
      "time.mktime(now.timetuple())"
     ], 
     "language": "python", 
     "outputs": [
      {
       "output_type": "pyout", 
       "prompt_number": 135, 
       "text": [
        "1349339621.0"
       ]
      }
     ], 
     "prompt_number": 135
    }, 
    {
     "cell_type": "code", 
     "collapsed": false, 
     "input": [
      "datetime.date.today()"
     ], 
     "language": "python", 
     "outputs": [
      {
       "output_type": "pyout", 
       "prompt_number": 136, 
       "text": [
        "datetime.date(2012, 10, 5)"
       ]
      }
     ], 
     "prompt_number": 136
    }, 
    {
     "cell_type": "code", 
     "collapsed": false, 
     "input": [
      "datetime.date.min"
     ], 
     "language": "python", 
     "outputs": [
      {
       "output_type": "pyout", 
       "prompt_number": 137, 
       "text": [
        "datetime.date(1, 1, 1)"
       ]
      }
     ], 
     "prompt_number": 137
    }, 
    {
     "cell_type": "code", 
     "collapsed": false, 
     "input": [
      "datetime.date.max"
     ], 
     "language": "python", 
     "outputs": [
      {
       "output_type": "pyout", 
       "prompt_number": 138, 
       "text": [
        "datetime.date(9999, 12, 31)"
       ]
      }
     ], 
     "prompt_number": 138
    }, 
    {
     "cell_type": "code", 
     "collapsed": false, 
     "input": [
      "datetime.time.min"
     ], 
     "language": "python", 
     "outputs": [
      {
       "output_type": "pyout", 
       "prompt_number": 139, 
       "text": [
        "datetime.time(0, 0)"
       ]
      }
     ], 
     "prompt_number": 139
    }, 
    {
     "cell_type": "code", 
     "collapsed": false, 
     "input": [
      "datetime.time.max"
     ], 
     "language": "python", 
     "outputs": [
      {
       "output_type": "pyout", 
       "prompt_number": 140, 
       "text": [
        "datetime.time(23, 59, 59, 999999)"
       ]
      }
     ], 
     "prompt_number": 140
    }, 
    {
     "cell_type": "code", 
     "collapsed": false, 
     "input": [
      "local_now = datetime.datetime.now()", 
      "utc_now = datetime.datetime.utcnow()", 
      "difference = utc_now - local_now", 
      "difference"
     ], 
     "language": "python", 
     "outputs": [
      {
       "output_type": "pyout", 
       "prompt_number": 141, 
       "text": [
        "datetime.timedelta(-1, 57600, 136)"
       ]
      }
     ], 
     "prompt_number": 141
    }, 
    {
     "cell_type": "markdown", 
     "source": [
      "## Files and `StringIO`", 
      "", 
      "We've touched a bit on files (`sys.stdin`, etc.) but not much. Files are opened using the `open` ", 
      "builtin:"
     ]
    }, 
    {
     "cell_type": "code", 
     "collapsed": true, 
     "input": [
      "fp = open('Using Modules.ipynb')"
     ], 
     "language": "python", 
     "outputs": [], 
     "prompt_number": 142
    }, 
    {
     "cell_type": "code", 
     "collapsed": false, 
     "input": [
      "fp.read(100)"
     ], 
     "language": "python", 
     "outputs": [
      {
       "output_type": "pyout", 
       "prompt_number": 143, 
       "text": [
        "'{\\n \"metadata\": {\\n  \"name\": \"Using Modules\"\\n }, \\n \"nbformat\": 2, \\n \"worksheets\": [\\n  {\\n   \"cells\": [\\n'"
       ]
      }
     ], 
     "prompt_number": 143
    }, 
    {
     "cell_type": "code", 
     "collapsed": false, 
     "input": [
      "fp.seek(10)", 
      "fp.read(100)"
     ], 
     "language": "python", 
     "outputs": [
      {
       "output_type": "pyout", 
       "prompt_number": 144, 
       "text": [
        "'ta\": {\\n  \"name\": \"Using Modules\"\\n }, \\n \"nbformat\": 2, \\n \"worksheets\": [\\n  {\\n   \"cells\": [\\n    {\\n    '"
       ]
      }
     ], 
     "prompt_number": 144
    }, 
    {
     "cell_type": "markdown", 
     "source": [
      "We can also treat a file as a sequence of lines:"
     ]
    }, 
    {
     "cell_type": "code", 
     "collapsed": false, 
     "input": [
      "fp.seek(0)", 
      "num_lines = 0", 
      "for line in fp:", 
      "    num_lines += 1", 
      "num_lines"
     ], 
     "language": "python", 
     "outputs": [
      {
       "output_type": "pyout", 
       "prompt_number": 145, 
       "text": [
        "1856"
       ]
      }
     ], 
     "prompt_number": 145
    }, 
    {
     "cell_type": "markdown", 
     "source": [
      "Many places where we might want to use a file, it's actually more convenient to use a string. In those", 
      "cases, we can create a *file-like object* using the `StringIO` module:"
     ]
    }, 
    {
     "cell_type": "code", 
     "collapsed": true, 
     "input": [
      "import StringIO", 
      "fp = StringIO.StringIO('This is a file-like object')"
     ], 
     "language": "python", 
     "outputs": [], 
     "prompt_number": 146
    }, 
    {
     "cell_type": "code", 
     "collapsed": false, 
     "input": [
      "fp.read()"
     ], 
     "language": "python", 
     "outputs": [
      {
       "output_type": "pyout", 
       "prompt_number": 147, 
       "text": [
        "'This is a file-like object'"
       ]
      }
     ], 
     "prompt_number": 147
    }, 
    {
     "cell_type": "code", 
     "collapsed": false, 
     "input": [
      "fp.seek(4)", 
      "fp.read(10)"
     ], 
     "language": "python", 
     "outputs": [
      {
       "output_type": "pyout", 
       "prompt_number": 148, 
       "text": [
        "' is a file'"
       ]
      }
     ], 
     "prompt_number": 148
    }, 
    {
     "cell_type": "code", 
     "collapsed": false, 
     "input": [
      "fp.tell()"
     ], 
     "language": "python", 
     "outputs": [
      {
       "output_type": "pyout", 
       "prompt_number": 149, 
       "text": [
        "14"
       ]
      }
     ], 
     "prompt_number": 149
    }, 
    {
     "cell_type": "markdown", 
     "source": [
      "We can also write to file-like objects:"
     ]
    }, 
    {
     "cell_type": "code", 
     "collapsed": true, 
     "input": [
      "fp = StringIO.StringIO()", 
      "fp.write('Hello, there')"
     ], 
     "language": "python", 
     "outputs": [], 
     "prompt_number": 150
    }, 
    {
     "cell_type": "code", 
     "collapsed": false, 
     "input": [
      "fp.seek(0)", 
      "fp.read()"
     ], 
     "language": "python", 
     "outputs": [
      {
       "output_type": "pyout", 
       "prompt_number": 151, 
       "text": [
        "'Hello, there'"
       ]
      }
     ], 
     "prompt_number": 151
    }, 
    {
     "cell_type": "markdown", 
     "source": [
      "We can also get the underlying buffer of the object using `getvalue()`:"
     ]
    }, 
    {
     "cell_type": "code", 
     "collapsed": false, 
     "input": [
      "fp.getvalue()"
     ], 
     "language": "python", 
     "outputs": [
      {
       "output_type": "pyout", 
       "prompt_number": 152, 
       "text": [
        "'Hello, there'"
       ]
      }
     ], 
     "prompt_number": 152
    }, 
    {
     "cell_type": "markdown", 
     "source": [
      "# Debugging using `pdb`", 
      "", 
      "We can enter an interactive debugger from a Python file by importing the `pdb` module and setting", 
      "a breakpoint:", 
      "", 
      "    import pdb", 
      "    pdb.set_trace()"
     ]
    }, 
    {
     "cell_type": "markdown", 
     "source": [
      "### Exercises", 
      "", 
      "- Write a script that prints the current value of `time.time()` every second", 
      "- Update the script to print the value of `datetime.datetime.now()`", 
      "- Update to print the value of `datetime.datetime.utcnow()`", 
      "- Write a function to convert from a datetime object (as in `datetime.datetime.utcnow()` into a", 
      "  \"seconds since the epoch\" timestamp (as in `time.time()`)", 
      "- Write a function `count_lines(file)` that takes a file as input and returns the number of lines ", 
      "  in the file", 
      "- Create a `StringIO` object that contains several '\\n' characters. Pass that object to your ", 
      "  `count_lines` function. ", 
      "- Add the following line to your `count_lines` function at the beginning: ", 
      "  `import pdb; pdb.set_trace()`. Step through the execution of the function using 'n'. (You can also ", 
      "  (c)ontinue running the program to exit the debugger.)", 
      "- `import hashlib`. Use `dir()` to determine the contents of the hashlib module. Which hashing modules", 
      "  are available?"
     ]
    }
   ]
  }
 ]
}